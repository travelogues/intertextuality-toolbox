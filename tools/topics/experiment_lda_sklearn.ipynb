{
 "nbformat": 4,
 "nbformat_minor": 2,
 "metadata": {
  "language_info": {
   "name": "python",
   "codemirror_mode": {
    "name": "ipython",
    "version": 3
   },
   "version": "3.6.5-final"
  },
  "orig_nbformat": 2,
  "file_extension": ".py",
  "mimetype": "text/x-python",
  "name": "python",
  "npconvert_exporter": "python",
  "pygments_lexer": "ipython3",
  "version": 3,
  "kernelspec": {
   "name": "python3",
   "display_name": "Python 3"
  }
 },
 "cells": [
  {
   "cell_type": "code",
   "execution_count": 1,
   "metadata": {},
   "outputs": [
    {
     "data": {
      "text/plain": "'Loaded 66 texts'"
     },
     "execution_count": 1,
     "metadata": {},
     "output_type": "execute_result"
    }
   ],
   "source": [
    "import glob\n",
    "import re\n",
    "\n",
    "INPUT_FOLDER = '../../../travelogues-corpus/16th_century/books'\n",
    "\n",
    "def read_file(f):\n",
    "  with open(f, 'r') as file:\n",
    "    str = file.read()\n",
    "    ascii_only = re.sub('[^A-Za-z0-9 ]+', '', str)\n",
    "    return re.sub('\\\\s+', ' ', ascii_only)\n",
    "\n",
    "filenames = [f for f in glob.glob(INPUT_FOLDER + '**/*.txt')]\n",
    "texts = [ read_file(f) for f in filenames ]\n",
    "\n",
    "f'Loaded {len(texts)} texts'"
   ]
  },
  {
   "cell_type": "code",
   "execution_count": 2,
   "metadata": {},
   "outputs": [],
   "source": [
    "extra_stopwords = []\n",
    "\n",
    "with open('stopwords.txt') as f:\n",
    "  extra_stopwords = f.readlines()\n",
    "  extra_stopwords = [ x.strip() for x in extra_stopwords ]"
   ]
  },
  {
   "cell_type": "code",
   "execution_count": 3,
   "metadata": {},
   "outputs": [
    {
     "name": "stdout",
     "output_type": "stream",
     "text": "[nltk_data] Downloading package stopwords to /home/simonr/nltk_data...\n[nltk_data]   Package stopwords is already up-to-date!\n"
    }
   ],
   "source": [
    "import nltk\n",
    "\n",
    "nltk.download('stopwords')\n",
    "\n",
    "from nltk.corpus import stopwords\n",
    "\n",
    "stop_words = stopwords.words('german')\n",
    "stop_words.extend(extra_stopwords)\n",
    "stop_words.sort()"
   ]
  },
  {
   "cell_type": "code",
   "execution_count": 4,
   "metadata": {},
   "outputs": [],
   "source": [
    "from nltk.stem import PorterStemmer\n",
    "from nltk.tokenize import word_tokenize\n",
    "from wordcloud import WordCloud\n",
    "import itertools\n",
    "import matplotlib.pyplot as plt\n",
    "import string\n",
    "\n",
    "# We'll do stemming to avoid duplicate variants\n",
    "porter = PorterStemmer()\n",
    "\n",
    "def stem_message(text):\n",
    "  words = word_tokenize(text)\n",
    "\n",
    "  stemmed_words = []\n",
    "  for word in words:\n",
    "    stemmed_words.append(porter.stem(word))\n",
    "    \n",
    "  # Remove stopwords here\n",
    "  clean_tokens = [w for w in stemmed_words if not w in stop_words and len(w) > 3] \n",
    "  return ' '.join(clean_tokens)\n",
    "\n",
    "cleaned_texts = []\n",
    "for text in texts:\n",
    "  # Remove punctutation\n",
    "  text = text.translate(str.maketrans('', '', string.punctuation))\n",
    "  cleaned_texts.append(stem_message(text))"
   ]
  },
  {
   "cell_type": "code",
   "execution_count": 5,
   "metadata": {},
   "outputs": [
    {
     "name": "stderr",
     "output_type": "stream",
     "text": "/home/simonr/Software/anaconda3/lib/python3.6/site-packages/sklearn/decomposition/online_lda.py:536: DeprecationWarning: The default value for 'learning_method' will be changed from 'online' to 'batch' in the release 0.20. This warning was introduced in 0.18.\n  DeprecationWarning)\n"
    },
    {
     "data": {
      "text/plain": "LatentDirichletAllocation(batch_size=128, doc_topic_prior=None,\n             evaluate_every=-1, learning_decay=0.7, learning_method=None,\n             learning_offset=10.0, max_doc_update_iter=100, max_iter=10,\n             mean_change_tol=0.001, n_components=4, n_jobs=1,\n             n_topics=None, perp_tol=0.1, random_state=0,\n             topic_word_prior=None, total_samples=1000000.0, verbose=0)"
     },
     "execution_count": 5,
     "metadata": {},
     "output_type": "execute_result"
    }
   ],
   "source": [
    "from sklearn.feature_extraction.text import CountVectorizer\n",
    "from sklearn.decomposition import LatentDirichletAllocation\n",
    "\n",
    "vectorizer = CountVectorizer(max_df=0.9, min_df=25, token_pattern='\\w+|\\$[\\d\\.]+|\\S+')\n",
    "tf = vectorizer.fit_transform(cleaned_texts).toarray()\n",
    "\n",
    "tf_feature_names = vectorizer.get_feature_names()\n",
    "\n",
    "number_of_topics = 4\n",
    "model = LatentDirichletAllocation(n_components=number_of_topics, random_state=0)\n",
    "model.fit(tf)"
   ]
  },
  {
   "cell_type": "code",
   "execution_count": 6,
   "metadata": {},
   "outputs": [
    {
     "data": {
      "text/html": "<div>\n<style scoped>\n    .dataframe tbody tr th:only-of-type {\n        vertical-align: middle;\n    }\n\n    .dataframe tbody tr th {\n        vertical-align: top;\n    }\n\n    .dataframe thead th {\n        text-align: right;\n    }\n</style>\n<table border=\"1\" class=\"dataframe\">\n  <thead>\n    <tr style=\"text-align: right;\">\n      <th></th>\n      <th>Topic 0 words</th>\n      <th>Topic 0 weights</th>\n      <th>Topic 1 words</th>\n      <th>Topic 1 weights</th>\n      <th>Topic 2 words</th>\n      <th>Topic 2 weights</th>\n      <th>Topic 3 words</th>\n      <th>Topic 3 weights</th>\n    </tr>\n  </thead>\n  <tbody>\n    <tr>\n      <th>0</th>\n      <td>schiff</td>\n      <td>1671.0</td>\n      <td>berg</td>\n      <td>1286.4</td>\n      <td>trcken</td>\n      <td>1362.4</td>\n      <td>krieg</td>\n      <td>756.7</td>\n    </tr>\n    <tr>\n      <th>1</th>\n      <td>insel</td>\n      <td>732.0</td>\n      <td>meer</td>\n      <td>1090.7</td>\n      <td>feind</td>\n      <td>805.6</td>\n      <td>feind</td>\n      <td>654.9</td>\n    </tr>\n    <tr>\n      <th>2</th>\n      <td>wilden</td>\n      <td>712.1</td>\n      <td>heiligen</td>\n      <td>907.9</td>\n      <td>namen</td>\n      <td>732.7</td>\n      <td>trcken</td>\n      <td>642.2</td>\n    </tr>\n    <tr>\n      <th>3</th>\n      <td>meer</td>\n      <td>684.2</td>\n      <td>herr</td>\n      <td>886.9</td>\n      <td>herrn</td>\n      <td>569.6</td>\n      <td>kirchen</td>\n      <td>614.1</td>\n    </tr>\n    <tr>\n      <th>4</th>\n      <td>hatt</td>\n      <td>668.5</td>\n      <td>christen</td>\n      <td>791.7</td>\n      <td>christen</td>\n      <td>490.8</td>\n      <td>priester</td>\n      <td>561.8</td>\n    </tr>\n    <tr>\n      <th>5</th>\n      <td>dritt</td>\n      <td>481.6</td>\n      <td>weit</td>\n      <td>737.4</td>\n      <td>groen</td>\n      <td>480.0</td>\n      <td>dieweil</td>\n      <td>547.0</td>\n    </tr>\n    <tr>\n      <th>6</th>\n      <td>were</td>\n      <td>455.7</td>\n      <td>herrn</td>\n      <td>658.8</td>\n      <td>krieg</td>\n      <td>462.1</td>\n      <td>johann</td>\n      <td>546.5</td>\n    </tr>\n    <tr>\n      <th>7</th>\n      <td>waffer</td>\n      <td>444.4</td>\n      <td>schiff</td>\n      <td>647.7</td>\n      <td>meer</td>\n      <td>450.8</td>\n      <td>halben</td>\n      <td>529.6</td>\n    </tr>\n    <tr>\n      <th>8</th>\n      <td>groe</td>\n      <td>435.9</td>\n      <td>stadt</td>\n      <td>639.3</td>\n      <td>alten</td>\n      <td>445.0</td>\n      <td>bald</td>\n      <td>525.0</td>\n    </tr>\n    <tr>\n      <th>9</th>\n      <td>indien</td>\n      <td>424.0</td>\n      <td>venedig</td>\n      <td>620.9</td>\n      <td>jnen</td>\n      <td>440.6</td>\n      <td>christen</td>\n      <td>503.8</td>\n    </tr>\n    <tr>\n      <th>10</th>\n      <td>schiffen</td>\n      <td>414.5</td>\n      <td>heilig</td>\n      <td>607.2</td>\n      <td>theil</td>\n      <td>409.5</td>\n      <td>knigreich</td>\n      <td>498.0</td>\n    </tr>\n    <tr>\n      <th>11</th>\n      <td>namen</td>\n      <td>413.8</td>\n      <td>wollten</td>\n      <td>574.2</td>\n      <td>trckischen</td>\n      <td>399.9</td>\n      <td>dafi</td>\n      <td>471.8</td>\n    </tr>\n    <tr>\n      <th>12</th>\n      <td>volck</td>\n      <td>410.3</td>\n      <td>kirchen</td>\n      <td>543.5</td>\n      <td>leben</td>\n      <td>394.1</td>\n      <td>groffen</td>\n      <td>450.6</td>\n    </tr>\n    <tr>\n      <th>13</th>\n      <td>leben</td>\n      <td>409.8</td>\n      <td>tempel</td>\n      <td>513.2</td>\n      <td>reich</td>\n      <td>382.8</td>\n      <td>mgen</td>\n      <td>450.1</td>\n    </tr>\n    <tr>\n      <th>14</th>\n      <td>groen</td>\n      <td>408.1</td>\n      <td>nacht</td>\n      <td>509.9</td>\n      <td>groe</td>\n      <td>381.7</td>\n      <td>weit</td>\n      <td>445.9</td>\n    </tr>\n    <tr>\n      <th>15</th>\n      <td>theil</td>\n      <td>399.4</td>\n      <td>herren</td>\n      <td>505.7</td>\n      <td>dieweil</td>\n      <td>376.8</td>\n      <td>meer</td>\n      <td>443.1</td>\n    </tr>\n    <tr>\n      <th>16</th>\n      <td>knnen</td>\n      <td>381.9</td>\n      <td>waffer</td>\n      <td>488.2</td>\n      <td>volck</td>\n      <td>370.7</td>\n      <td>reich</td>\n      <td>443.0</td>\n    </tr>\n    <tr>\n      <th>17</th>\n      <td>klein</td>\n      <td>374.0</td>\n      <td>trcken</td>\n      <td>480.8</td>\n      <td>sohn</td>\n      <td>368.2</td>\n      <td>zeit</td>\n      <td>441.8</td>\n    </tr>\n    <tr>\n      <th>18</th>\n      <td>halben</td>\n      <td>369.7</td>\n      <td>insel</td>\n      <td>441.8</td>\n      <td>knigreich</td>\n      <td>364.4</td>\n      <td>glauben</td>\n      <td>433.7</td>\n    </tr>\n    <tr>\n      <th>19</th>\n      <td>weit</td>\n      <td>367.6</td>\n      <td>hatt</td>\n      <td>440.6</td>\n      <td>herr</td>\n      <td>351.3</td>\n      <td>herr</td>\n      <td>433.5</td>\n    </tr>\n  </tbody>\n</table>\n</div>",
      "text/plain": "   Topic 0 words Topic 0 weights Topic 1 words Topic 1 weights Topic 2 words Topic 2 weights Topic 3 words Topic 3 weights\n0         schiff          1671.0          berg          1286.4        trcken          1362.4         krieg           756.7\n1          insel           732.0          meer          1090.7         feind           805.6         feind           654.9\n2         wilden           712.1      heiligen           907.9         namen           732.7        trcken           642.2\n3           meer           684.2          herr           886.9         herrn           569.6       kirchen           614.1\n4           hatt           668.5      christen           791.7      christen           490.8      priester           561.8\n5          dritt           481.6          weit           737.4         groen           480.0       dieweil           547.0\n6           were           455.7         herrn           658.8         krieg           462.1        johann           546.5\n7         waffer           444.4        schiff           647.7          meer           450.8        halben           529.6\n8           groe           435.9         stadt           639.3         alten           445.0          bald           525.0\n9         indien           424.0       venedig           620.9          jnen           440.6      christen           503.8\n10      schiffen           414.5        heilig           607.2         theil           409.5     knigreich           498.0\n11         namen           413.8       wollten           574.2    trckischen           399.9          dafi           471.8\n12         volck           410.3       kirchen           543.5         leben           394.1       groffen           450.6\n13         leben           409.8        tempel           513.2         reich           382.8          mgen           450.1\n14         groen           408.1         nacht           509.9          groe           381.7          weit           445.9\n15         theil           399.4        herren           505.7       dieweil           376.8          meer           443.1\n16         knnen           381.9        waffer           488.2         volck           370.7         reich           443.0\n17         klein           374.0        trcken           480.8          sohn           368.2          zeit           441.8\n18        halben           369.7         insel           441.8     knigreich           364.4       glauben           433.7\n19          weit           367.6          hatt           440.6          herr           351.3          herr           433.5"
     },
     "execution_count": 6,
     "metadata": {},
     "output_type": "execute_result"
    }
   ],
   "source": [
    "import pandas as pd\n",
    "\n",
    "def display_topics(model, feature_names, no_top_words):\n",
    "    topic_dict = {}\n",
    "    for topic_idx, topic in enumerate(model.components_):\n",
    "        topic_dict[\"Topic %d words\" % (topic_idx)]= ['{}'.format(feature_names[i])\n",
    "                        for i in topic.argsort()[:-no_top_words - 1:-1]]\n",
    "        topic_dict[\"Topic %d weights\" % (topic_idx)]= ['{:.1f}'.format(topic[i])\n",
    "                        for i in topic.argsort()[:-no_top_words - 1:-1]]\n",
    "    return pd.DataFrame(topic_dict)\n",
    "\n",
    "no_top_words = 20\n",
    "pd.set_option('display.max_columns', 500)\n",
    "pd.set_option('display.width', 1000)\n",
    "display_topics(model, tf_feature_names, no_top_words)"
   ]
  },
  {
   "cell_type": "code",
   "execution_count": null,
   "metadata": {},
   "outputs": [],
   "source": []
  }
 ]
}