{
 "nbformat": 4,
 "nbformat_minor": 2,
 "metadata": {
  "language_info": {
   "name": "python",
   "codemirror_mode": {
    "name": "ipython",
    "version": 3
   },
   "version": "3.6.5-final"
  },
  "orig_nbformat": 2,
  "file_extension": ".py",
  "mimetype": "text/x-python",
  "name": "python",
  "npconvert_exporter": "python",
  "pygments_lexer": "ipython3",
  "version": 3,
  "kernelspec": {
   "name": "python3",
   "display_name": "Python 3"
  }
 },
 "cells": [
  {
   "cell_type": "code",
   "execution_count": 1,
   "metadata": {},
   "outputs": [
    {
     "data": {
      "text/plain": "'Loaded 204 texts'"
     },
     "execution_count": 1,
     "metadata": {},
     "output_type": "execute_result"
    }
   ],
   "source": [
    "import glob\n",
    "import re\n",
    "\n",
    "INPUT_FOLDER = '../../../travelogues-corpus/17th_century/books'\n",
    "\n",
    "def read_file(f):\n",
    "  with open(f, 'r') as file:\n",
    "    str = file.read()\n",
    "    ascii_only = re.sub('[^A-Za-z0-9 ]+', '', str)\n",
    "    return re.sub('\\\\s+', ' ', ascii_only)\n",
    "\n",
    "filenames = [f for f in glob.glob(INPUT_FOLDER + '**/*.txt')]\n",
    "texts = [ read_file(f) for f in filenames ]\n",
    "\n",
    "f'Loaded {len(texts)} texts'"
   ]
  },
  {
   "cell_type": "code",
   "execution_count": 2,
   "metadata": {},
   "outputs": [],
   "source": [
    "extra_stopwords = []\n",
    "\n",
    "with open('stopwords.txt') as f:\n",
    "  extra_stopwords = f.readlines()\n",
    "  extra_stopwords = [ x.strip() for x in extra_stopwords ]"
   ]
  },
  {
   "cell_type": "code",
   "execution_count": 3,
   "metadata": {},
   "outputs": [
    {
     "name": "stdout",
     "output_type": "stream",
     "text": "[nltk_data] Downloading package stopwords to /home/simonr/nltk_data...\n[nltk_data]   Package stopwords is already up-to-date!\n"
    }
   ],
   "source": [
    "import nltk\n",
    "\n",
    "nltk.download('stopwords')\n",
    "\n",
    "from nltk.corpus import stopwords\n",
    "\n",
    "stop_words = stopwords.words('german')\n",
    "stop_words.extend(extra_stopwords)\n",
    "stop_words.sort()"
   ]
  },
  {
   "cell_type": "code",
   "execution_count": 4,
   "metadata": {},
   "outputs": [],
   "source": [
    "from nltk.stem import PorterStemmer\n",
    "from nltk.tokenize import word_tokenize\n",
    "from wordcloud import WordCloud\n",
    "import itertools\n",
    "import matplotlib.pyplot as plt\n",
    "import string\n",
    "\n",
    "# We'll do stemming to avoid duplicate variants\n",
    "porter = PorterStemmer()\n",
    "\n",
    "def stem_message(text):\n",
    "  words = word_tokenize(text)\n",
    "\n",
    "  stemmed_words = []\n",
    "  for word in words:\n",
    "    stemmed_words.append(porter.stem(word))\n",
    "    \n",
    "  # Remove stopwords here\n",
    "  clean_tokens = [w for w in stemmed_words if not w in stop_words and len(w) > 3] \n",
    "  return ' '.join(clean_tokens)\n",
    "\n",
    "cleaned_texts = []\n",
    "for text in texts:\n",
    "  # Remove punctutation\n",
    "  text = text.translate(str.maketrans('', '', string.punctuation))\n",
    "  cleaned_texts.append(stem_message(text))"
   ]
  },
  {
   "cell_type": "code",
   "execution_count": 5,
   "metadata": {},
   "outputs": [
    {
     "name": "stderr",
     "output_type": "stream",
     "text": "/home/simonr/Software/anaconda3/lib/python3.6/site-packages/sklearn/decomposition/online_lda.py:536: DeprecationWarning: The default value for 'learning_method' will be changed from 'online' to 'batch' in the release 0.20. This warning was introduced in 0.18.\n  DeprecationWarning)\n"
    },
    {
     "data": {
      "text/plain": "LatentDirichletAllocation(batch_size=128, doc_topic_prior=None,\n             evaluate_every=-1, learning_decay=0.7, learning_method=None,\n             learning_offset=10.0, max_doc_update_iter=100, max_iter=10,\n             mean_change_tol=0.001, n_components=8, n_jobs=1,\n             n_topics=None, perp_tol=0.1, random_state=0,\n             topic_word_prior=None, total_samples=1000000.0, verbose=0)"
     },
     "execution_count": 5,
     "metadata": {},
     "output_type": "execute_result"
    }
   ],
   "source": [
    "from sklearn.feature_extraction.text import CountVectorizer\n",
    "from sklearn.decomposition import LatentDirichletAllocation\n",
    "\n",
    "vectorizer = CountVectorizer(max_df=0.9, min_df=25, token_pattern='\\w+|\\$[\\d\\.]+|\\S+')\n",
    "tf = vectorizer.fit_transform(cleaned_texts).toarray()\n",
    "\n",
    "tf_feature_names = vectorizer.get_feature_names()\n",
    "\n",
    "number_of_topics = 8\n",
    "model = LatentDirichletAllocation(n_components=number_of_topics, random_state=0)\n",
    "model.fit(tf)"
   ]
  },
  {
   "cell_type": "code",
   "execution_count": 6,
   "metadata": {},
   "outputs": [
    {
     "data": {
      "text/html": "<div>\n<style scoped>\n    .dataframe tbody tr th:only-of-type {\n        vertical-align: middle;\n    }\n\n    .dataframe tbody tr th {\n        vertical-align: top;\n    }\n\n    .dataframe thead th {\n        text-align: right;\n    }\n</style>\n<table border=\"1\" class=\"dataframe\">\n  <thead>\n    <tr style=\"text-align: right;\">\n      <th></th>\n      <th>Topic 0 words</th>\n      <th>Topic 0 weights</th>\n      <th>Topic 1 words</th>\n      <th>Topic 1 weights</th>\n      <th>Topic 2 words</th>\n      <th>Topic 2 weights</th>\n      <th>Topic 3 words</th>\n      <th>Topic 3 weights</th>\n      <th>Topic 4 words</th>\n      <th>Topic 4 weights</th>\n      <th>Topic 5 words</th>\n      <th>Topic 5 weights</th>\n      <th>Topic 6 words</th>\n      <th>Topic 6 weights</th>\n      <th>Topic 7 words</th>\n      <th>Topic 7 weights</th>\n    </tr>\n  </thead>\n  <tbody>\n    <tr>\n      <th>0</th>\n      <td>berg</td>\n      <td>35.7</td>\n      <td>stadt</td>\n      <td>1868.9</td>\n      <td>geandten</td>\n      <td>329.7</td>\n      <td>berg</td>\n      <td>4146.6</td>\n      <td>stadt</td>\n      <td>5332.5</td>\n      <td>stadt</td>\n      <td>3963.3</td>\n      <td>berg</td>\n      <td>2007.1</td>\n      <td>stadt</td>\n      <td>1739.7</td>\n    </tr>\n    <tr>\n      <th>1</th>\n      <td>stadt</td>\n      <td>23.1</td>\n      <td>berg</td>\n      <td>1011.7</td>\n      <td>stadt</td>\n      <td>276.5</td>\n      <td>trcken</td>\n      <td>2907.7</td>\n      <td>tage</td>\n      <td>3017.6</td>\n      <td>herrn</td>\n      <td>1827.9</td>\n      <td>namen</td>\n      <td>1223.3</td>\n      <td>tage</td>\n      <td>1343.2</td>\n    </tr>\n    <tr>\n      <th>2</th>\n      <td>trcken</td>\n      <td>17.6</td>\n      <td>keyer</td>\n      <td>966.8</td>\n      <td>bechreibung</td>\n      <td>162.5</td>\n      <td>kirchen</td>\n      <td>2881.0</td>\n      <td>sehen</td>\n      <td>2923.1</td>\n      <td>tage</td>\n      <td>1433.7</td>\n      <td>volck</td>\n      <td>1221.8</td>\n      <td>laen</td>\n      <td>905.2</td>\n    </tr>\n    <tr>\n      <th>3</th>\n      <td>herrn</td>\n      <td>15.7</td>\n      <td>reich</td>\n      <td>831.8</td>\n      <td>knige</td>\n      <td>147.1</td>\n      <td>christen</td>\n      <td>2861.1</td>\n      <td>theil</td>\n      <td>2796.3</td>\n      <td>herzog</td>\n      <td>1336.5</td>\n      <td>inel</td>\n      <td>1195.8</td>\n      <td>knige</td>\n      <td>892.3</td>\n    </tr>\n    <tr>\n      <th>4</th>\n      <td>heiligen</td>\n      <td>14.4</td>\n      <td>japan</td>\n      <td>788.7</td>\n      <td>meilen</td>\n      <td>142.3</td>\n      <td>heiligen</td>\n      <td>2620.0</td>\n      <td>waffer</td>\n      <td>2571.9</td>\n      <td>theil</td>\n      <td>1191.0</td>\n      <td>herrn</td>\n      <td>1138.9</td>\n      <td>nahmen</td>\n      <td>755.0</td>\n    </tr>\n    <tr>\n      <th>5</th>\n      <td>namen</td>\n      <td>13.5</td>\n      <td>theil</td>\n      <td>775.8</td>\n      <td>laen</td>\n      <td>119.3</td>\n      <td>herrn</td>\n      <td>2527.2</td>\n      <td>erst</td>\n      <td>2268.1</td>\n      <td>herr</td>\n      <td>1187.7</td>\n      <td>admir</td>\n      <td>1128.5</td>\n      <td>menchen</td>\n      <td>676.3</td>\n    </tr>\n    <tr>\n      <th>6</th>\n      <td>laen</td>\n      <td>13.5</td>\n      <td>eynd</td>\n      <td>766.7</td>\n      <td>namen</td>\n      <td>115.6</td>\n      <td>jerusalem</td>\n      <td>2439.0</td>\n      <td>indien</td>\n      <td>2252.1</td>\n      <td>waffer</td>\n      <td>1183.0</td>\n      <td>herr</td>\n      <td>1067.2</td>\n      <td>knigreich</td>\n      <td>674.8</td>\n    </tr>\n    <tr>\n      <th>7</th>\n      <td>theil</td>\n      <td>12.7</td>\n      <td>alten</td>\n      <td>743.6</td>\n      <td>tage</td>\n      <td>114.1</td>\n      <td>herr</td>\n      <td>2416.0</td>\n      <td>lassen</td>\n      <td>2162.4</td>\n      <td>abend</td>\n      <td>1068.4</td>\n      <td>trcken</td>\n      <td>1059.7</td>\n      <td>leut</td>\n      <td>660.2</td>\n    </tr>\n    <tr>\n      <th>8</th>\n      <td>hand</td>\n      <td>12.2</td>\n      <td>laen</td>\n      <td>728.6</td>\n      <td>chan</td>\n      <td>112.5</td>\n      <td>stadt</td>\n      <td>2202.1</td>\n      <td>sachen</td>\n      <td>1976.3</td>\n      <td>hand</td>\n      <td>1057.4</td>\n      <td>mittag</td>\n      <td>1043.3</td>\n      <td>inel</td>\n      <td>631.8</td>\n    </tr>\n    <tr>\n      <th>9</th>\n      <td>herr</td>\n      <td>11.2</td>\n      <td>ehen</td>\n      <td>723.6</td>\n      <td>eynd</td>\n      <td>102.1</td>\n      <td>waffer</td>\n      <td>2065.4</td>\n      <td>hand</td>\n      <td>1963.7</td>\n      <td>berg</td>\n      <td>960.6</td>\n      <td>wirdt</td>\n      <td>1033.3</td>\n      <td>ahen</td>\n      <td>585.6</td>\n    </tr>\n    <tr>\n      <th>10</th>\n      <td>kirchen</td>\n      <td>11.0</td>\n      <td>kirchen</td>\n      <td>669.8</td>\n      <td>reie</td>\n      <td>94.6</td>\n      <td>namen</td>\n      <td>2022.6</td>\n      <td>weis</td>\n      <td>1857.9</td>\n      <td>kirch</td>\n      <td>942.2</td>\n      <td>wind</td>\n      <td>1027.4</td>\n      <td>meilen</td>\n      <td>582.1</td>\n    </tr>\n    <tr>\n      <th>11</th>\n      <td>tage</td>\n      <td>10.6</td>\n      <td>namen</td>\n      <td>623.3</td>\n      <td>allerhand</td>\n      <td>93.8</td>\n      <td>heilig</td>\n      <td>1888.0</td>\n      <td>zwei</td>\n      <td>1836.3</td>\n      <td>japan</td>\n      <td>918.3</td>\n      <td>chriten</td>\n      <td>993.1</td>\n      <td>darauf</td>\n      <td>569.0</td>\n    </tr>\n    <tr>\n      <th>12</th>\n      <td>jerusalem</td>\n      <td>10.0</td>\n      <td>trcken</td>\n      <td>615.3</td>\n      <td>pferd</td>\n      <td>90.5</td>\n      <td>christi</td>\n      <td>1662.1</td>\n      <td>nahmen</td>\n      <td>1807.5</td>\n      <td>oben</td>\n      <td>910.4</td>\n      <td>hollnder</td>\n      <td>978.7</td>\n      <td>unern</td>\n      <td>564.9</td>\n    </tr>\n    <tr>\n      <th>13</th>\n      <td>alten</td>\n      <td>9.9</td>\n      <td>oben</td>\n      <td>588.6</td>\n      <td>ollen</td>\n      <td>89.1</td>\n      <td>grab</td>\n      <td>1576.9</td>\n      <td>seiten</td>\n      <td>1806.4</td>\n      <td>knigin</td>\n      <td>908.3</td>\n      <td>morgen</td>\n      <td>975.1</td>\n      <td>zwey</td>\n      <td>560.8</td>\n    </tr>\n    <tr>\n      <th>14</th>\n      <td>chriten</td>\n      <td>9.7</td>\n      <td>onderlich</td>\n      <td>580.7</td>\n      <td>berg</td>\n      <td>84.1</td>\n      <td>christu</td>\n      <td>1522.0</td>\n      <td>persien</td>\n      <td>1787.2</td>\n      <td>reis</td>\n      <td>900.1</td>\n      <td>meilen</td>\n      <td>946.0</td>\n      <td>derelben</td>\n      <td>559.2</td>\n    </tr>\n    <tr>\n      <th>15</th>\n      <td>inel</td>\n      <td>9.6</td>\n      <td>knigreich</td>\n      <td>545.4</td>\n      <td>leut</td>\n      <td>83.9</td>\n      <td>glauben</td>\n      <td>1514.3</td>\n      <td>alten</td>\n      <td>1745.7</td>\n      <td>liegt</td>\n      <td>889.7</td>\n      <td>laen</td>\n      <td>892.9</td>\n      <td>tauend</td>\n      <td>549.9</td>\n    </tr>\n    <tr>\n      <th>16</th>\n      <td>knigreich</td>\n      <td>9.2</td>\n      <td>kirch</td>\n      <td>517.9</td>\n      <td>onderlich</td>\n      <td>82.8</td>\n      <td>schne</td>\n      <td>1484.7</td>\n      <td>laffen</td>\n      <td>1745.3</td>\n      <td>pferd</td>\n      <td>882.3</td>\n      <td>landt</td>\n      <td>875.6</td>\n      <td>reie</td>\n      <td>544.7</td>\n    </tr>\n    <tr>\n      <th>17</th>\n      <td>heilig</td>\n      <td>9.1</td>\n      <td>hand</td>\n      <td>511.8</td>\n      <td>abend</td>\n      <td>81.4</td>\n      <td>alten</td>\n      <td>1418.2</td>\n      <td>leut</td>\n      <td>1730.0</td>\n      <td>nahmen</td>\n      <td>861.7</td>\n      <td>indien</td>\n      <td>824.0</td>\n      <td>reien</td>\n      <td>538.0</td>\n    </tr>\n    <tr>\n      <th>18</th>\n      <td>stein</td>\n      <td>8.8</td>\n      <td>chne</td>\n      <td>503.4</td>\n      <td>hand</td>\n      <td>80.9</td>\n      <td>erst</td>\n      <td>1407.0</td>\n      <td>wort</td>\n      <td>1646.5</td>\n      <td>meilen</td>\n      <td>843.2</td>\n      <td>leut</td>\n      <td>812.3</td>\n      <td>ehen</td>\n      <td>520.4</td>\n    </tr>\n    <tr>\n      <th>19</th>\n      <td>sachen</td>\n      <td>8.7</td>\n      <td>sohn</td>\n      <td>499.0</td>\n      <td>perien</td>\n      <td>79.6</td>\n      <td>venedig</td>\n      <td>1365.4</td>\n      <td>orten</td>\n      <td>1640.3</td>\n      <td>darauf</td>\n      <td>833.7</td>\n      <td>mgen</td>\n      <td>804.3</td>\n      <td>wunderlich</td>\n      <td>515.6</td>\n    </tr>\n  </tbody>\n</table>\n</div>",
      "text/plain": "   Topic 0 words Topic 0 weights Topic 1 words Topic 1 weights Topic 2 words Topic 2 weights Topic 3 words Topic 3 weights Topic 4 words Topic 4 weights Topic 5 words Topic 5 weights Topic 6 words Topic 6 weights Topic 7 words Topic 7 weights\n0           berg            35.7         stadt          1868.9      geandten           329.7          berg          4146.6         stadt          5332.5         stadt          3963.3          berg          2007.1         stadt          1739.7\n1          stadt            23.1          berg          1011.7         stadt           276.5        trcken          2907.7          tage          3017.6         herrn          1827.9         namen          1223.3          tage          1343.2\n2         trcken            17.6         keyer           966.8   bechreibung           162.5       kirchen          2881.0         sehen          2923.1          tage          1433.7         volck          1221.8          laen           905.2\n3          herrn            15.7         reich           831.8         knige           147.1      christen          2861.1         theil          2796.3        herzog          1336.5          inel          1195.8         knige           892.3\n4       heiligen            14.4         japan           788.7        meilen           142.3      heiligen          2620.0        waffer          2571.9         theil          1191.0         herrn          1138.9        nahmen           755.0\n5          namen            13.5         theil           775.8          laen           119.3         herrn          2527.2          erst          2268.1          herr          1187.7         admir          1128.5       menchen           676.3\n6           laen            13.5          eynd           766.7         namen           115.6     jerusalem          2439.0        indien          2252.1        waffer          1183.0          herr          1067.2     knigreich           674.8\n7          theil            12.7         alten           743.6          tage           114.1          herr          2416.0        lassen          2162.4         abend          1068.4        trcken          1059.7          leut           660.2\n8           hand            12.2          laen           728.6          chan           112.5         stadt          2202.1        sachen          1976.3          hand          1057.4        mittag          1043.3          inel           631.8\n9           herr            11.2          ehen           723.6          eynd           102.1        waffer          2065.4          hand          1963.7          berg           960.6         wirdt          1033.3          ahen           585.6\n10       kirchen            11.0       kirchen           669.8          reie            94.6         namen          2022.6          weis          1857.9         kirch           942.2          wind          1027.4        meilen           582.1\n11          tage            10.6         namen           623.3     allerhand            93.8        heilig          1888.0          zwei          1836.3         japan           918.3       chriten           993.1        darauf           569.0\n12     jerusalem            10.0        trcken           615.3         pferd            90.5       christi          1662.1        nahmen          1807.5          oben           910.4      hollnder           978.7         unern           564.9\n13         alten             9.9          oben           588.6         ollen            89.1          grab          1576.9        seiten          1806.4        knigin           908.3        morgen           975.1          zwey           560.8\n14       chriten             9.7     onderlich           580.7          berg            84.1       christu          1522.0       persien          1787.2          reis           900.1        meilen           946.0      derelben           559.2\n15          inel             9.6     knigreich           545.4          leut            83.9       glauben          1514.3         alten          1745.7         liegt           889.7          laen           892.9        tauend           549.9\n16     knigreich             9.2         kirch           517.9     onderlich            82.8         schne          1484.7        laffen          1745.3         pferd           882.3         landt           875.6          reie           544.7\n17        heilig             9.1          hand           511.8         abend            81.4         alten          1418.2          leut          1730.0        nahmen           861.7        indien           824.0         reien           538.0\n18         stein             8.8          chne           503.4          hand            80.9          erst          1407.0          wort          1646.5        meilen           843.2          leut           812.3          ehen           520.4\n19        sachen             8.7          sohn           499.0        perien            79.6       venedig          1365.4         orten          1640.3        darauf           833.7          mgen           804.3    wunderlich           515.6"
     },
     "execution_count": 6,
     "metadata": {},
     "output_type": "execute_result"
    }
   ],
   "source": [
    "import pandas as pd\n",
    "\n",
    "def display_topics(model, feature_names, no_top_words):\n",
    "    topic_dict = {}\n",
    "    for topic_idx, topic in enumerate(model.components_):\n",
    "        topic_dict[\"Topic %d words\" % (topic_idx)]= ['{}'.format(feature_names[i])\n",
    "                        for i in topic.argsort()[:-no_top_words - 1:-1]]\n",
    "        topic_dict[\"Topic %d weights\" % (topic_idx)]= ['{:.1f}'.format(topic[i])\n",
    "                        for i in topic.argsort()[:-no_top_words - 1:-1]]\n",
    "    return pd.DataFrame(topic_dict)\n",
    "\n",
    "no_top_words = 20\n",
    "pd.set_option('display.max_columns', 500)\n",
    "pd.set_option('display.width', 1000)\n",
    "display_topics(model, tf_feature_names, no_top_words)"
   ]
  },
  {
   "cell_type": "code",
   "execution_count": null,
   "metadata": {},
   "outputs": [],
   "source": []
  }
 ]
}