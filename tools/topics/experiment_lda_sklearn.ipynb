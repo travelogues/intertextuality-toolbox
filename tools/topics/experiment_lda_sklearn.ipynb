{
 "nbformat": 4,
 "nbformat_minor": 2,
 "metadata": {
  "language_info": {
   "name": "python",
   "codemirror_mode": {
    "name": "ipython",
    "version": 3
   },
   "version": "3.6.5-final"
  },
  "orig_nbformat": 2,
  "file_extension": ".py",
  "mimetype": "text/x-python",
  "name": "python",
  "npconvert_exporter": "python",
  "pygments_lexer": "ipython3",
  "version": 3,
  "kernelspec": {
   "name": "python3",
   "display_name": "Python 3"
  }
 },
 "cells": [
  {
   "cell_type": "code",
   "execution_count": 1,
   "metadata": {},
   "outputs": [
    {
     "data": {
      "text/plain": "'Loaded 66 texts'"
     },
     "execution_count": 1,
     "metadata": {},
     "output_type": "execute_result"
    }
   ],
   "source": [
    "import glob\n",
    "import re\n",
    "\n",
    "INPUT_FOLDER = '../../../travelogues-corpus/16th_century/books'\n",
    "\n",
    "def read_file(f):\n",
    "  with open(f, 'r') as file:\n",
    "    str = file.read()\n",
    "    ascii_only = re.sub('[^A-Za-z0-9 ]+', '', str)\n",
    "    return re.sub('\\\\s+', ' ', ascii_only)\n",
    "\n",
    "filenames = [f for f in glob.glob(INPUT_FOLDER + '**/*.txt')]\n",
    "texts = [ read_file(f) for f in filenames ]\n",
    "\n",
    "f'Loaded {len(texts)} texts'"
   ]
  },
  {
   "cell_type": "code",
   "execution_count": 2,
   "metadata": {},
   "outputs": [],
   "source": [
    "extra_stopwords = []\n",
    "\n",
    "with open('stopwords.txt') as f:\n",
    "  extra_stopwords = f.readlines()\n",
    "  extra_stopwords = [ x.strip() for x in extra_stopwords ]"
   ]
  },
  {
   "cell_type": "code",
   "execution_count": 3,
   "metadata": {},
   "outputs": [
    {
     "name": "stdout",
     "output_type": "stream",
     "text": "[nltk_data] Downloading package stopwords to /home/simonr/nltk_data...\n[nltk_data]   Package stopwords is already up-to-date!\n"
    }
   ],
   "source": [
    "import nltk\n",
    "\n",
    "nltk.download('stopwords')\n",
    "\n",
    "from nltk.corpus import stopwords\n",
    "\n",
    "stop_words = stopwords.words('german')\n",
    "stop_words.extend(extra_stopwords)\n",
    "stop_words.sort()"
   ]
  },
  {
   "cell_type": "code",
   "execution_count": 4,
   "metadata": {},
   "outputs": [],
   "source": [
    "from nltk.stem import PorterStemmer\n",
    "from nltk.tokenize import word_tokenize\n",
    "from wordcloud import WordCloud\n",
    "import itertools\n",
    "import matplotlib.pyplot as plt\n",
    "import string\n",
    "\n",
    "# We'll do stemming to avoid duplicate variants\n",
    "porter = PorterStemmer()\n",
    "\n",
    "def stem_message(text):\n",
    "  words = word_tokenize(text)\n",
    "\n",
    "  stemmed_words = []\n",
    "  for word in words:\n",
    "    stemmed_words.append(porter.stem(word))\n",
    "    \n",
    "  # Remove stopwords here\n",
    "  clean_tokens = [w for w in stemmed_words if not w in stop_words and len(w) > 3] \n",
    "  return ' '.join(clean_tokens)\n",
    "\n",
    "cleaned_texts = []\n",
    "for text in texts:\n",
    "  # Remove punctutation\n",
    "  text = text.translate(str.maketrans('', '', string.punctuation))\n",
    "  cleaned_texts.append(stem_message(text))"
   ]
  },
  {
   "cell_type": "code",
   "execution_count": 9,
   "metadata": {},
   "outputs": [
    {
     "name": "stderr",
     "output_type": "stream",
     "text": "/home/simonr/Software/anaconda3/lib/python3.6/site-packages/sklearn/decomposition/online_lda.py:536: DeprecationWarning: The default value for 'learning_method' will be changed from 'online' to 'batch' in the release 0.20. This warning was introduced in 0.18.\n  DeprecationWarning)\n"
    },
    {
     "data": {
      "text/plain": "LatentDirichletAllocation(batch_size=128, doc_topic_prior=None,\n             evaluate_every=-1, learning_decay=0.7, learning_method=None,\n             learning_offset=10.0, max_doc_update_iter=100, max_iter=10,\n             mean_change_tol=0.001, n_components=6, n_jobs=1,\n             n_topics=None, perp_tol=0.1, random_state=0,\n             topic_word_prior=None, total_samples=1000000.0, verbose=0)"
     },
     "execution_count": 9,
     "metadata": {},
     "output_type": "execute_result"
    }
   ],
   "source": [
    "from sklearn.feature_extraction.text import CountVectorizer\n",
    "from sklearn.decomposition import LatentDirichletAllocation\n",
    "\n",
    "vectorizer = CountVectorizer(max_df=0.9, min_df=25, token_pattern='\\w+|\\$[\\d\\.]+|\\S+')\n",
    "tf = vectorizer.fit_transform(cleaned_texts).toarray()\n",
    "\n",
    "tf_feature_names = vectorizer.get_feature_names()\n",
    "\n",
    "number_of_topics = 6\n",
    "model = LatentDirichletAllocation(n_components=number_of_topics, random_state=0)\n",
    "model.fit(tf)"
   ]
  },
  {
   "cell_type": "code",
   "execution_count": 10,
   "metadata": {},
   "outputs": [
    {
     "data": {
      "text/html": "<div>\n<style scoped>\n    .dataframe tbody tr th:only-of-type {\n        vertical-align: middle;\n    }\n\n    .dataframe tbody tr th {\n        vertical-align: top;\n    }\n\n    .dataframe thead th {\n        text-align: right;\n    }\n</style>\n<table border=\"1\" class=\"dataframe\">\n  <thead>\n    <tr style=\"text-align: right;\">\n      <th></th>\n      <th>Topic 0 words</th>\n      <th>Topic 0 weights</th>\n      <th>Topic 1 words</th>\n      <th>Topic 1 weights</th>\n      <th>Topic 2 words</th>\n      <th>Topic 2 weights</th>\n      <th>Topic 3 words</th>\n      <th>Topic 3 weights</th>\n      <th>Topic 4 words</th>\n      <th>Topic 4 weights</th>\n      <th>Topic 5 words</th>\n      <th>Topic 5 weights</th>\n    </tr>\n  </thead>\n  <tbody>\n    <tr>\n      <th>0</th>\n      <td>schiff</td>\n      <td>1607.5</td>\n      <td>berg</td>\n      <td>1256.7</td>\n      <td>feind</td>\n      <td>493.5</td>\n      <td>priester</td>\n      <td>525.6</td>\n      <td>dafi</td>\n      <td>230.0</td>\n      <td>trcken</td>\n      <td>1512.0</td>\n    </tr>\n    <tr>\n      <th>1</th>\n      <td>insel</td>\n      <td>697.7</td>\n      <td>meer</td>\n      <td>1061.3</td>\n      <td>groen</td>\n      <td>439.5</td>\n      <td>kirchen</td>\n      <td>517.4</td>\n      <td>glauben</td>\n      <td>214.9</td>\n      <td>christen</td>\n      <td>620.1</td>\n    </tr>\n    <tr>\n      <th>2</th>\n      <td>wilden</td>\n      <td>696.7</td>\n      <td>heiligen</td>\n      <td>878.0</td>\n      <td>jnen</td>\n      <td>421.1</td>\n      <td>johann</td>\n      <td>507.6</td>\n      <td>christen</td>\n      <td>201.2</td>\n      <td>trckischen</td>\n      <td>560.7</td>\n    </tr>\n    <tr>\n      <th>3</th>\n      <td>hatt</td>\n      <td>649.8</td>\n      <td>herr</td>\n      <td>850.4</td>\n      <td>trcken</td>\n      <td>373.4</td>\n      <td>krieg</td>\n      <td>467.8</td>\n      <td>feind</td>\n      <td>160.9</td>\n      <td>krieg</td>\n      <td>502.0</td>\n    </tr>\n    <tr>\n      <th>4</th>\n      <td>meer</td>\n      <td>644.5</td>\n      <td>christen</td>\n      <td>735.0</td>\n      <td>groe</td>\n      <td>305.5</td>\n      <td>meer</td>\n      <td>433.4</td>\n      <td>volck</td>\n      <td>156.0</td>\n      <td>namen</td>\n      <td>501.5</td>\n    </tr>\n    <tr>\n      <th>5</th>\n      <td>dritt</td>\n      <td>453.6</td>\n      <td>weit</td>\n      <td>714.8</td>\n      <td>herrn</td>\n      <td>298.8</td>\n      <td>knigreich</td>\n      <td>409.4</td>\n      <td>leben</td>\n      <td>145.0</td>\n      <td>feind</td>\n      <td>479.4</td>\n    </tr>\n    <tr>\n      <th>6</th>\n      <td>were</td>\n      <td>434.7</td>\n      <td>herrn</td>\n      <td>628.3</td>\n      <td>spanier</td>\n      <td>274.5</td>\n      <td>herr</td>\n      <td>386.3</td>\n      <td>dieweil</td>\n      <td>139.9</td>\n      <td>sohn</td>\n      <td>428.5</td>\n    </tr>\n    <tr>\n      <th>7</th>\n      <td>waffer</td>\n      <td>423.3</td>\n      <td>schiff</td>\n      <td>626.5</td>\n      <td>dieweil</td>\n      <td>273.9</td>\n      <td>feind</td>\n      <td>383.8</td>\n      <td>groffen</td>\n      <td>127.1</td>\n      <td>keyser</td>\n      <td>424.0</td>\n    </tr>\n    <tr>\n      <th>8</th>\n      <td>indien</td>\n      <td>412.5</td>\n      <td>venedig</td>\n      <td>610.4</td>\n      <td>namen</td>\n      <td>266.1</td>\n      <td>namen</td>\n      <td>375.8</td>\n      <td>mgen</td>\n      <td>127.0</td>\n      <td>trckisch</td>\n      <td>384.7</td>\n    </tr>\n    <tr>\n      <th>9</th>\n      <td>schiffen</td>\n      <td>393.9</td>\n      <td>stadt</td>\n      <td>603.0</td>\n      <td>meer</td>\n      <td>254.3</td>\n      <td>bald</td>\n      <td>375.7</td>\n      <td>jhnen</td>\n      <td>123.6</td>\n      <td>dafi</td>\n      <td>363.9</td>\n    </tr>\n    <tr>\n      <th>10</th>\n      <td>groe</td>\n      <td>386.7</td>\n      <td>heilig</td>\n      <td>587.5</td>\n      <td>knigreich</td>\n      <td>241.2</td>\n      <td>berg</td>\n      <td>354.8</td>\n      <td>willen</td>\n      <td>118.2</td>\n      <td>herrn</td>\n      <td>329.5</td>\n    </tr>\n    <tr>\n      <th>11</th>\n      <td>theil</td>\n      <td>379.2</td>\n      <td>wollten</td>\n      <td>551.9</td>\n      <td>buch</td>\n      <td>237.8</td>\n      <td>halben</td>\n      <td>327.4</td>\n      <td>groff</td>\n      <td>113.8</td>\n      <td>halben</td>\n      <td>327.6</td>\n    </tr>\n    <tr>\n      <th>12</th>\n      <td>namen</td>\n      <td>376.0</td>\n      <td>kirchen</td>\n      <td>516.9</td>\n      <td>krieg</td>\n      <td>235.2</td>\n      <td>dieweil</td>\n      <td>322.0</td>\n      <td>stadt</td>\n      <td>111.8</td>\n      <td>alten</td>\n      <td>325.8</td>\n    </tr>\n    <tr>\n      <th>13</th>\n      <td>leben</td>\n      <td>365.6</td>\n      <td>tempel</td>\n      <td>500.5</td>\n      <td>glauben</td>\n      <td>230.7</td>\n      <td>weit</td>\n      <td>320.0</td>\n      <td>jhme</td>\n      <td>110.1</td>\n      <td>waffer</td>\n      <td>325.2</td>\n    </tr>\n    <tr>\n      <th>14</th>\n      <td>knnen</td>\n      <td>365.0</td>\n      <td>nacht</td>\n      <td>489.1</td>\n      <td>dier</td>\n      <td>224.6</td>\n      <td>herrn</td>\n      <td>300.6</td>\n      <td>herzen</td>\n      <td>108.0</td>\n      <td>reich</td>\n      <td>314.5</td>\n    </tr>\n    <tr>\n      <th>15</th>\n      <td>klein</td>\n      <td>353.0</td>\n      <td>herren</td>\n      <td>487.2</td>\n      <td>volck</td>\n      <td>223.0</td>\n      <td>zeit</td>\n      <td>289.2</td>\n      <td>geben</td>\n      <td>103.8</td>\n      <td>schlo</td>\n      <td>308.5</td>\n    </tr>\n    <tr>\n      <th>16</th>\n      <td>volck</td>\n      <td>352.4</td>\n      <td>waffer</td>\n      <td>462.0</td>\n      <td>alten</td>\n      <td>212.8</td>\n      <td>reich</td>\n      <td>282.0</td>\n      <td>bald</td>\n      <td>100.0</td>\n      <td>eben</td>\n      <td>303.8</td>\n    </tr>\n    <tr>\n      <th>17</th>\n      <td>halben</td>\n      <td>344.2</td>\n      <td>hatt</td>\n      <td>429.4</td>\n      <td>leben</td>\n      <td>212.2</td>\n      <td>demnach</td>\n      <td>262.4</td>\n      <td>trcken</td>\n      <td>96.4</td>\n      <td>leben</td>\n      <td>303.1</td>\n    </tr>\n    <tr>\n      <th>18</th>\n      <td>weit</td>\n      <td>344.0</td>\n      <td>insel</td>\n      <td>424.5</td>\n      <td>theil</td>\n      <td>211.6</td>\n      <td>were</td>\n      <td>258.9</td>\n      <td>zeit</td>\n      <td>95.7</td>\n      <td>geben</td>\n      <td>280.8</td>\n    </tr>\n    <tr>\n      <th>19</th>\n      <td>groen</td>\n      <td>343.9</td>\n      <td>trcken</td>\n      <td>421.2</td>\n      <td>were</td>\n      <td>210.1</td>\n      <td>hett</td>\n      <td>257.4</td>\n      <td>namen</td>\n      <td>94.3</td>\n      <td>volck</td>\n      <td>276.7</td>\n    </tr>\n  </tbody>\n</table>\n</div>",
      "text/plain": "   Topic 0 words Topic 0 weights Topic 1 words Topic 1 weights Topic 2 words Topic 2 weights Topic 3 words Topic 3 weights Topic 4 words Topic 4 weights Topic 5 words Topic 5 weights\n0         schiff          1607.5          berg          1256.7         feind           493.5      priester           525.6          dafi           230.0        trcken          1512.0\n1          insel           697.7          meer          1061.3         groen           439.5       kirchen           517.4       glauben           214.9      christen           620.1\n2         wilden           696.7      heiligen           878.0          jnen           421.1        johann           507.6      christen           201.2    trckischen           560.7\n3           hatt           649.8          herr           850.4        trcken           373.4         krieg           467.8         feind           160.9         krieg           502.0\n4           meer           644.5      christen           735.0          groe           305.5          meer           433.4         volck           156.0         namen           501.5\n5          dritt           453.6          weit           714.8         herrn           298.8     knigreich           409.4         leben           145.0         feind           479.4\n6           were           434.7         herrn           628.3       spanier           274.5          herr           386.3       dieweil           139.9          sohn           428.5\n7         waffer           423.3        schiff           626.5       dieweil           273.9         feind           383.8       groffen           127.1        keyser           424.0\n8         indien           412.5       venedig           610.4         namen           266.1         namen           375.8          mgen           127.0      trckisch           384.7\n9       schiffen           393.9         stadt           603.0          meer           254.3          bald           375.7         jhnen           123.6          dafi           363.9\n10          groe           386.7        heilig           587.5     knigreich           241.2          berg           354.8        willen           118.2         herrn           329.5\n11         theil           379.2       wollten           551.9          buch           237.8        halben           327.4         groff           113.8        halben           327.6\n12         namen           376.0       kirchen           516.9         krieg           235.2       dieweil           322.0         stadt           111.8         alten           325.8\n13         leben           365.6        tempel           500.5       glauben           230.7          weit           320.0          jhme           110.1        waffer           325.2\n14         knnen           365.0         nacht           489.1          dier           224.6         herrn           300.6        herzen           108.0         reich           314.5\n15         klein           353.0        herren           487.2         volck           223.0          zeit           289.2         geben           103.8         schlo           308.5\n16         volck           352.4        waffer           462.0         alten           212.8         reich           282.0          bald           100.0          eben           303.8\n17        halben           344.2          hatt           429.4         leben           212.2       demnach           262.4        trcken            96.4         leben           303.1\n18          weit           344.0         insel           424.5         theil           211.6          were           258.9          zeit            95.7         geben           280.8\n19         groen           343.9        trcken           421.2          were           210.1          hett           257.4         namen            94.3         volck           276.7"
     },
     "execution_count": 10,
     "metadata": {},
     "output_type": "execute_result"
    }
   ],
   "source": [
    "import pandas as pd\n",
    "\n",
    "def display_topics(model, feature_names, no_top_words):\n",
    "    topic_dict = {}\n",
    "    for topic_idx, topic in enumerate(model.components_):\n",
    "        topic_dict[\"Topic %d words\" % (topic_idx)]= ['{}'.format(feature_names[i])\n",
    "                        for i in topic.argsort()[:-no_top_words - 1:-1]]\n",
    "        topic_dict[\"Topic %d weights\" % (topic_idx)]= ['{:.1f}'.format(topic[i])\n",
    "                        for i in topic.argsort()[:-no_top_words - 1:-1]]\n",
    "    return pd.DataFrame(topic_dict)\n",
    "\n",
    "no_top_words = 20\n",
    "pd.set_option('display.max_columns', 500)\n",
    "pd.set_option('display.width', 1000)\n",
    "display_topics(model, tf_feature_names, no_top_words)"
   ]
  },
  {
   "cell_type": "code",
   "execution_count": null,
   "metadata": {},
   "outputs": [],
   "source": []
  }
 ]
}