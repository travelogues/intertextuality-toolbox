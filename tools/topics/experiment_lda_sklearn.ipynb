{
 "nbformat": 4,
 "nbformat_minor": 2,
 "metadata": {
  "language_info": {
   "name": "python",
   "codemirror_mode": {
    "name": "ipython",
    "version": 3
   },
   "version": "3.6.5-final"
  },
  "orig_nbformat": 2,
  "file_extension": ".py",
  "mimetype": "text/x-python",
  "name": "python",
  "npconvert_exporter": "python",
  "pygments_lexer": "ipython3",
  "version": 3,
  "kernelspec": {
   "name": "python3",
   "display_name": "Python 3"
  }
 },
 "cells": [
  {
   "cell_type": "code",
   "execution_count": 1,
   "metadata": {},
   "outputs": [
    {
     "data": {
      "text/plain": "'Loaded 204 texts'"
     },
     "execution_count": 1,
     "metadata": {},
     "output_type": "execute_result"
    }
   ],
   "source": [
    "import glob\n",
    "import re\n",
    "\n",
    "INPUT_FOLDER = '../../../travelogues-corpus/17th_century/books'\n",
    "\n",
    "def read_file(f):\n",
    "  with open(f, 'r') as file:\n",
    "    str = file.read()\n",
    "    ascii_only = re.sub('[^A-Za-z0-9 ]+', '', str)\n",
    "    return re.sub('\\\\s+', ' ', ascii_only)\n",
    "\n",
    "filenames = [f for f in glob.glob(INPUT_FOLDER + '**/*.txt')]\n",
    "texts = [ read_file(f) for f in filenames ]\n",
    "\n",
    "f'Loaded {len(texts)} texts'"
   ]
  },
  {
   "cell_type": "code",
   "execution_count": 2,
   "metadata": {},
   "outputs": [],
   "source": [
    "extra_stopwords = []\n",
    "\n",
    "with open('stopwords.txt') as f:\n",
    "  extra_stopwords = f.readlines()\n",
    "  extra_stopwords = [ x.strip() for x in extra_stopwords ]"
   ]
  },
  {
   "cell_type": "code",
   "execution_count": 3,
   "metadata": {},
   "outputs": [
    {
     "name": "stdout",
     "output_type": "stream",
     "text": "[nltk_data] Downloading package stopwords to /home/simonr/nltk_data...\n[nltk_data]   Package stopwords is already up-to-date!\n"
    }
   ],
   "source": [
    "import nltk\n",
    "\n",
    "nltk.download('stopwords')\n",
    "\n",
    "from nltk.corpus import stopwords\n",
    "\n",
    "stop_words = stopwords.words('german')\n",
    "stop_words.extend(extra_stopwords)\n",
    "stop_words.sort()"
   ]
  },
  {
   "cell_type": "code",
   "execution_count": 4,
   "metadata": {},
   "outputs": [],
   "source": [
    "from nltk.stem import PorterStemmer\n",
    "from nltk.tokenize import word_tokenize\n",
    "from wordcloud import WordCloud\n",
    "import itertools\n",
    "import matplotlib.pyplot as plt\n",
    "import string\n",
    "\n",
    "# We'll do stemming to avoid duplicate variants\n",
    "porter = PorterStemmer()\n",
    "\n",
    "def stem_message(text):\n",
    "  words = word_tokenize(text)\n",
    "\n",
    "  stemmed_words = []\n",
    "  for word in words:\n",
    "    stemmed_words.append(porter.stem(word))\n",
    "    \n",
    "  # Remove stopwords here\n",
    "  clean_tokens = [w for w in stemmed_words if not w in stop_words and len(w) > 3] \n",
    "  return ' '.join(clean_tokens)\n",
    "\n",
    "cleaned_texts = []\n",
    "for text in texts:\n",
    "  # Remove punctutation\n",
    "  text = text.translate(str.maketrans('', '', string.punctuation))\n",
    "  cleaned_texts.append(stem_message(text))"
   ]
  },
  {
   "cell_type": "code",
   "execution_count": 5,
   "metadata": {},
   "outputs": [
    {
     "name": "stderr",
     "output_type": "stream",
     "text": "/home/simonr/Software/anaconda3/lib/python3.6/site-packages/sklearn/decomposition/online_lda.py:536: DeprecationWarning: The default value for 'learning_method' will be changed from 'online' to 'batch' in the release 0.20. This warning was introduced in 0.18.\n  DeprecationWarning)\n"
    },
    {
     "data": {
      "text/plain": "LatentDirichletAllocation(batch_size=128, doc_topic_prior=None,\n             evaluate_every=-1, learning_decay=0.7, learning_method=None,\n             learning_offset=10.0, max_doc_update_iter=100, max_iter=10,\n             mean_change_tol=0.001, n_components=8, n_jobs=1,\n             n_topics=None, perp_tol=0.1, random_state=0,\n             topic_word_prior=None, total_samples=1000000.0, verbose=0)"
     },
     "execution_count": 5,
     "metadata": {},
     "output_type": "execute_result"
    }
   ],
   "source": [
    "from sklearn.feature_extraction.text import CountVectorizer\n",
    "from sklearn.decomposition import LatentDirichletAllocation\n",
    "\n",
    "vectorizer = CountVectorizer(max_df=0.9, min_df=25, token_pattern='\\w+|\\$[\\d\\.]+|\\S+')\n",
    "tf = vectorizer.fit_transform(cleaned_texts).toarray()\n",
    "\n",
    "tf_feature_names = vectorizer.get_feature_names()\n",
    "\n",
    "number_of_topics = 8\n",
    "model = LatentDirichletAllocation(n_components=number_of_topics, random_state=0)\n",
    "model.fit(tf)"
   ]
  },
  {
   "cell_type": "code",
   "execution_count": 6,
   "metadata": {},
   "outputs": [
    {
     "data": {
      "text/html": "<div>\n<style scoped>\n    .dataframe tbody tr th:only-of-type {\n        vertical-align: middle;\n    }\n\n    .dataframe tbody tr th {\n        vertical-align: top;\n    }\n\n    .dataframe thead th {\n        text-align: right;\n    }\n</style>\n<table border=\"1\" class=\"dataframe\">\n  <thead>\n    <tr style=\"text-align: right;\">\n      <th></th>\n      <th>Topic 0 words</th>\n      <th>Topic 0 weights</th>\n      <th>Topic 1 words</th>\n      <th>Topic 1 weights</th>\n      <th>Topic 2 words</th>\n      <th>Topic 2 weights</th>\n      <th>Topic 3 words</th>\n      <th>Topic 3 weights</th>\n      <th>Topic 4 words</th>\n      <th>Topic 4 weights</th>\n      <th>Topic 5 words</th>\n      <th>Topic 5 weights</th>\n      <th>Topic 6 words</th>\n      <th>Topic 6 weights</th>\n      <th>Topic 7 words</th>\n      <th>Topic 7 weights</th>\n    </tr>\n  </thead>\n  <tbody>\n    <tr>\n      <th>0</th>\n      <td>excel</td>\n      <td>43.2</td>\n      <td>stadt</td>\n      <td>5649.4</td>\n      <td>knigreich</td>\n      <td>630.5</td>\n      <td>stadt</td>\n      <td>3743.0</td>\n      <td>admir</td>\n      <td>1278.9</td>\n      <td>berg</td>\n      <td>5702.8</td>\n      <td>stadt</td>\n      <td>2711.0</td>\n      <td>stadt</td>\n      <td>1202.7</td>\n    </tr>\n    <tr>\n      <th>1</th>\n      <td>stadt</td>\n      <td>16.8</td>\n      <td>herrn</td>\n      <td>2018.3</td>\n      <td>glauben</td>\n      <td>468.7</td>\n      <td>laen</td>\n      <td>2564.3</td>\n      <td>hollnder</td>\n      <td>1161.0</td>\n      <td>trcken</td>\n      <td>3618.9</td>\n      <td>theil</td>\n      <td>2071.2</td>\n      <td>tage</td>\n      <td>860.1</td>\n    </tr>\n    <tr>\n      <th>2</th>\n      <td>trcken</td>\n      <td>12.3</td>\n      <td>tage</td>\n      <td>1727.3</td>\n      <td>christen</td>\n      <td>405.4</td>\n      <td>ondern</td>\n      <td>2478.0</td>\n      <td>indien</td>\n      <td>1074.2</td>\n      <td>kirchen</td>\n      <td>3217.9</td>\n      <td>dieselb</td>\n      <td>1778.9</td>\n      <td>menschen</td>\n      <td>775.9</td>\n    </tr>\n    <tr>\n      <th>3</th>\n      <td>stund</td>\n      <td>11.3</td>\n      <td>waffer</td>\n      <td>1680.1</td>\n      <td>herrn</td>\n      <td>361.1</td>\n      <td>tage</td>\n      <td>2101.5</td>\n      <td>volck</td>\n      <td>825.8</td>\n      <td>heiligen</td>\n      <td>3156.8</td>\n      <td>tage</td>\n      <td>1671.4</td>\n      <td>feind</td>\n      <td>699.1</td>\n    </tr>\n    <tr>\n      <th>4</th>\n      <td>tage</td>\n      <td>10.9</td>\n      <td>sehen</td>\n      <td>1642.6</td>\n      <td>patr</td>\n      <td>338.8</td>\n      <td>inel</td>\n      <td>1887.7</td>\n      <td>nachen</td>\n      <td>774.6</td>\n      <td>herrn</td>\n      <td>2734.1</td>\n      <td>fiel</td>\n      <td>1599.0</td>\n      <td>waffer</td>\n      <td>608.4</td>\n    </tr>\n    <tr>\n      <th>5</th>\n      <td>allhier</td>\n      <td>10.7</td>\n      <td>zwei</td>\n      <td>1524.1</td>\n      <td>kirchen</td>\n      <td>323.8</td>\n      <td>ehen</td>\n      <td>1801.2</td>\n      <td>wind</td>\n      <td>737.7</td>\n      <td>herr</td>\n      <td>2722.8</td>\n      <td>seyn</td>\n      <td>1574.5</td>\n      <td>welt</td>\n      <td>603.7</td>\n    </tr>\n    <tr>\n      <th>6</th>\n      <td>angelangt</td>\n      <td>10.2</td>\n      <td>fast</td>\n      <td>1517.8</td>\n      <td>namen</td>\n      <td>323.1</td>\n      <td>meilen</td>\n      <td>1759.0</td>\n      <td>theil</td>\n      <td>640.4</td>\n      <td>jerusalem</td>\n      <td>2486.4</td>\n      <td>feyn</td>\n      <td>1531.6</td>\n      <td>insel</td>\n      <td>579.5</td>\n    </tr>\n    <tr>\n      <th>7</th>\n      <td>theil</td>\n      <td>9.6</td>\n      <td>herzog</td>\n      <td>1477.3</td>\n      <td>christlichen</td>\n      <td>311.4</td>\n      <td>elbt</td>\n      <td>1717.5</td>\n      <td>mittag</td>\n      <td>583.0</td>\n      <td>christen</td>\n      <td>2424.5</td>\n      <td>thun</td>\n      <td>1525.6</td>\n      <td>sagt</td>\n      <td>559.6</td>\n    </tr>\n    <tr>\n      <th>8</th>\n      <td>berg</td>\n      <td>9.3</td>\n      <td>reis</td>\n      <td>1470.6</td>\n      <td>diser</td>\n      <td>290.6</td>\n      <td>berg</td>\n      <td>1640.2</td>\n      <td>insel</td>\n      <td>552.4</td>\n      <td>stadt</td>\n      <td>2285.2</td>\n      <td>indien</td>\n      <td>1420.3</td>\n      <td>sehen</td>\n      <td>482.3</td>\n    </tr>\n    <tr>\n      <th>9</th>\n      <td>heut</td>\n      <td>8.9</td>\n      <td>herr</td>\n      <td>1437.5</td>\n      <td>pater</td>\n      <td>280.3</td>\n      <td>wolt</td>\n      <td>1581.6</td>\n      <td>bekommen</td>\n      <td>538.3</td>\n      <td>heilig</td>\n      <td>2256.6</td>\n      <td>sachen</td>\n      <td>1408.9</td>\n      <td>sollt</td>\n      <td>474.5</td>\n    </tr>\n    <tr>\n      <th>10</th>\n      <td>vielen</td>\n      <td>8.9</td>\n      <td>theil</td>\n      <td>1436.9</td>\n      <td>indien</td>\n      <td>276.2</td>\n      <td>keyer</td>\n      <td>1532.3</td>\n      <td>vnter</td>\n      <td>531.1</td>\n      <td>namen</td>\n      <td>2172.2</td>\n      <td>vielen</td>\n      <td>1407.8</td>\n      <td>hand</td>\n      <td>471.6</td>\n    </tr>\n    <tr>\n      <th>11</th>\n      <td>kirchen</td>\n      <td>8.7</td>\n      <td>schon</td>\n      <td>1381.4</td>\n      <td>reich</td>\n      <td>272.0</td>\n      <td>chriten</td>\n      <td>1499.0</td>\n      <td>spanier</td>\n      <td>517.3</td>\n      <td>grab</td>\n      <td>2028.0</td>\n      <td>sehen</td>\n      <td>1383.3</td>\n      <td>herrn</td>\n      <td>466.0</td>\n    </tr>\n    <tr>\n      <th>12</th>\n      <td>namen</td>\n      <td>8.6</td>\n      <td>seit</td>\n      <td>1374.7</td>\n      <td>sachen</td>\n      <td>271.4</td>\n      <td>zwichen</td>\n      <td>1497.9</td>\n      <td>hollndern</td>\n      <td>511.4</td>\n      <td>waffer</td>\n      <td>1917.0</td>\n      <td>hand</td>\n      <td>1368.3</td>\n      <td>sollen</td>\n      <td>449.7</td>\n    </tr>\n    <tr>\n      <th>13</th>\n      <td>pferd</td>\n      <td>8.6</td>\n      <td>selbig</td>\n      <td>1372.0</td>\n      <td>bischoff</td>\n      <td>269.5</td>\n      <td>onderlich</td>\n      <td>1489.3</td>\n      <td>landt</td>\n      <td>506.0</td>\n      <td>venedig</td>\n      <td>1833.0</td>\n      <td>werd</td>\n      <td>1363.8</td>\n      <td>fiel</td>\n      <td>445.8</td>\n    </tr>\n    <tr>\n      <th>14</th>\n      <td>thun</td>\n      <td>8.5</td>\n      <td>knigin</td>\n      <td>1363.2</td>\n      <td>disem</td>\n      <td>267.0</td>\n      <td>menchen</td>\n      <td>1473.8</td>\n      <td>waffer</td>\n      <td>505.6</td>\n      <td>genannt</td>\n      <td>1720.7</td>\n      <td>schon</td>\n      <td>1359.0</td>\n      <td>erst</td>\n      <td>444.2</td>\n    </tr>\n    <tr>\n      <th>15</th>\n      <td>kleinen</td>\n      <td>8.3</td>\n      <td>kirch</td>\n      <td>1298.1</td>\n      <td>historisch</td>\n      <td>261.7</td>\n      <td>olcher</td>\n      <td>1465.1</td>\n      <td>ancker</td>\n      <td>495.6</td>\n      <td>alten</td>\n      <td>1632.4</td>\n      <td>seiten</td>\n      <td>1328.6</td>\n      <td>leib</td>\n      <td>435.2</td>\n    </tr>\n    <tr>\n      <th>16</th>\n      <td>dieselb</td>\n      <td>7.9</td>\n      <td>schne</td>\n      <td>1276.3</td>\n      <td>begeben</td>\n      <td>249.7</td>\n      <td>leut</td>\n      <td>1448.3</td>\n      <td>morgen</td>\n      <td>493.9</td>\n      <td>gesehen</td>\n      <td>1572.3</td>\n      <td>laffen</td>\n      <td>1319.4</td>\n      <td>herr</td>\n      <td>428.7</td>\n    </tr>\n    <tr>\n      <th>17</th>\n      <td>htten</td>\n      <td>7.3</td>\n      <td>hand</td>\n      <td>1218.0</td>\n      <td>kniglichen</td>\n      <td>244.9</td>\n      <td>knige</td>\n      <td>1444.8</td>\n      <td>etwan</td>\n      <td>473.0</td>\n      <td>christu</td>\n      <td>1531.9</td>\n      <td>jedoch</td>\n      <td>1276.6</td>\n      <td>seyn</td>\n      <td>427.3</td>\n    </tr>\n    <tr>\n      <th>18</th>\n      <td>feyn</td>\n      <td>7.1</td>\n      <td>erst</td>\n      <td>1217.5</td>\n      <td>herzen</td>\n      <td>237.8</td>\n      <td>knigreich</td>\n      <td>1415.1</td>\n      <td>fast</td>\n      <td>463.5</td>\n      <td>tempel</td>\n      <td>1522.2</td>\n      <td>orten</td>\n      <td>1236.7</td>\n      <td>zuvor</td>\n      <td>421.7</td>\n    </tr>\n    <tr>\n      <th>19</th>\n      <td>waffer</td>\n      <td>7.0</td>\n      <td>sollt</td>\n      <td>1189.4</td>\n      <td>werd</td>\n      <td>235.5</td>\n      <td>chon</td>\n      <td>1385.8</td>\n      <td>soldaten</td>\n      <td>462.2</td>\n      <td>christi</td>\n      <td>1512.3</td>\n      <td>lassen</td>\n      <td>1197.6</td>\n      <td>berg</td>\n      <td>414.5</td>\n    </tr>\n  </tbody>\n</table>\n</div>",
      "text/plain": "   Topic 0 words Topic 0 weights Topic 1 words Topic 1 weights Topic 2 words Topic 2 weights Topic 3 words Topic 3 weights Topic 4 words Topic 4 weights Topic 5 words Topic 5 weights Topic 6 words Topic 6 weights Topic 7 words Topic 7 weights\n0          excel            43.2         stadt          5649.4     knigreich           630.5         stadt          3743.0         admir          1278.9          berg          5702.8         stadt          2711.0         stadt          1202.7\n1          stadt            16.8         herrn          2018.3       glauben           468.7          laen          2564.3      hollnder          1161.0        trcken          3618.9         theil          2071.2          tage           860.1\n2         trcken            12.3          tage          1727.3      christen           405.4        ondern          2478.0        indien          1074.2       kirchen          3217.9       dieselb          1778.9      menschen           775.9\n3          stund            11.3        waffer          1680.1         herrn           361.1          tage          2101.5         volck           825.8      heiligen          3156.8          tage          1671.4         feind           699.1\n4           tage            10.9         sehen          1642.6          patr           338.8          inel          1887.7        nachen           774.6         herrn          2734.1          fiel          1599.0        waffer           608.4\n5        allhier            10.7          zwei          1524.1       kirchen           323.8          ehen          1801.2          wind           737.7          herr          2722.8          seyn          1574.5          welt           603.7\n6      angelangt            10.2          fast          1517.8         namen           323.1        meilen          1759.0         theil           640.4     jerusalem          2486.4          feyn          1531.6         insel           579.5\n7          theil             9.6        herzog          1477.3  christlichen           311.4          elbt          1717.5        mittag           583.0      christen          2424.5          thun          1525.6          sagt           559.6\n8           berg             9.3          reis          1470.6         diser           290.6          berg          1640.2         insel           552.4         stadt          2285.2        indien          1420.3         sehen           482.3\n9           heut             8.9          herr          1437.5         pater           280.3          wolt          1581.6      bekommen           538.3        heilig          2256.6        sachen          1408.9         sollt           474.5\n10        vielen             8.9         theil          1436.9        indien           276.2         keyer          1532.3         vnter           531.1         namen          2172.2        vielen          1407.8          hand           471.6\n11       kirchen             8.7         schon          1381.4         reich           272.0       chriten          1499.0       spanier           517.3          grab          2028.0         sehen          1383.3         herrn           466.0\n12         namen             8.6          seit          1374.7        sachen           271.4       zwichen          1497.9     hollndern           511.4        waffer          1917.0          hand          1368.3        sollen           449.7\n13         pferd             8.6        selbig          1372.0      bischoff           269.5     onderlich          1489.3         landt           506.0       venedig          1833.0          werd          1363.8          fiel           445.8\n14          thun             8.5        knigin          1363.2         disem           267.0       menchen          1473.8        waffer           505.6       genannt          1720.7         schon          1359.0          erst           444.2\n15       kleinen             8.3         kirch          1298.1    historisch           261.7        olcher          1465.1        ancker           495.6         alten          1632.4        seiten          1328.6          leib           435.2\n16       dieselb             7.9         schne          1276.3       begeben           249.7          leut          1448.3        morgen           493.9       gesehen          1572.3        laffen          1319.4          herr           428.7\n17         htten             7.3          hand          1218.0    kniglichen           244.9         knige          1444.8         etwan           473.0       christu          1531.9        jedoch          1276.6          seyn           427.3\n18          feyn             7.1          erst          1217.5        herzen           237.8     knigreich          1415.1          fast           463.5        tempel          1522.2         orten          1236.7         zuvor           421.7\n19        waffer             7.0         sollt          1189.4          werd           235.5          chon          1385.8      soldaten           462.2       christi          1512.3        lassen          1197.6          berg           414.5"
     },
     "execution_count": 6,
     "metadata": {},
     "output_type": "execute_result"
    }
   ],
   "source": [
    "import pandas as pd\n",
    "\n",
    "def display_topics(model, feature_names, no_top_words):\n",
    "    topic_dict = {}\n",
    "    for topic_idx, topic in enumerate(model.components_):\n",
    "        topic_dict[\"Topic %d words\" % (topic_idx)]= ['{}'.format(feature_names[i])\n",
    "                        for i in topic.argsort()[:-no_top_words - 1:-1]]\n",
    "        topic_dict[\"Topic %d weights\" % (topic_idx)]= ['{:.1f}'.format(topic[i])\n",
    "                        for i in topic.argsort()[:-no_top_words - 1:-1]]\n",
    "    return pd.DataFrame(topic_dict)\n",
    "\n",
    "no_top_words = 20\n",
    "pd.set_option('display.max_columns', 500)\n",
    "pd.set_option('display.width', 1000)\n",
    "display_topics(model, tf_feature_names, no_top_words)"
   ]
  },
  {
   "cell_type": "code",
   "execution_count": null,
   "metadata": {},
   "outputs": [],
   "source": []
  }
 ]
}