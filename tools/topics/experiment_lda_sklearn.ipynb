{
 "nbformat": 4,
 "nbformat_minor": 2,
 "metadata": {
  "language_info": {
   "name": "python",
   "codemirror_mode": {
    "name": "ipython",
    "version": 3
   },
   "version": "3.6.5-final"
  },
  "orig_nbformat": 2,
  "file_extension": ".py",
  "mimetype": "text/x-python",
  "name": "python",
  "npconvert_exporter": "python",
  "pygments_lexer": "ipython3",
  "version": 3,
  "kernelspec": {
   "name": "python3",
   "display_name": "Python 3"
  }
 },
 "cells": [
  {
   "cell_type": "code",
   "execution_count": 1,
   "metadata": {},
   "outputs": [
    {
     "data": {
      "text/plain": "'Loaded 204 texts'"
     },
     "execution_count": 1,
     "metadata": {},
     "output_type": "execute_result"
    }
   ],
   "source": [
    "import glob\n",
    "import re\n",
    "\n",
    "INPUT_FOLDER = '../../../travelogues-corpus/17th_century/books'\n",
    "\n",
    "def read_file(f):\n",
    "  with open(f, 'r') as file:\n",
    "    str = file.read()\n",
    "    ascii_only = re.sub('[^A-Za-z0-9 ]+', '', str)\n",
    "    return re.sub('\\\\s+', ' ', ascii_only)\n",
    "\n",
    "# List names of all .txt files in the folder\n",
    "filenames = [f for f in glob.glob(INPUT_FOLDER + '**/*.txt')]\n",
    "texts = [ read_file(f) for f in filenames ]\n",
    "\n",
    "f'Loaded {len(texts)} texts'"
   ]
  },
  {
   "cell_type": "code",
   "execution_count": 3,
   "metadata": {},
   "outputs": [
    {
     "name": "stdout",
     "output_type": "stream",
     "text": "[nltk_data] Downloading package stopwords to /home/simonr/nltk_data...\n[nltk_data]   Package stopwords is already up-to-date!\n"
    }
   ],
   "source": [
    "import nltk\n",
    "\n",
    "nltk.download('stopwords')\n",
    "\n",
    "from nltk.corpus import stopwords\n",
    "\n",
    "from nltk.stem import PorterStemmer\n",
    "from nltk.tokenize import word_tokenize\n",
    "from wordcloud import WordCloud\n",
    "import itertools\n",
    "import matplotlib.pyplot as plt\n",
    "import string\n",
    "\n",
    "stop_words = stopwords.words('german')\n",
    "stop_words.extend(['allein', 'auff', 'fich', 'feinen', 'gleich', 'vnd', 'vnder', 'mehr', 'ganz', 'kamen', 'kommen', 'wann', 'vber', 'vnnd', 'fr', 'vi', 'vn', 'vns', 'daher', 'danach', 'darnach', 'denen', 'deren', 'statt', 'war', 'wegen', 'wider', 'worden', 'gleich', 'wenig'])\n",
    "\n",
    "# We'll do stemming to avoid duplicate variants\n",
    "porter = PorterStemmer()\n",
    "\n",
    "def stem_message(text):\n",
    "  words = word_tokenize(text)\n",
    "\n",
    "  stemmed_words = []\n",
    "  for word in words:\n",
    "    stemmed_words.append(porter.stem(word))\n",
    "    \n",
    "  # Remove links and stopwords here\n",
    "  clean_tokens = [w for w in stemmed_words if not w in stop_words and len(w) > 3] \n",
    "  return ' '.join(clean_tokens)\n",
    "\n",
    "cleaned_texts = []\n",
    "for text in texts:\n",
    "  # Remove punctutation\n",
    "  text = text.translate(str.maketrans('', '', string.punctuation))\n",
    "  cleaned_texts.append(stem_message(text))"
   ]
  },
  {
   "cell_type": "code",
   "execution_count": 4,
   "metadata": {},
   "outputs": [
    {
     "name": "stderr",
     "output_type": "stream",
     "text": "/home/simonr/Software/anaconda3/lib/python3.6/site-packages/sklearn/decomposition/online_lda.py:536: DeprecationWarning: The default value for 'learning_method' will be changed from 'online' to 'batch' in the release 0.20. This warning was introduced in 0.18.\n  DeprecationWarning)\n"
    },
    {
     "data": {
      "text/plain": "LatentDirichletAllocation(batch_size=128, doc_topic_prior=None,\n             evaluate_every=-1, learning_decay=0.7, learning_method=None,\n             learning_offset=10.0, max_doc_update_iter=100, max_iter=10,\n             mean_change_tol=0.001, n_components=8, n_jobs=1,\n             n_topics=None, perp_tol=0.1, random_state=0,\n             topic_word_prior=None, total_samples=1000000.0, verbose=0)"
     },
     "execution_count": 4,
     "metadata": {},
     "output_type": "execute_result"
    }
   ],
   "source": [
    "from sklearn.feature_extraction.text import CountVectorizer\n",
    "from sklearn.decomposition import LatentDirichletAllocation\n",
    "\n",
    "vectorizer = CountVectorizer(max_df=0.9, min_df=25, token_pattern='\\w+|\\$[\\d\\.]+|\\S+')\n",
    "\n",
    "# apply transformation\n",
    "tf = vectorizer.fit_transform(cleaned_texts).toarray()\n",
    "\n",
    "# tf_feature_names tells us what word each column in the matric represents\n",
    "tf_feature_names = vectorizer.get_feature_names()\n",
    "\n",
    "number_of_topics = 8\n",
    "model = LatentDirichletAllocation(n_components=number_of_topics, random_state=0)\n",
    "model.fit(tf)"
   ]
  },
  {
   "cell_type": "code",
   "execution_count": 6,
   "metadata": {},
   "outputs": [
    {
     "data": {
      "text/html": "<div>\n<style scoped>\n    .dataframe tbody tr th:only-of-type {\n        vertical-align: middle;\n    }\n\n    .dataframe tbody tr th {\n        vertical-align: top;\n    }\n\n    .dataframe thead th {\n        text-align: right;\n    }\n</style>\n<table border=\"1\" class=\"dataframe\">\n  <thead>\n    <tr style=\"text-align: right;\">\n      <th></th>\n      <th>Topic 0 words</th>\n      <th>Topic 0 weights</th>\n      <th>Topic 1 words</th>\n      <th>Topic 1 weights</th>\n      <th>Topic 2 words</th>\n      <th>Topic 2 weights</th>\n      <th>Topic 3 words</th>\n      <th>Topic 3 weights</th>\n      <th>Topic 4 words</th>\n      <th>Topic 4 weights</th>\n      <th>Topic 5 words</th>\n      <th>Topic 5 weights</th>\n      <th>Topic 6 words</th>\n      <th>Topic 6 weights</th>\n      <th>Topic 7 words</th>\n      <th>Topic 7 weights</th>\n    </tr>\n  </thead>\n  <tbody>\n    <tr>\n      <th>0</th>\n      <td>stadt</td>\n      <td>6932.6</td>\n      <td>diee</td>\n      <td>7935.0</td>\n      <td>diee</td>\n      <td>4077.7</td>\n      <td>solch</td>\n      <td>6495.3</td>\n      <td>dito</td>\n      <td>110.2</td>\n      <td>berg</td>\n      <td>759.9</td>\n      <td>dief</td>\n      <td>1802.6</td>\n      <td>excel</td>\n      <td>40.0</td>\n    </tr>\n    <tr>\n      <th>1</th>\n      <td>solch</td>\n      <td>6322.5</td>\n      <td>dieer</td>\n      <td>4182.9</td>\n      <td>olch</td>\n      <td>2879.9</td>\n      <td>berg</td>\n      <td>4815.4</td>\n      <td>bekamen</td>\n      <td>46.2</td>\n      <td>stadt</td>\n      <td>741.4</td>\n      <td>fein</td>\n      <td>1686.1</td>\n      <td>diee</td>\n      <td>19.6</td>\n    </tr>\n    <tr>\n      <th>2</th>\n      <td>wollt</td>\n      <td>3937.9</td>\n      <td>stadt</td>\n      <td>3109.6</td>\n      <td>dieer</td>\n      <td>2810.9</td>\n      <td>fein</td>\n      <td>3835.2</td>\n      <td>insel</td>\n      <td>43.1</td>\n      <td>kirchen</td>\n      <td>538.6</td>\n      <td>diefer</td>\n      <td>995.9</td>\n      <td>dieer</td>\n      <td>17.4</td>\n    </tr>\n    <tr>\n      <th>3</th>\n      <td>wurd</td>\n      <td>3736.3</td>\n      <td>uner</td>\n      <td>2870.5</td>\n      <td>waer</td>\n      <td>2106.6</td>\n      <td>stadt</td>\n      <td>3360.2</td>\n      <td>windt</td>\n      <td>38.2</td>\n      <td>fein</td>\n      <td>524.3</td>\n      <td>folch</td>\n      <td>979.1</td>\n      <td>stadt</td>\n      <td>14.6</td>\n    </tr>\n    <tr>\n      <th>4</th>\n      <td>wrde</td>\n      <td>3655.3</td>\n      <td>olch</td>\n      <td>2285.2</td>\n      <td>berg</td>\n      <td>1936.8</td>\n      <td>waffer</td>\n      <td>3278.9</td>\n      <td>admir</td>\n      <td>37.8</td>\n      <td>oben</td>\n      <td>409.2</td>\n      <td>stadt</td>\n      <td>905.4</td>\n      <td>solch</td>\n      <td>10.4</td>\n    </tr>\n    <tr>\n      <th>5</th>\n      <td>htte</td>\n      <td>3649.3</td>\n      <td>dieem</td>\n      <td>2161.2</td>\n      <td>dieem</td>\n      <td>1853.5</td>\n      <td>christen</td>\n      <td>3194.7</td>\n      <td>nachen</td>\n      <td>36.9</td>\n      <td>kirch</td>\n      <td>370.4</td>\n      <td>fehr</td>\n      <td>891.8</td>\n      <td>fein</td>\n      <td>10.0</td>\n    </tr>\n    <tr>\n      <th>6</th>\n      <td>fein</td>\n      <td>3374.4</td>\n      <td>dieen</td>\n      <td>2047.6</td>\n      <td>geween</td>\n      <td>1632.0</td>\n      <td>herrn</td>\n      <td>3174.1</td>\n      <td>abendt</td>\n      <td>32.7</td>\n      <td>zeiten</td>\n      <td>303.2</td>\n      <td>ware</td>\n      <td>805.6</td>\n      <td>olch</td>\n      <td>9.5</td>\n    </tr>\n    <tr>\n      <th>7</th>\n      <td>tage</td>\n      <td>3261.4</td>\n      <td>tage</td>\n      <td>1745.4</td>\n      <td>daelbt</td>\n      <td>1400.3</td>\n      <td>heiligen</td>\n      <td>2936.9</td>\n      <td>tage</td>\n      <td>24.6</td>\n      <td>item</td>\n      <td>300.8</td>\n      <td>wurd</td>\n      <td>752.0</td>\n      <td>dieem</td>\n      <td>9.3</td>\n    </tr>\n    <tr>\n      <th>8</th>\n      <td>davon</td>\n      <td>3227.4</td>\n      <td>waer</td>\n      <td>1496.5</td>\n      <td>dieen</td>\n      <td>1355.4</td>\n      <td>herr</td>\n      <td>2881.9</td>\n      <td>bantam</td>\n      <td>24.5</td>\n      <td>anno</td>\n      <td>297.9</td>\n      <td>alfo</td>\n      <td>696.9</td>\n      <td>berg</td>\n      <td>8.6</td>\n    </tr>\n    <tr>\n      <th>9</th>\n      <td>find</td>\n      <td>3197.9</td>\n      <td>japan</td>\n      <td>1492.6</td>\n      <td>trcken</td>\n      <td>1292.9</td>\n      <td>kirchen</td>\n      <td>2879.7</td>\n      <td>diee</td>\n      <td>24.0</td>\n      <td>hand</td>\n      <td>293.3</td>\n      <td>diefem</td>\n      <td>651.0</td>\n      <td>inel</td>\n      <td>8.5</td>\n    </tr>\n    <tr>\n      <th>10</th>\n      <td>sehen</td>\n      <td>2941.7</td>\n      <td>laen</td>\n      <td>1413.6</td>\n      <td>chriten</td>\n      <td>1289.2</td>\n      <td>trcken</td>\n      <td>2792.0</td>\n      <td>inseln</td>\n      <td>23.4</td>\n      <td>namen</td>\n      <td>263.4</td>\n      <td>feiner</td>\n      <td>633.8</td>\n      <td>theil</td>\n      <td>8.2</td>\n    </tr>\n    <tr>\n      <th>11</th>\n      <td>fiel</td>\n      <td>2775.5</td>\n      <td>ondern</td>\n      <td>1321.7</td>\n      <td>inel</td>\n      <td>1280.0</td>\n      <td>namen</td>\n      <td>2660.0</td>\n      <td>mittag</td>\n      <td>23.4</td>\n      <td>orth</td>\n      <td>253.0</td>\n      <td>theil</td>\n      <td>621.9</td>\n      <td>wurden</td>\n      <td>8.1</td>\n    </tr>\n    <tr>\n      <th>12</th>\n      <td>herrn</td>\n      <td>2601.2</td>\n      <td>endlich</td>\n      <td>1318.1</td>\n      <td>vner</td>\n      <td>1247.1</td>\n      <td>find</td>\n      <td>2600.1</td>\n      <td>daselbst</td>\n      <td>22.5</td>\n      <td>darinnen</td>\n      <td>250.6</td>\n      <td>ward</td>\n      <td>597.5</td>\n      <td>trcken</td>\n      <td>7.9</td>\n    </tr>\n    <tr>\n      <th>13</th>\n      <td>schon</td>\n      <td>2592.3</td>\n      <td>deen</td>\n      <td>1316.4</td>\n      <td>namen</td>\n      <td>1242.2</td>\n      <td>jerusalem</td>\n      <td>2475.7</td>\n      <td>landt</td>\n      <td>21.7</td>\n      <td>herzog</td>\n      <td>249.6</td>\n      <td>diefen</td>\n      <td>527.5</td>\n      <td>herrn</td>\n      <td>7.8</td>\n    </tr>\n    <tr>\n      <th>14</th>\n      <td>theil</td>\n      <td>2555.8</td>\n      <td>knige</td>\n      <td>1277.1</td>\n      <td>laen</td>\n      <td>1193.5</td>\n      <td>gesehen</td>\n      <td>2470.3</td>\n      <td>morgen</td>\n      <td>21.2</td>\n      <td>ferner</td>\n      <td>244.7</td>\n      <td>wurden</td>\n      <td>525.9</td>\n      <td>seiten</td>\n      <td>7.6</td>\n    </tr>\n    <tr>\n      <th>15</th>\n      <td>waffer</td>\n      <td>2444.8</td>\n      <td>wrde</td>\n      <td>1232.8</td>\n      <td>ondern</td>\n      <td>1165.8</td>\n      <td>insel</td>\n      <td>2235.2</td>\n      <td>indien</td>\n      <td>19.7</td>\n      <td>alten</td>\n      <td>239.4</td>\n      <td>davon</td>\n      <td>506.9</td>\n      <td>dergleichen</td>\n      <td>7.4</td>\n    </tr>\n    <tr>\n      <th>16</th>\n      <td>sollt</td>\n      <td>2364.0</td>\n      <td>wohl</td>\n      <td>1213.4</td>\n      <td>vnter</td>\n      <td>1135.6</td>\n      <td>heilig</td>\n      <td>2140.2</td>\n      <td>volck</td>\n      <td>18.4</td>\n      <td>rechten</td>\n      <td>234.0</td>\n      <td>feinem</td>\n      <td>479.6</td>\n      <td>darinnen</td>\n      <td>7.4</td>\n    </tr>\n    <tr>\n      <th>17</th>\n      <td>dergleichen</td>\n      <td>2356.4</td>\n      <td>daelbt</td>\n      <td>1201.5</td>\n      <td>herrn</td>\n      <td>1041.0</td>\n      <td>fast</td>\n      <td>2124.9</td>\n      <td>meilen</td>\n      <td>17.3</td>\n      <td>allda</td>\n      <td>228.7</td>\n      <td>wohl</td>\n      <td>466.6</td>\n      <td>reich</td>\n      <td>7.4</td>\n    </tr>\n    <tr>\n      <th>18</th>\n      <td>dieselb</td>\n      <td>2297.8</td>\n      <td>wurd</td>\n      <td>1172.0</td>\n      <td>volck</td>\n      <td>983.7</td>\n      <td>wind</td>\n      <td>2116.3</td>\n      <td>banda</td>\n      <td>16.1</td>\n      <td>genant</td>\n      <td>227.2</td>\n      <td>under</td>\n      <td>466.3</td>\n      <td>abend</td>\n      <td>7.3</td>\n    </tr>\n    <tr>\n      <th>19</th>\n      <td>herr</td>\n      <td>2275.8</td>\n      <td>davon</td>\n      <td>1164.9</td>\n      <td>geehen</td>\n      <td>961.1</td>\n      <td>menschen</td>\n      <td>2053.3</td>\n      <td>fnffte</td>\n      <td>15.7</td>\n      <td>theil</td>\n      <td>224.3</td>\n      <td>unfer</td>\n      <td>458.1</td>\n      <td>meilen</td>\n      <td>7.2</td>\n    </tr>\n  </tbody>\n</table>\n</div>",
      "text/plain": "   Topic 0 words Topic 0 weights Topic 1 words Topic 1 weights Topic 2 words Topic 2 weights Topic 3 words Topic 3 weights Topic 4 words Topic 4 weights Topic 5 words Topic 5 weights Topic 6 words Topic 6 weights Topic 7 words Topic 7 weights\n0          stadt          6932.6          diee          7935.0          diee          4077.7         solch          6495.3          dito           110.2          berg           759.9          dief          1802.6         excel            40.0\n1          solch          6322.5         dieer          4182.9          olch          2879.9          berg          4815.4       bekamen            46.2         stadt           741.4          fein          1686.1          diee            19.6\n2          wollt          3937.9         stadt          3109.6         dieer          2810.9          fein          3835.2         insel            43.1       kirchen           538.6        diefer           995.9         dieer            17.4\n3           wurd          3736.3          uner          2870.5          waer          2106.6         stadt          3360.2         windt            38.2          fein           524.3         folch           979.1         stadt            14.6\n4           wrde          3655.3          olch          2285.2          berg          1936.8        waffer          3278.9         admir            37.8          oben           409.2         stadt           905.4         solch            10.4\n5           htte          3649.3         dieem          2161.2         dieem          1853.5      christen          3194.7        nachen            36.9         kirch           370.4          fehr           891.8          fein            10.0\n6           fein          3374.4         dieen          2047.6        geween          1632.0         herrn          3174.1        abendt            32.7        zeiten           303.2          ware           805.6          olch             9.5\n7           tage          3261.4          tage          1745.4        daelbt          1400.3      heiligen          2936.9          tage            24.6          item           300.8          wurd           752.0         dieem             9.3\n8          davon          3227.4          waer          1496.5         dieen          1355.4          herr          2881.9        bantam            24.5          anno           297.9          alfo           696.9          berg             8.6\n9           find          3197.9         japan          1492.6        trcken          1292.9       kirchen          2879.7          diee            24.0          hand           293.3        diefem           651.0          inel             8.5\n10         sehen          2941.7          laen          1413.6       chriten          1289.2        trcken          2792.0        inseln            23.4         namen           263.4        feiner           633.8         theil             8.2\n11          fiel          2775.5        ondern          1321.7          inel          1280.0         namen          2660.0        mittag            23.4          orth           253.0         theil           621.9        wurden             8.1\n12         herrn          2601.2       endlich          1318.1          vner          1247.1          find          2600.1      daselbst            22.5      darinnen           250.6          ward           597.5        trcken             7.9\n13         schon          2592.3          deen          1316.4         namen          1242.2     jerusalem          2475.7         landt            21.7        herzog           249.6        diefen           527.5         herrn             7.8\n14         theil          2555.8         knige          1277.1          laen          1193.5       gesehen          2470.3        morgen            21.2        ferner           244.7        wurden           525.9        seiten             7.6\n15        waffer          2444.8          wrde          1232.8        ondern          1165.8         insel          2235.2        indien            19.7         alten           239.4         davon           506.9   dergleichen             7.4\n16         sollt          2364.0          wohl          1213.4         vnter          1135.6        heilig          2140.2         volck            18.4       rechten           234.0        feinem           479.6      darinnen             7.4\n17   dergleichen          2356.4        daelbt          1201.5         herrn          1041.0          fast          2124.9        meilen            17.3         allda           228.7          wohl           466.6         reich             7.4\n18       dieselb          2297.8          wurd          1172.0         volck           983.7          wind          2116.3         banda            16.1        genant           227.2         under           466.3         abend             7.3\n19          herr          2275.8         davon          1164.9        geehen           961.1      menschen          2053.3        fnffte            15.7         theil           224.3         unfer           458.1        meilen             7.2"
     },
     "execution_count": 6,
     "metadata": {},
     "output_type": "execute_result"
    }
   ],
   "source": [
    "import pandas as pd\n",
    "\n",
    "def display_topics(model, feature_names, no_top_words):\n",
    "    topic_dict = {}\n",
    "    for topic_idx, topic in enumerate(model.components_):\n",
    "        topic_dict[\"Topic %d words\" % (topic_idx)]= ['{}'.format(feature_names[i])\n",
    "                        for i in topic.argsort()[:-no_top_words - 1:-1]]\n",
    "        topic_dict[\"Topic %d weights\" % (topic_idx)]= ['{:.1f}'.format(topic[i])\n",
    "                        for i in topic.argsort()[:-no_top_words - 1:-1]]\n",
    "    return pd.DataFrame(topic_dict)\n",
    "\n",
    "no_top_words = 20\n",
    "pd.set_option('display.max_columns', 500)\n",
    "pd.set_option('display.width', 1000)\n",
    "display_topics(model, tf_feature_names, no_top_words)"
   ]
  },
  {
   "cell_type": "code",
   "execution_count": null,
   "metadata": {},
   "outputs": [],
   "source": []
  }
 ]
}