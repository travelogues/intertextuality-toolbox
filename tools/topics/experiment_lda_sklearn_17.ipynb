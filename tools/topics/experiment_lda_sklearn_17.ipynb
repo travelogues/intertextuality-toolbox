{
 "nbformat": 4,
 "nbformat_minor": 2,
 "metadata": {
  "language_info": {
   "name": "python",
   "codemirror_mode": {
    "name": "ipython",
    "version": 3
   },
   "version": "3.6.5-final"
  },
  "orig_nbformat": 2,
  "file_extension": ".py",
  "mimetype": "text/x-python",
  "name": "python",
  "npconvert_exporter": "python",
  "pygments_lexer": "ipython3",
  "version": 3,
  "kernelspec": {
   "name": "python3",
   "display_name": "Python 3"
  }
 },
 "cells": [
  {
   "cell_type": "code",
   "execution_count": 1,
   "metadata": {},
   "outputs": [
    {
     "data": {
      "text/plain": "'Loaded 204 texts'"
     },
     "execution_count": 1,
     "metadata": {},
     "output_type": "execute_result"
    }
   ],
   "source": [
    "import glob\n",
    "import re\n",
    "\n",
    "INPUT_FOLDER = '../../../travelogues-corpus/17th_century/books'\n",
    "\n",
    "def read_file(f):\n",
    "  with open(f, 'r') as file:\n",
    "    str = file.read()\n",
    "    ascii_only = re.sub('[^A-Za-z0-9 ]+', '', str)\n",
    "    return re.sub('\\\\s+', ' ', ascii_only)\n",
    "\n",
    "filenames = [f for f in glob.glob(INPUT_FOLDER + '**/*.txt')]\n",
    "texts = [ read_file(f) for f in filenames ]\n",
    "\n",
    "f'Loaded {len(texts)} texts'"
   ]
  },
  {
   "cell_type": "code",
   "execution_count": 3,
   "metadata": {},
   "outputs": [],
   "source": [
    "extra_stopwords = []\n",
    "\n",
    "with open('stopwords.txt') as f:\n",
    "  extra_stopwords = f.readlines()\n",
    "  extra_stopwords = [ x.strip() for x in extra_stopwords ]"
   ]
  },
  {
   "cell_type": "code",
   "execution_count": 4,
   "metadata": {},
   "outputs": [
    {
     "name": "stdout",
     "output_type": "stream",
     "text": "[nltk_data] Downloading package stopwords to /home/simonr/nltk_data...\n[nltk_data]   Package stopwords is already up-to-date!\n"
    }
   ],
   "source": [
    "import nltk\n",
    "\n",
    "nltk.download('stopwords')\n",
    "\n",
    "from nltk.corpus import stopwords\n",
    "\n",
    "stop_words = stopwords.words('german')\n",
    "stop_words.extend(extra_stopwords)\n",
    "stop_words.sort()"
   ]
  },
  {
   "cell_type": "code",
   "execution_count": 5,
   "metadata": {},
   "outputs": [],
   "source": [
    "from nltk.stem import PorterStemmer\n",
    "from nltk.tokenize import word_tokenize\n",
    "from wordcloud import WordCloud\n",
    "import itertools\n",
    "import matplotlib.pyplot as plt\n",
    "import string\n",
    "\n",
    "# We'll do stemming to avoid duplicate variants\n",
    "porter = PorterStemmer()\n",
    "\n",
    "def stem_message(text):\n",
    "  words = word_tokenize(text)\n",
    "\n",
    "  stemmed_words = []\n",
    "  for word in words:\n",
    "    stemmed_words.append(porter.stem(word))\n",
    "    \n",
    "  # Remove stopwords here\n",
    "  clean_tokens = [w for w in stemmed_words if not w in stop_words and len(w) > 3] \n",
    "  return ' '.join(clean_tokens)\n",
    "\n",
    "cleaned_texts = []\n",
    "for text in texts:\n",
    "  # Remove punctutation\n",
    "  text = text.translate(str.maketrans('', '', string.punctuation))\n",
    "  cleaned_texts.append(stem_message(text))"
   ]
  },
  {
   "cell_type": "code",
   "execution_count": 6,
   "metadata": {},
   "outputs": [
    {
     "name": "stderr",
     "output_type": "stream",
     "text": "/home/simonr/Software/anaconda3/lib/python3.6/site-packages/sklearn/decomposition/online_lda.py:536: DeprecationWarning: The default value for 'learning_method' will be changed from 'online' to 'batch' in the release 0.20. This warning was introduced in 0.18.\n  DeprecationWarning)\n"
    },
    {
     "data": {
      "text/plain": "LatentDirichletAllocation(batch_size=128, doc_topic_prior=None,\n             evaluate_every=-1, learning_decay=0.7, learning_method=None,\n             learning_offset=10.0, max_doc_update_iter=100, max_iter=10,\n             mean_change_tol=0.001, n_components=6, n_jobs=1,\n             n_topics=None, perp_tol=0.1, random_state=0,\n             topic_word_prior=None, total_samples=1000000.0, verbose=0)"
     },
     "execution_count": 6,
     "metadata": {},
     "output_type": "execute_result"
    }
   ],
   "source": [
    "from sklearn.feature_extraction.text import CountVectorizer\n",
    "from sklearn.decomposition import LatentDirichletAllocation\n",
    "\n",
    "vectorizer = CountVectorizer(max_df=0.9, min_df=25, token_pattern='\\w+|\\$[\\d\\.]+|\\S+')\n",
    "tf = vectorizer.fit_transform(cleaned_texts).toarray()\n",
    "\n",
    "tf_feature_names = vectorizer.get_feature_names()\n",
    "\n",
    "number_of_topics = 6\n",
    "model = LatentDirichletAllocation(n_components=number_of_topics, random_state=0)\n",
    "model.fit(tf)"
   ]
  },
  {
   "cell_type": "code",
   "execution_count": 7,
   "metadata": {},
   "outputs": [
    {
     "data": {
      "text/html": "<div>\n<style scoped>\n    .dataframe tbody tr th:only-of-type {\n        vertical-align: middle;\n    }\n\n    .dataframe tbody tr th {\n        vertical-align: top;\n    }\n\n    .dataframe thead th {\n        text-align: right;\n    }\n</style>\n<table border=\"1\" class=\"dataframe\">\n  <thead>\n    <tr style=\"text-align: right;\">\n      <th></th>\n      <th>Topic 0 words</th>\n      <th>Topic 0 weights</th>\n      <th>Topic 1 words</th>\n      <th>Topic 1 weights</th>\n      <th>Topic 2 words</th>\n      <th>Topic 2 weights</th>\n      <th>Topic 3 words</th>\n      <th>Topic 3 weights</th>\n      <th>Topic 4 words</th>\n      <th>Topic 4 weights</th>\n      <th>Topic 5 words</th>\n      <th>Topic 5 weights</th>\n    </tr>\n  </thead>\n  <tbody>\n    <tr>\n      <th>0</th>\n      <td>stadt</td>\n      <td>2448.4</td>\n      <td>berg</td>\n      <td>2204.8</td>\n      <td>stadt</td>\n      <td>4755.2</td>\n      <td>berg</td>\n      <td>4429.5</td>\n      <td>stadt</td>\n      <td>1136.1</td>\n      <td>stadt</td>\n      <td>4203.7</td>\n    </tr>\n    <tr>\n      <th>1</th>\n      <td>tage</td>\n      <td>1488.6</td>\n      <td>trcken</td>\n      <td>1186.4</td>\n      <td>tage</td>\n      <td>3273.4</td>\n      <td>christen</td>\n      <td>3027.4</td>\n      <td>laen</td>\n      <td>1053.1</td>\n      <td>herrn</td>\n      <td>2306.0</td>\n    </tr>\n    <tr>\n      <th>2</th>\n      <td>japan</td>\n      <td>1266.1</td>\n      <td>namen</td>\n      <td>1186.4</td>\n      <td>theil</td>\n      <td>2783.6</td>\n      <td>trcken</td>\n      <td>2951.5</td>\n      <td>inel</td>\n      <td>948.7</td>\n      <td>herr</td>\n      <td>1867.7</td>\n    </tr>\n    <tr>\n      <th>3</th>\n      <td>knige</td>\n      <td>1031.6</td>\n      <td>admir</td>\n      <td>1046.1</td>\n      <td>waffer</td>\n      <td>2472.2</td>\n      <td>kirchen</td>\n      <td>2833.1</td>\n      <td>meilen</td>\n      <td>801.4</td>\n      <td>herzog</td>\n      <td>1617.0</td>\n    </tr>\n    <tr>\n      <th>4</th>\n      <td>reich</td>\n      <td>970.4</td>\n      <td>herrn</td>\n      <td>1014.6</td>\n      <td>indien</td>\n      <td>2364.1</td>\n      <td>heiligen</td>\n      <td>2829.8</td>\n      <td>indian</td>\n      <td>728.6</td>\n      <td>kirch</td>\n      <td>1534.0</td>\n    </tr>\n    <tr>\n      <th>5</th>\n      <td>laen</td>\n      <td>941.2</td>\n      <td>herr</td>\n      <td>979.5</td>\n      <td>feind</td>\n      <td>1884.6</td>\n      <td>herrn</td>\n      <td>2505.7</td>\n      <td>knigreich</td>\n      <td>690.2</td>\n      <td>schne</td>\n      <td>1302.8</td>\n    </tr>\n    <tr>\n      <th>6</th>\n      <td>sina</td>\n      <td>842.1</td>\n      <td>mittag</td>\n      <td>962.6</td>\n      <td>hand</td>\n      <td>1868.6</td>\n      <td>stadt</td>\n      <td>2491.0</td>\n      <td>leut</td>\n      <td>615.0</td>\n      <td>italien</td>\n      <td>1178.0</td>\n    </tr>\n    <tr>\n      <th>7</th>\n      <td>keyer</td>\n      <td>767.8</td>\n      <td>kirchen</td>\n      <td>926.2</td>\n      <td>leut</td>\n      <td>1857.4</td>\n      <td>jerusalem</td>\n      <td>2460.0</td>\n      <td>wind</td>\n      <td>588.4</td>\n      <td>waffer</td>\n      <td>1148.5</td>\n    </tr>\n    <tr>\n      <th>8</th>\n      <td>hand</td>\n      <td>738.8</td>\n      <td>stadt</td>\n      <td>888.1</td>\n      <td>reich</td>\n      <td>1603.5</td>\n      <td>herr</td>\n      <td>2366.9</td>\n      <td>inul</td>\n      <td>586.3</td>\n      <td>trcken</td>\n      <td>1147.9</td>\n    </tr>\n    <tr>\n      <th>9</th>\n      <td>leut</td>\n      <td>707.1</td>\n      <td>chriten</td>\n      <td>860.4</td>\n      <td>hollnder</td>\n      <td>1583.8</td>\n      <td>namen</td>\n      <td>2186.5</td>\n      <td>theil</td>\n      <td>575.6</td>\n      <td>berg</td>\n      <td>1132.1</td>\n    </tr>\n    <tr>\n      <th>10</th>\n      <td>knigreich</td>\n      <td>697.6</td>\n      <td>morgen</td>\n      <td>858.4</td>\n      <td>wind</td>\n      <td>1554.1</td>\n      <td>waffer</td>\n      <td>2135.0</td>\n      <td>namen</td>\n      <td>554.3</td>\n      <td>hand</td>\n      <td>1104.1</td>\n    </tr>\n    <tr>\n      <th>11</th>\n      <td>menchen</td>\n      <td>688.4</td>\n      <td>alten</td>\n      <td>854.4</td>\n      <td>menschen</td>\n      <td>1547.2</td>\n      <td>heilig</td>\n      <td>2047.5</td>\n      <td>beer</td>\n      <td>545.7</td>\n      <td>abend</td>\n      <td>1095.5</td>\n    </tr>\n    <tr>\n      <th>12</th>\n      <td>berg</td>\n      <td>672.6</td>\n      <td>volck</td>\n      <td>854.0</td>\n      <td>persien</td>\n      <td>1531.2</td>\n      <td>christi</td>\n      <td>1737.5</td>\n      <td>volck</td>\n      <td>543.2</td>\n      <td>knigin</td>\n      <td>1081.0</td>\n    </tr>\n    <tr>\n      <th>13</th>\n      <td>meilen</td>\n      <td>666.7</td>\n      <td>wind</td>\n      <td>840.6</td>\n      <td>volck</td>\n      <td>1526.8</td>\n      <td>glauben</td>\n      <td>1671.2</td>\n      <td>chriten</td>\n      <td>539.5</td>\n      <td>theil</td>\n      <td>1050.4</td>\n    </tr>\n    <tr>\n      <th>14</th>\n      <td>alten</td>\n      <td>602.3</td>\n      <td>theil</td>\n      <td>822.9</td>\n      <td>meilen</td>\n      <td>1512.8</td>\n      <td>grab</td>\n      <td>1607.6</td>\n      <td>indien</td>\n      <td>533.9</td>\n      <td>sachen</td>\n      <td>1034.2</td>\n    </tr>\n    <tr>\n      <th>15</th>\n      <td>welt</td>\n      <td>589.8</td>\n      <td>keyer</td>\n      <td>775.6</td>\n      <td>welt</td>\n      <td>1496.8</td>\n      <td>christu</td>\n      <td>1551.1</td>\n      <td>tage</td>\n      <td>526.0</td>\n      <td>pferd</td>\n      <td>1004.8</td>\n    </tr>\n    <tr>\n      <th>16</th>\n      <td>wunderlich</td>\n      <td>567.6</td>\n      <td>hollnder</td>\n      <td>740.1</td>\n      <td>knige</td>\n      <td>1494.4</td>\n      <td>knigreich</td>\n      <td>1532.3</td>\n      <td>denelben</td>\n      <td>495.1</td>\n      <td>reis</td>\n      <td>956.4</td>\n    </tr>\n    <tr>\n      <th>17</th>\n      <td>tauend</td>\n      <td>556.2</td>\n      <td>oben</td>\n      <td>719.0</td>\n      <td>orten</td>\n      <td>1487.9</td>\n      <td>alten</td>\n      <td>1468.9</td>\n      <td>ollen</td>\n      <td>488.8</td>\n      <td>tage</td>\n      <td>945.1</td>\n    </tr>\n    <tr>\n      <th>18</th>\n      <td>getalt</td>\n      <td>543.5</td>\n      <td>meilen</td>\n      <td>706.0</td>\n      <td>sachen</td>\n      <td>1482.4</td>\n      <td>insel</td>\n      <td>1432.4</td>\n      <td>olten</td>\n      <td>485.6</td>\n      <td>alten</td>\n      <td>919.8</td>\n    </tr>\n    <tr>\n      <th>19</th>\n      <td>theil</td>\n      <td>541.6</td>\n      <td>zween</td>\n      <td>702.6</td>\n      <td>leib</td>\n      <td>1473.9</td>\n      <td>venedig</td>\n      <td>1372.2</td>\n      <td>berg</td>\n      <td>465.3</td>\n      <td>allwo</td>\n      <td>868.7</td>\n    </tr>\n  </tbody>\n</table>\n</div>",
      "text/plain": "   Topic 0 words Topic 0 weights Topic 1 words Topic 1 weights Topic 2 words Topic 2 weights Topic 3 words Topic 3 weights Topic 4 words Topic 4 weights Topic 5 words Topic 5 weights\n0          stadt          2448.4          berg          2204.8         stadt          4755.2          berg          4429.5         stadt          1136.1         stadt          4203.7\n1           tage          1488.6        trcken          1186.4          tage          3273.4      christen          3027.4          laen          1053.1         herrn          2306.0\n2          japan          1266.1         namen          1186.4         theil          2783.6        trcken          2951.5          inel           948.7          herr          1867.7\n3          knige          1031.6         admir          1046.1        waffer          2472.2       kirchen          2833.1        meilen           801.4        herzog          1617.0\n4          reich           970.4         herrn          1014.6        indien          2364.1      heiligen          2829.8        indian           728.6         kirch          1534.0\n5           laen           941.2          herr           979.5         feind          1884.6         herrn          2505.7     knigreich           690.2         schne          1302.8\n6           sina           842.1        mittag           962.6          hand          1868.6         stadt          2491.0          leut           615.0       italien          1178.0\n7          keyer           767.8       kirchen           926.2          leut          1857.4     jerusalem          2460.0          wind           588.4        waffer          1148.5\n8           hand           738.8         stadt           888.1         reich          1603.5          herr          2366.9          inul           586.3        trcken          1147.9\n9           leut           707.1       chriten           860.4      hollnder          1583.8         namen          2186.5         theil           575.6          berg          1132.1\n10     knigreich           697.6        morgen           858.4          wind          1554.1        waffer          2135.0         namen           554.3          hand          1104.1\n11       menchen           688.4         alten           854.4      menschen          1547.2        heilig          2047.5          beer           545.7         abend          1095.5\n12          berg           672.6         volck           854.0       persien          1531.2       christi          1737.5         volck           543.2        knigin          1081.0\n13        meilen           666.7          wind           840.6         volck          1526.8       glauben          1671.2       chriten           539.5         theil          1050.4\n14         alten           602.3         theil           822.9        meilen          1512.8          grab          1607.6        indien           533.9        sachen          1034.2\n15          welt           589.8         keyer           775.6          welt          1496.8       christu          1551.1          tage           526.0         pferd          1004.8\n16    wunderlich           567.6      hollnder           740.1         knige          1494.4     knigreich          1532.3      denelben           495.1          reis           956.4\n17        tauend           556.2          oben           719.0         orten          1487.9         alten          1468.9         ollen           488.8          tage           945.1\n18        getalt           543.5        meilen           706.0        sachen          1482.4         insel          1432.4         olten           485.6         alten           919.8\n19         theil           541.6         zween           702.6          leib          1473.9       venedig          1372.2          berg           465.3         allwo           868.7"
     },
     "execution_count": 7,
     "metadata": {},
     "output_type": "execute_result"
    }
   ],
   "source": [
    "import pandas as pd\n",
    "\n",
    "def display_topics(model, feature_names, no_top_words):\n",
    "    topic_dict = {}\n",
    "    for topic_idx, topic in enumerate(model.components_):\n",
    "        topic_dict[\"Topic %d words\" % (topic_idx)]= ['{}'.format(feature_names[i])\n",
    "                        for i in topic.argsort()[:-no_top_words - 1:-1]]\n",
    "        topic_dict[\"Topic %d weights\" % (topic_idx)]= ['{:.1f}'.format(topic[i])\n",
    "                        for i in topic.argsort()[:-no_top_words - 1:-1]]\n",
    "    return pd.DataFrame(topic_dict)\n",
    "\n",
    "no_top_words = 20\n",
    "pd.set_option('display.max_columns', 500)\n",
    "pd.set_option('display.width', 1000)\n",
    "display_topics(model, tf_feature_names, no_top_words)"
   ]
  },
  {
   "cell_type": "code",
   "execution_count": null,
   "metadata": {},
   "outputs": [],
   "source": []
  }
 ]
}