{
 "nbformat": 4,
 "nbformat_minor": 2,
 "metadata": {
  "language_info": {
   "name": "python",
   "codemirror_mode": {
    "name": "ipython",
    "version": 3
   },
   "version": "3.6.5-final"
  },
  "orig_nbformat": 2,
  "file_extension": ".py",
  "mimetype": "text/x-python",
  "name": "python",
  "npconvert_exporter": "python",
  "pygments_lexer": "ipython3",
  "version": 3,
  "kernelspec": {
   "name": "python3",
   "display_name": "Python 3"
  }
 },
 "cells": [
  {
   "cell_type": "code",
   "execution_count": 1,
   "metadata": {},
   "outputs": [
    {
     "data": {
      "text/plain": "'Loaded 204 texts'"
     },
     "execution_count": 1,
     "metadata": {},
     "output_type": "execute_result"
    }
   ],
   "source": [
    "import glob\n",
    "import re\n",
    "\n",
    "INPUT_FOLDER = '../../../travelogues-corpus/17th_century/books'\n",
    "\n",
    "def read_file(f):\n",
    "  with open(f, 'r') as file:\n",
    "    str = file.read()\n",
    "    ascii_only = re.sub('[^A-Za-z0-9 ]+', '', str)\n",
    "    return re.sub('\\\\s+', ' ', ascii_only)\n",
    "\n",
    "filenames = [f for f in glob.glob(INPUT_FOLDER + '**/*.txt')]\n",
    "texts = [ read_file(f) for f in filenames ]\n",
    "\n",
    "f'Loaded {len(texts)} texts'"
   ]
  },
  {
   "cell_type": "code",
   "execution_count": 3,
   "metadata": {},
   "outputs": [],
   "source": [
    "extra_stopwords = []\n",
    "\n",
    "with open('stopwords.txt') as f:\n",
    "  extra_stopwords = f.readlines()\n",
    "  extra_stopwords = [ x.strip() for x in extra_stopwords ]"
   ]
  },
  {
   "cell_type": "code",
   "execution_count": 4,
   "metadata": {},
   "outputs": [
    {
     "name": "stdout",
     "output_type": "stream",
     "text": "[nltk_data] Downloading package stopwords to /home/simonr/nltk_data...\n[nltk_data]   Package stopwords is already up-to-date!\n"
    }
   ],
   "source": [
    "import nltk\n",
    "\n",
    "nltk.download('stopwords')\n",
    "\n",
    "from nltk.corpus import stopwords\n",
    "\n",
    "stop_words = stopwords.words('german')\n",
    "stop_words.extend(extra_stopwords)\n",
    "stop_words.sort()"
   ]
  },
  {
   "cell_type": "code",
   "execution_count": 5,
   "metadata": {},
   "outputs": [],
   "source": [
    "from nltk.stem import PorterStemmer\n",
    "from nltk.tokenize import word_tokenize\n",
    "from wordcloud import WordCloud\n",
    "import itertools\n",
    "import matplotlib.pyplot as plt\n",
    "import string\n",
    "\n",
    "# We'll do stemming to avoid duplicate variants\n",
    "porter = PorterStemmer()\n",
    "\n",
    "def stem_message(text):\n",
    "  words = word_tokenize(text)\n",
    "\n",
    "  stemmed_words = []\n",
    "  for word in words:\n",
    "    stemmed_words.append(porter.stem(word))\n",
    "    \n",
    "  # Remove stopwords here\n",
    "  clean_tokens = [w for w in stemmed_words if not w in stop_words and len(w) > 3] \n",
    "  return ' '.join(clean_tokens)\n",
    "\n",
    "cleaned_texts = []\n",
    "for text in texts:\n",
    "  # Remove punctutation\n",
    "  text = text.translate(str.maketrans('', '', string.punctuation))\n",
    "  cleaned_texts.append(stem_message(text))"
   ]
  },
  {
   "cell_type": "code",
   "execution_count": 8,
   "metadata": {},
   "outputs": [
    {
     "name": "stderr",
     "output_type": "stream",
     "text": "/home/simonr/Software/anaconda3/lib/python3.6/site-packages/sklearn/decomposition/online_lda.py:536: DeprecationWarning: The default value for 'learning_method' will be changed from 'online' to 'batch' in the release 0.20. This warning was introduced in 0.18.\n  DeprecationWarning)\n"
    },
    {
     "data": {
      "text/plain": "LatentDirichletAllocation(batch_size=128, doc_topic_prior=None,\n             evaluate_every=-1, learning_decay=0.7, learning_method=None,\n             learning_offset=10.0, max_doc_update_iter=100, max_iter=10,\n             mean_change_tol=0.001, n_components=5, n_jobs=1,\n             n_topics=None, perp_tol=0.1, random_state=0,\n             topic_word_prior=None, total_samples=1000000.0, verbose=0)"
     },
     "execution_count": 8,
     "metadata": {},
     "output_type": "execute_result"
    }
   ],
   "source": [
    "from sklearn.feature_extraction.text import CountVectorizer\n",
    "from sklearn.decomposition import LatentDirichletAllocation\n",
    "\n",
    "vectorizer = CountVectorizer(max_df=0.9, min_df=25, token_pattern='\\w+|\\$[\\d\\.]+|\\S+')\n",
    "tf = vectorizer.fit_transform(cleaned_texts).toarray()\n",
    "\n",
    "tf_feature_names = vectorizer.get_feature_names()\n",
    "\n",
    "number_of_topics = 5\n",
    "model = LatentDirichletAllocation(n_components=number_of_topics, random_state=0)\n",
    "model.fit(tf)"
   ]
  },
  {
   "cell_type": "code",
   "execution_count": 9,
   "metadata": {},
   "outputs": [
    {
     "data": {
      "text/html": "<div>\n<style scoped>\n    .dataframe tbody tr th:only-of-type {\n        vertical-align: middle;\n    }\n\n    .dataframe tbody tr th {\n        vertical-align: top;\n    }\n\n    .dataframe thead th {\n        text-align: right;\n    }\n</style>\n<table border=\"1\" class=\"dataframe\">\n  <thead>\n    <tr style=\"text-align: right;\">\n      <th></th>\n      <th>Topic 0 words</th>\n      <th>Topic 0 weights</th>\n      <th>Topic 1 words</th>\n      <th>Topic 1 weights</th>\n      <th>Topic 2 words</th>\n      <th>Topic 2 weights</th>\n      <th>Topic 3 words</th>\n      <th>Topic 3 weights</th>\n      <th>Topic 4 words</th>\n      <th>Topic 4 weights</th>\n    </tr>\n  </thead>\n  <tbody>\n    <tr>\n      <th>0</th>\n      <td>stadt</td>\n      <td>5577.2</td>\n      <td>berg</td>\n      <td>2330.0</td>\n      <td>stadt</td>\n      <td>2950.4</td>\n      <td>berg</td>\n      <td>4635.8</td>\n      <td>stadt</td>\n      <td>2836.2</td>\n    </tr>\n    <tr>\n      <th>1</th>\n      <td>tage</td>\n      <td>2132.8</td>\n      <td>stadt</td>\n      <td>1469.6</td>\n      <td>tage</td>\n      <td>2337.0</td>\n      <td>herrn</td>\n      <td>3099.7</td>\n      <td>tage</td>\n      <td>1883.4</td>\n    </tr>\n    <tr>\n      <th>2</th>\n      <td>herrn</td>\n      <td>2120.8</td>\n      <td>trcken</td>\n      <td>1442.1</td>\n      <td>theil</td>\n      <td>1949.4</td>\n      <td>stadt</td>\n      <td>3089.1</td>\n      <td>laen</td>\n      <td>1879.7</td>\n    </tr>\n    <tr>\n      <th>3</th>\n      <td>theil</td>\n      <td>1966.0</td>\n      <td>kirchen</td>\n      <td>1213.8</td>\n      <td>waffer</td>\n      <td>1926.5</td>\n      <td>kirchen</td>\n      <td>3076.4</td>\n      <td>inel</td>\n      <td>1516.5</td>\n    </tr>\n    <tr>\n      <th>4</th>\n      <td>herr</td>\n      <td>1809.3</td>\n      <td>namen</td>\n      <td>1167.7</td>\n      <td>feind</td>\n      <td>1751.8</td>\n      <td>christen</td>\n      <td>3028.1</td>\n      <td>meilen</td>\n      <td>1471.7</td>\n    </tr>\n    <tr>\n      <th>5</th>\n      <td>sachen</td>\n      <td>1682.0</td>\n      <td>chriten</td>\n      <td>1126.4</td>\n      <td>hollnder</td>\n      <td>1735.1</td>\n      <td>trcken</td>\n      <td>3018.9</td>\n      <td>knige</td>\n      <td>1316.9</td>\n    </tr>\n    <tr>\n      <th>6</th>\n      <td>hand</td>\n      <td>1674.0</td>\n      <td>herrn</td>\n      <td>959.3</td>\n      <td>indien</td>\n      <td>1657.3</td>\n      <td>herr</td>\n      <td>2832.6</td>\n      <td>leut</td>\n      <td>1252.4</td>\n    </tr>\n    <tr>\n      <th>7</th>\n      <td>waffer</td>\n      <td>1622.2</td>\n      <td>herr</td>\n      <td>916.8</td>\n      <td>wind</td>\n      <td>1516.5</td>\n      <td>heiligen</td>\n      <td>2810.3</td>\n      <td>knigreich</td>\n      <td>1250.5</td>\n    </tr>\n    <tr>\n      <th>8</th>\n      <td>persien</td>\n      <td>1530.6</td>\n      <td>alten</td>\n      <td>892.4</td>\n      <td>menschen</td>\n      <td>1371.4</td>\n      <td>jerusalem</td>\n      <td>2495.5</td>\n      <td>reich</td>\n      <td>1126.4</td>\n    </tr>\n    <tr>\n      <th>9</th>\n      <td>pferd</td>\n      <td>1507.0</td>\n      <td>heiligen</td>\n      <td>844.0</td>\n      <td>leut</td>\n      <td>1336.3</td>\n      <td>namen</td>\n      <td>2374.6</td>\n      <td>menchen</td>\n      <td>1074.4</td>\n    </tr>\n    <tr>\n      <th>10</th>\n      <td>knigin</td>\n      <td>1455.8</td>\n      <td>oben</td>\n      <td>796.4</td>\n      <td>volck</td>\n      <td>1263.7</td>\n      <td>waffer</td>\n      <td>2313.0</td>\n      <td>wind</td>\n      <td>1038.2</td>\n    </tr>\n    <tr>\n      <th>11</th>\n      <td>kirch</td>\n      <td>1451.2</td>\n      <td>theil</td>\n      <td>750.8</td>\n      <td>leib</td>\n      <td>1258.0</td>\n      <td>heilig</td>\n      <td>2024.1</td>\n      <td>volck</td>\n      <td>1025.0</td>\n    </tr>\n    <tr>\n      <th>12</th>\n      <td>alten</td>\n      <td>1419.5</td>\n      <td>laen</td>\n      <td>721.0</td>\n      <td>hand</td>\n      <td>1251.4</td>\n      <td>schne</td>\n      <td>1829.3</td>\n      <td>hollnder</td>\n      <td>998.0</td>\n    </tr>\n    <tr>\n      <th>13</th>\n      <td>schreiben</td>\n      <td>1401.2</td>\n      <td>keyer</td>\n      <td>713.0</td>\n      <td>insel</td>\n      <td>1168.5</td>\n      <td>christi</td>\n      <td>1736.9</td>\n      <td>theil</td>\n      <td>972.9</td>\n    </tr>\n    <tr>\n      <th>14</th>\n      <td>wort</td>\n      <td>1344.8</td>\n      <td>buch</td>\n      <td>669.2</td>\n      <td>gener</td>\n      <td>1151.2</td>\n      <td>glauben</td>\n      <td>1655.1</td>\n      <td>indien</td>\n      <td>954.4</td>\n    </tr>\n    <tr>\n      <th>15</th>\n      <td>allwo</td>\n      <td>1331.9</td>\n      <td>chne</td>\n      <td>662.1</td>\n      <td>soldaten</td>\n      <td>1138.2</td>\n      <td>grab</td>\n      <td>1654.0</td>\n      <td>berg</td>\n      <td>896.8</td>\n    </tr>\n    <tr>\n      <th>16</th>\n      <td>abend</td>\n      <td>1307.0</td>\n      <td>hand</td>\n      <td>646.2</td>\n      <td>welt</td>\n      <td>1122.5</td>\n      <td>alten</td>\n      <td>1639.6</td>\n      <td>japan</td>\n      <td>875.0</td>\n    </tr>\n    <tr>\n      <th>17</th>\n      <td>reis</td>\n      <td>1303.8</td>\n      <td>venedig</td>\n      <td>639.8</td>\n      <td>meilen</td>\n      <td>1098.3</td>\n      <td>knigreich</td>\n      <td>1590.9</td>\n      <td>olten</td>\n      <td>869.8</td>\n    </tr>\n    <tr>\n      <th>18</th>\n      <td>berg</td>\n      <td>1260.8</td>\n      <td>heilig</td>\n      <td>635.3</td>\n      <td>knige</td>\n      <td>1042.8</td>\n      <td>christu</td>\n      <td>1567.3</td>\n      <td>hand</td>\n      <td>866.3</td>\n    </tr>\n    <tr>\n      <th>19</th>\n      <td>trcken</td>\n      <td>1245.2</td>\n      <td>kirch</td>\n      <td>631.5</td>\n      <td>abend</td>\n      <td>1034.8</td>\n      <td>hand</td>\n      <td>1486.5</td>\n      <td>keyer</td>\n      <td>845.5</td>\n    </tr>\n  </tbody>\n</table>\n</div>",
      "text/plain": "   Topic 0 words Topic 0 weights Topic 1 words Topic 1 weights Topic 2 words Topic 2 weights Topic 3 words Topic 3 weights Topic 4 words Topic 4 weights\n0          stadt          5577.2          berg          2330.0         stadt          2950.4          berg          4635.8         stadt          2836.2\n1           tage          2132.8         stadt          1469.6          tage          2337.0         herrn          3099.7          tage          1883.4\n2          herrn          2120.8        trcken          1442.1         theil          1949.4         stadt          3089.1          laen          1879.7\n3          theil          1966.0       kirchen          1213.8        waffer          1926.5       kirchen          3076.4          inel          1516.5\n4           herr          1809.3         namen          1167.7         feind          1751.8      christen          3028.1        meilen          1471.7\n5         sachen          1682.0       chriten          1126.4      hollnder          1735.1        trcken          3018.9         knige          1316.9\n6           hand          1674.0         herrn           959.3        indien          1657.3          herr          2832.6          leut          1252.4\n7         waffer          1622.2          herr           916.8          wind          1516.5      heiligen          2810.3     knigreich          1250.5\n8        persien          1530.6         alten           892.4      menschen          1371.4     jerusalem          2495.5         reich          1126.4\n9          pferd          1507.0      heiligen           844.0          leut          1336.3         namen          2374.6       menchen          1074.4\n10        knigin          1455.8          oben           796.4         volck          1263.7        waffer          2313.0          wind          1038.2\n11         kirch          1451.2         theil           750.8          leib          1258.0        heilig          2024.1         volck          1025.0\n12         alten          1419.5          laen           721.0          hand          1251.4         schne          1829.3      hollnder           998.0\n13     schreiben          1401.2         keyer           713.0         insel          1168.5       christi          1736.9         theil           972.9\n14          wort          1344.8          buch           669.2         gener          1151.2       glauben          1655.1        indien           954.4\n15         allwo          1331.9          chne           662.1      soldaten          1138.2          grab          1654.0          berg           896.8\n16         abend          1307.0          hand           646.2          welt          1122.5         alten          1639.6         japan           875.0\n17          reis          1303.8       venedig           639.8        meilen          1098.3     knigreich          1590.9         olten           869.8\n18          berg          1260.8        heilig           635.3         knige          1042.8       christu          1567.3          hand           866.3\n19        trcken          1245.2         kirch           631.5         abend          1034.8          hand          1486.5         keyer           845.5"
     },
     "execution_count": 9,
     "metadata": {},
     "output_type": "execute_result"
    }
   ],
   "source": [
    "import pandas as pd\n",
    "\n",
    "def display_topics(model, feature_names, no_top_words):\n",
    "    topic_dict = {}\n",
    "    for topic_idx, topic in enumerate(model.components_):\n",
    "        topic_dict[\"Topic %d words\" % (topic_idx)]= ['{}'.format(feature_names[i])\n",
    "                        for i in topic.argsort()[:-no_top_words - 1:-1]]\n",
    "        topic_dict[\"Topic %d weights\" % (topic_idx)]= ['{:.1f}'.format(topic[i])\n",
    "                        for i in topic.argsort()[:-no_top_words - 1:-1]]\n",
    "    return pd.DataFrame(topic_dict)\n",
    "\n",
    "no_top_words = 20\n",
    "pd.set_option('display.max_columns', 500)\n",
    "pd.set_option('display.width', 1000)\n",
    "display_topics(model, tf_feature_names, no_top_words)"
   ]
  },
  {
   "cell_type": "code",
   "execution_count": null,
   "metadata": {},
   "outputs": [],
   "source": []
  }
 ]
}