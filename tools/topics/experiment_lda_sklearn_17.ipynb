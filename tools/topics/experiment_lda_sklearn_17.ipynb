{
 "nbformat": 4,
 "nbformat_minor": 2,
 "metadata": {
  "language_info": {
   "name": "python",
   "codemirror_mode": {
    "name": "ipython",
    "version": 3
   },
   "version": "3.6.5-final"
  },
  "orig_nbformat": 2,
  "file_extension": ".py",
  "mimetype": "text/x-python",
  "name": "python",
  "npconvert_exporter": "python",
  "pygments_lexer": "ipython3",
  "version": 3,
  "kernelspec": {
   "name": "python3",
   "display_name": "Python 3"
  }
 },
 "cells": [
  {
   "cell_type": "code",
   "execution_count": 1,
   "metadata": {},
   "outputs": [
    {
     "data": {
      "text/plain": "'Loaded 204 texts'"
     },
     "execution_count": 1,
     "metadata": {},
     "output_type": "execute_result"
    }
   ],
   "source": [
    "import glob\n",
    "import re\n",
    "\n",
    "INPUT_FOLDER = '../../../travelogues-corpus/17th_century/books'\n",
    "\n",
    "def read_file(f):\n",
    "  with open(f, 'r') as file:\n",
    "    str = file.read()\n",
    "    ascii_only = re.sub('[^A-Za-z0-9 ]+', '', str)\n",
    "    return re.sub('\\\\s+', ' ', ascii_only)\n",
    "\n",
    "filenames = [f for f in glob.glob(INPUT_FOLDER + '**/*.txt')]\n",
    "texts = [ read_file(f) for f in filenames ]\n",
    "\n",
    "f'Loaded {len(texts)} texts'"
   ]
  },
  {
   "cell_type": "code",
   "execution_count": 2,
   "metadata": {},
   "outputs": [],
   "source": [
    "extra_stopwords = []\n",
    "\n",
    "with open('stopwords.txt') as f:\n",
    "  extra_stopwords = f.readlines()\n",
    "  extra_stopwords = [ x.strip() for x in extra_stopwords ]"
   ]
  },
  {
   "cell_type": "code",
   "execution_count": 3,
   "metadata": {},
   "outputs": [
    {
     "name": "stdout",
     "output_type": "stream",
     "text": "[nltk_data] Downloading package stopwords to /home/simonr/nltk_data...\n[nltk_data]   Package stopwords is already up-to-date!\n"
    }
   ],
   "source": [
    "import nltk\n",
    "\n",
    "nltk.download('stopwords')\n",
    "\n",
    "from nltk.corpus import stopwords\n",
    "\n",
    "stop_words = stopwords.words('german')\n",
    "stop_words.extend(extra_stopwords)\n",
    "stop_words.sort()"
   ]
  },
  {
   "cell_type": "code",
   "execution_count": 4,
   "metadata": {},
   "outputs": [],
   "source": [
    "from nltk.stem import PorterStemmer\n",
    "from nltk.tokenize import word_tokenize\n",
    "from wordcloud import WordCloud\n",
    "import itertools\n",
    "import matplotlib.pyplot as plt\n",
    "import string\n",
    "\n",
    "# We'll do stemming to avoid duplicate variants\n",
    "porter = PorterStemmer()\n",
    "\n",
    "def stem_message(text):\n",
    "  words = word_tokenize(text)\n",
    "\n",
    "  stemmed_words = []\n",
    "  for word in words:\n",
    "    stemmed_words.append(porter.stem(word))\n",
    "    \n",
    "  # Remove stopwords here\n",
    "  clean_tokens = [w for w in stemmed_words if not w in stop_words and len(w) > 3] \n",
    "  return ' '.join(clean_tokens)\n",
    "\n",
    "cleaned_texts = []\n",
    "for text in texts:\n",
    "  # Remove punctutation\n",
    "  text = text.translate(str.maketrans('', '', string.punctuation))\n",
    "  cleaned_texts.append(stem_message(text))"
   ]
  },
  {
   "cell_type": "code",
   "execution_count": 5,
   "metadata": {},
   "outputs": [
    {
     "name": "stderr",
     "output_type": "stream",
     "text": "/home/simonr/Software/anaconda3/lib/python3.6/site-packages/sklearn/decomposition/online_lda.py:536: DeprecationWarning: The default value for 'learning_method' will be changed from 'online' to 'batch' in the release 0.20. This warning was introduced in 0.18.\n  DeprecationWarning)\n"
    },
    {
     "data": {
      "text/plain": "LatentDirichletAllocation(batch_size=128, doc_topic_prior=None,\n             evaluate_every=-1, learning_decay=0.7, learning_method=None,\n             learning_offset=10.0, max_doc_update_iter=100, max_iter=10,\n             mean_change_tol=0.001, n_components=6, n_jobs=1,\n             n_topics=None, perp_tol=0.1, random_state=0,\n             topic_word_prior=None, total_samples=1000000.0, verbose=0)"
     },
     "execution_count": 5,
     "metadata": {},
     "output_type": "execute_result"
    }
   ],
   "source": [
    "from sklearn.feature_extraction.text import CountVectorizer\n",
    "from sklearn.decomposition import LatentDirichletAllocation\n",
    "\n",
    "vectorizer = CountVectorizer(max_df=0.9, min_df=25, token_pattern='\\w+|\\$[\\d\\.]+|\\S+')\n",
    "tf = vectorizer.fit_transform(cleaned_texts).toarray()\n",
    "\n",
    "tf_feature_names = vectorizer.get_feature_names()\n",
    "\n",
    "number_of_topics = 6\n",
    "model = LatentDirichletAllocation(n_components=number_of_topics, random_state=0)\n",
    "model.fit(tf)"
   ]
  },
  {
   "cell_type": "code",
   "execution_count": 6,
   "metadata": {},
   "outputs": [
    {
     "data": {
      "text/html": "<div>\n<style scoped>\n    .dataframe tbody tr th:only-of-type {\n        vertical-align: middle;\n    }\n\n    .dataframe tbody tr th {\n        vertical-align: top;\n    }\n\n    .dataframe thead th {\n        text-align: right;\n    }\n</style>\n<table border=\"1\" class=\"dataframe\">\n  <thead>\n    <tr style=\"text-align: right;\">\n      <th></th>\n      <th>Topic 0 words</th>\n      <th>Topic 0 weights</th>\n      <th>Topic 1 words</th>\n      <th>Topic 1 weights</th>\n      <th>Topic 2 words</th>\n      <th>Topic 2 weights</th>\n      <th>Topic 3 words</th>\n      <th>Topic 3 weights</th>\n      <th>Topic 4 words</th>\n      <th>Topic 4 weights</th>\n      <th>Topic 5 words</th>\n      <th>Topic 5 weights</th>\n    </tr>\n  </thead>\n  <tbody>\n    <tr>\n      <th>0</th>\n      <td>stadt</td>\n      <td>1812.8</td>\n      <td>stadt</td>\n      <td>2763.5</td>\n      <td>admir</td>\n      <td>1343.9</td>\n      <td>berg</td>\n      <td>2073.0</td>\n      <td>stadt</td>\n      <td>7973.4</td>\n      <td>berg</td>\n      <td>4416.0</td>\n    </tr>\n    <tr>\n      <th>1</th>\n      <td>theil</td>\n      <td>865.3</td>\n      <td>tage</td>\n      <td>1869.4</td>\n      <td>hollnder</td>\n      <td>1226.2</td>\n      <td>trcken</td>\n      <td>1419.1</td>\n      <td>tage</td>\n      <td>3525.5</td>\n      <td>christen</td>\n      <td>2924.7</td>\n    </tr>\n    <tr>\n      <th>2</th>\n      <td>berg</td>\n      <td>644.9</td>\n      <td>japan</td>\n      <td>1753.4</td>\n      <td>indien</td>\n      <td>1188.8</td>\n      <td>chriten</td>\n      <td>1385.1</td>\n      <td>waffer</td>\n      <td>3306.6</td>\n      <td>kirchen</td>\n      <td>2852.0</td>\n    </tr>\n    <tr>\n      <th>3</th>\n      <td>namen</td>\n      <td>552.1</td>\n      <td>knige</td>\n      <td>1351.3</td>\n      <td>volck</td>\n      <td>1049.1</td>\n      <td>kirchen</td>\n      <td>1117.8</td>\n      <td>theil</td>\n      <td>3235.8</td>\n      <td>trcken</td>\n      <td>2774.7</td>\n    </tr>\n    <tr>\n      <th>4</th>\n      <td>hand</td>\n      <td>495.7</td>\n      <td>laen</td>\n      <td>1295.1</td>\n      <td>wind</td>\n      <td>872.6</td>\n      <td>namen</td>\n      <td>1031.3</td>\n      <td>herrn</td>\n      <td>2944.8</td>\n      <td>heiligen</td>\n      <td>2734.7</td>\n    </tr>\n    <tr>\n      <th>5</th>\n      <td>oben</td>\n      <td>472.1</td>\n      <td>reich</td>\n      <td>1096.8</td>\n      <td>meilen</td>\n      <td>840.3</td>\n      <td>laen</td>\n      <td>991.9</td>\n      <td>hand</td>\n      <td>2543.5</td>\n      <td>herrn</td>\n      <td>2617.3</td>\n    </tr>\n    <tr>\n      <th>6</th>\n      <td>tage</td>\n      <td>467.8</td>\n      <td>knigreich</td>\n      <td>924.0</td>\n      <td>theil</td>\n      <td>799.6</td>\n      <td>herrn</td>\n      <td>966.5</td>\n      <td>herr</td>\n      <td>2511.7</td>\n      <td>jerusalem</td>\n      <td>2467.6</td>\n    </tr>\n    <tr>\n      <th>7</th>\n      <td>feynd</td>\n      <td>452.5</td>\n      <td>meilen</td>\n      <td>891.4</td>\n      <td>spanier</td>\n      <td>684.6</td>\n      <td>stadt</td>\n      <td>946.4</td>\n      <td>lassen</td>\n      <td>2316.3</td>\n      <td>herr</td>\n      <td>2435.1</td>\n    </tr>\n    <tr>\n      <th>8</th>\n      <td>orten</td>\n      <td>410.0</td>\n      <td>leut</td>\n      <td>821.8</td>\n      <td>inel</td>\n      <td>679.4</td>\n      <td>herr</td>\n      <td>890.5</td>\n      <td>sachen</td>\n      <td>2213.9</td>\n      <td>waffer</td>\n      <td>2181.2</td>\n    </tr>\n    <tr>\n      <th>9</th>\n      <td>kirch</td>\n      <td>409.2</td>\n      <td>hand</td>\n      <td>814.0</td>\n      <td>mittag</td>\n      <td>653.7</td>\n      <td>heiligen</td>\n      <td>866.4</td>\n      <td>reis</td>\n      <td>2095.3</td>\n      <td>namen</td>\n      <td>2129.9</td>\n    </tr>\n    <tr>\n      <th>10</th>\n      <td>gewefen</td>\n      <td>394.6</td>\n      <td>menchen</td>\n      <td>774.7</td>\n      <td>indian</td>\n      <td>625.3</td>\n      <td>alten</td>\n      <td>788.0</td>\n      <td>pferd</td>\n      <td>2038.0</td>\n      <td>stadt</td>\n      <td>2123.1</td>\n    </tr>\n    <tr>\n      <th>11</th>\n      <td>sachen</td>\n      <td>393.4</td>\n      <td>feind</td>\n      <td>750.3</td>\n      <td>landt</td>\n      <td>615.8</td>\n      <td>geehen</td>\n      <td>784.7</td>\n      <td>alten</td>\n      <td>2010.2</td>\n      <td>heilig</td>\n      <td>1979.1</td>\n    </tr>\n    <tr>\n      <th>12</th>\n      <td>ferner</td>\n      <td>393.0</td>\n      <td>keyer</td>\n      <td>748.2</td>\n      <td>leut</td>\n      <td>605.8</td>\n      <td>chne</td>\n      <td>779.4</td>\n      <td>leut</td>\n      <td>2003.2</td>\n      <td>christi</td>\n      <td>1688.8</td>\n    </tr>\n    <tr>\n      <th>13</th>\n      <td>meilen</td>\n      <td>390.3</td>\n      <td>hollnder</td>\n      <td>678.2</td>\n      <td>ancker</td>\n      <td>601.2</td>\n      <td>keyer</td>\n      <td>760.8</td>\n      <td>abend</td>\n      <td>1987.0</td>\n      <td>glauben</td>\n      <td>1616.1</td>\n    </tr>\n    <tr>\n      <th>14</th>\n      <td>alten</td>\n      <td>388.4</td>\n      <td>welt</td>\n      <td>673.2</td>\n      <td>morgen</td>\n      <td>586.8</td>\n      <td>bechreibung</td>\n      <td>733.3</td>\n      <td>indien</td>\n      <td>1875.2</td>\n      <td>grab</td>\n      <td>1607.0</td>\n    </tr>\n    <tr>\n      <th>15</th>\n      <td>fondern</td>\n      <td>383.9</td>\n      <td>inel</td>\n      <td>655.6</td>\n      <td>mchten</td>\n      <td>577.4</td>\n      <td>inel</td>\n      <td>668.7</td>\n      <td>knigin</td>\n      <td>1857.4</td>\n      <td>christu</td>\n      <td>1536.2</td>\n    </tr>\n    <tr>\n      <th>16</th>\n      <td>leut</td>\n      <td>383.7</td>\n      <td>berg</td>\n      <td>653.7</td>\n      <td>inul</td>\n      <td>572.2</td>\n      <td>glauben</td>\n      <td>641.4</td>\n      <td>wort</td>\n      <td>1852.6</td>\n      <td>alten</td>\n      <td>1517.3</td>\n    </tr>\n    <tr>\n      <th>17</th>\n      <td>hoch</td>\n      <td>377.7</td>\n      <td>wrden</td>\n      <td>648.4</td>\n      <td>tage</td>\n      <td>566.2</td>\n      <td>heilig</td>\n      <td>637.6</td>\n      <td>schreiben</td>\n      <td>1838.1</td>\n      <td>schne</td>\n      <td>1498.6</td>\n    </tr>\n    <tr>\n      <th>18</th>\n      <td>wein</td>\n      <td>371.4</td>\n      <td>reie</td>\n      <td>631.8</td>\n      <td>namen</td>\n      <td>565.1</td>\n      <td>buch</td>\n      <td>608.5</td>\n      <td>berg</td>\n      <td>1819.9</td>\n      <td>knigreich</td>\n      <td>1453.5</td>\n    </tr>\n    <tr>\n      <th>19</th>\n      <td>feind</td>\n      <td>364.5</td>\n      <td>niemand</td>\n      <td>607.7</td>\n      <td>soldaten</td>\n      <td>546.1</td>\n      <td>chriti</td>\n      <td>605.0</td>\n      <td>meilen</td>\n      <td>1806.7</td>\n      <td>insel</td>\n      <td>1416.9</td>\n    </tr>\n  </tbody>\n</table>\n</div>",
      "text/plain": "   Topic 0 words Topic 0 weights Topic 1 words Topic 1 weights Topic 2 words Topic 2 weights Topic 3 words Topic 3 weights Topic 4 words Topic 4 weights Topic 5 words Topic 5 weights\n0          stadt          1812.8         stadt          2763.5         admir          1343.9          berg          2073.0         stadt          7973.4          berg          4416.0\n1          theil           865.3          tage          1869.4      hollnder          1226.2        trcken          1419.1          tage          3525.5      christen          2924.7\n2           berg           644.9         japan          1753.4        indien          1188.8       chriten          1385.1        waffer          3306.6       kirchen          2852.0\n3          namen           552.1         knige          1351.3         volck          1049.1       kirchen          1117.8         theil          3235.8        trcken          2774.7\n4           hand           495.7          laen          1295.1          wind           872.6         namen          1031.3         herrn          2944.8      heiligen          2734.7\n5           oben           472.1         reich          1096.8        meilen           840.3          laen           991.9          hand          2543.5         herrn          2617.3\n6           tage           467.8     knigreich           924.0         theil           799.6         herrn           966.5          herr          2511.7     jerusalem          2467.6\n7          feynd           452.5        meilen           891.4       spanier           684.6         stadt           946.4        lassen          2316.3          herr          2435.1\n8          orten           410.0          leut           821.8          inel           679.4          herr           890.5        sachen          2213.9        waffer          2181.2\n9          kirch           409.2          hand           814.0        mittag           653.7      heiligen           866.4          reis          2095.3         namen          2129.9\n10       gewefen           394.6       menchen           774.7        indian           625.3         alten           788.0         pferd          2038.0         stadt          2123.1\n11        sachen           393.4         feind           750.3         landt           615.8        geehen           784.7         alten          2010.2        heilig          1979.1\n12        ferner           393.0         keyer           748.2          leut           605.8          chne           779.4          leut          2003.2       christi          1688.8\n13        meilen           390.3      hollnder           678.2        ancker           601.2         keyer           760.8         abend          1987.0       glauben          1616.1\n14         alten           388.4          welt           673.2        morgen           586.8   bechreibung           733.3        indien          1875.2          grab          1607.0\n15       fondern           383.9          inel           655.6        mchten           577.4          inel           668.7        knigin          1857.4       christu          1536.2\n16          leut           383.7          berg           653.7          inul           572.2       glauben           641.4          wort          1852.6         alten          1517.3\n17          hoch           377.7         wrden           648.4          tage           566.2        heilig           637.6     schreiben          1838.1         schne          1498.6\n18          wein           371.4          reie           631.8         namen           565.1          buch           608.5          berg          1819.9     knigreich          1453.5\n19         feind           364.5       niemand           607.7      soldaten           546.1        chriti           605.0        meilen          1806.7         insel          1416.9"
     },
     "execution_count": 6,
     "metadata": {},
     "output_type": "execute_result"
    }
   ],
   "source": [
    "import pandas as pd\n",
    "\n",
    "def display_topics(model, feature_names, no_top_words):\n",
    "    topic_dict = {}\n",
    "    for topic_idx, topic in enumerate(model.components_):\n",
    "        topic_dict[\"Topic %d words\" % (topic_idx)]= ['{}'.format(feature_names[i])\n",
    "                        for i in topic.argsort()[:-no_top_words - 1:-1]]\n",
    "        topic_dict[\"Topic %d weights\" % (topic_idx)]= ['{:.1f}'.format(topic[i])\n",
    "                        for i in topic.argsort()[:-no_top_words - 1:-1]]\n",
    "    return pd.DataFrame(topic_dict)\n",
    "\n",
    "no_top_words = 20\n",
    "pd.set_option('display.max_columns', 500)\n",
    "pd.set_option('display.width', 1000)\n",
    "display_topics(model, tf_feature_names, no_top_words)"
   ]
  },
  {
   "cell_type": "code",
   "execution_count": null,
   "metadata": {},
   "outputs": [],
   "source": []
  }
 ]
}