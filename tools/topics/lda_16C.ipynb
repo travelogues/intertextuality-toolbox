{
 "nbformat": 4,
 "nbformat_minor": 2,
 "metadata": {
  "language_info": {
   "name": "python",
   "codemirror_mode": {
    "name": "ipython",
    "version": 3
   },
   "version": "3.6.5-final"
  },
  "orig_nbformat": 2,
  "file_extension": ".py",
  "mimetype": "text/x-python",
  "name": "python",
  "npconvert_exporter": "python",
  "pygments_lexer": "ipython3",
  "version": 3,
  "kernelspec": {
   "name": "python3",
   "display_name": "Python 3"
  }
 },
 "cells": [
  {
   "cell_type": "code",
   "execution_count": 5,
   "metadata": {},
   "outputs": [
    {
     "data": {
      "text/plain": "'Loaded 204 texts'"
     },
     "execution_count": 5,
     "metadata": {},
     "output_type": "execute_result"
    }
   ],
   "source": [
    "import glob\n",
    "import re\n",
    "\n",
    "INPUT_FOLDER = '../../../travelogues-corpus/17th_century/books'\n",
    "\n",
    "def read_file(f):\n",
    "  with open(f, 'r') as file:\n",
    "    str = file.read()\n",
    "    ascii_only = re.sub('[^A-Za-z0-9 ]+', '', str)\n",
    "    return re.sub('\\\\s+', ' ', ascii_only)\n",
    "\n",
    "# List names of all .txt files in the folder\n",
    "filenames = [f for f in glob.glob(INPUT_FOLDER + '**/*.txt')]\n",
    "texts = [ read_file(f) for f in filenames ]\n",
    "\n",
    "f'Loaded {len(texts)} texts'"
   ]
  },
  {
   "cell_type": "code",
   "execution_count": 6,
   "metadata": {},
   "outputs": [
    {
     "name": "stdout",
     "output_type": "stream",
     "text": "[nltk_data] Downloading package stopwords to /home/simonr/nltk_data...\n[nltk_data]   Package stopwords is already up-to-date!\n"
    }
   ],
   "source": [
    "import nltk\n",
    "\n",
    "nltk.download('stopwords')\n",
    "\n",
    "from nltk.corpus import stopwords\n",
    "from gensim.utils import simple_preprocess\n",
    "\n",
    "stop_words = stopwords.words('german')\n",
    "stop_words.extend(['allein', 'auff', 'fich', 'feinen', 'gleich', 'vnd', 'vnder', 'mehr', 'ganz', 'kamen', 'kommen', 'wann', 'vber', 'vnnd', 'fr', 'vi', 'vn', 'vns', 'daher', 'danach', 'darnach', 'denen', 'deren', 'statt', 'war', 'wegen', 'wider', 'worden', 'gleich', 'wenig'])\n",
    "\n",
    "def clean(text):\n",
    "  preprocessed = [ ''.join(simple_preprocess(str(token))) for token in text.split() ]\n",
    "  return [ token for token in preprocessed if token not in stop_words and len(token) > 3 ]\n",
    "\n",
    "cleaned = [ clean(text) for text in texts ]"
   ]
  },
  {
   "cell_type": "code",
   "execution_count": 7,
   "metadata": {},
   "outputs": [],
   "source": [
    "from gensim.corpora.dictionary import Dictionary\n",
    "from gensim.models import LdaModel\n",
    "\n",
    "dictionary = Dictionary(cleaned)\n",
    "corpus = [dictionary.doc2bow(text) for text in cleaned]\n",
    "\n",
    "# Train the model on the corpus.\n",
    "# lda = LdaModel(common_corpus, num_topics=20)\n",
    "lda = LdaModel(corpus, num_topics=5, id2word=dictionary)\n",
    "# lda.save('lda_model.16C.gensim')"
   ]
  },
  {
   "cell_type": "code",
   "execution_count": 8,
   "metadata": {},
   "outputs": [
    {
     "data": {
      "text/plain": "[([(0.0019230013, 'knig'),\n   (0.001787934, 'stadt'),\n   (0.0017269207, 'zeit'),\n   (0.0015985918, 'etliche'),\n   (0.0013244621, 'groen'),\n   (0.0012451018, 'land'),\n   (0.0012030047, 'groe'),\n   (0.0011408206, 'schiff'),\n   (0.0010884621, 'weit'),\n   (0.0010447559, 'jahr'),\n   (0.0009693332, 'knnen'),\n   (0.0009433851, 'meer'),\n   (0.0008643173, 'eben'),\n   (0.0008494, 'berg'),\n   (0.0008400375, 'mann'),\n   (0.00082407426, 'ganze'),\n   (0.0008144192, 'wrde'),\n   (0.0007794815, 'hernach'),\n   (0.00077237905, 'bald'),\n   (0.0007703979, 'nacht')],\n  -0.059694653977874886),\n ([(0.0024045776, 'etliche'),\n   (0.0019293507, 'stadt'),\n   (0.0018215909, 'knig'),\n   (0.00135332, 'groe'),\n   (0.0013246046, 'zeit'),\n   (0.0012826705, 'land'),\n   (0.0012655357, 'groen'),\n   (0.001154905, 'nachdem'),\n   (0.0010148024, 'dieer'),\n   (0.0010028678, 'schiff'),\n   (0.0009986707, 'diee'),\n   (0.0009794005, 'jahr'),\n   (0.0009687943, 'davon'),\n   (0.00092161336, 'meer'),\n   (0.00091000245, 'knnen'),\n   (0.0008537127, 'herrn'),\n   (0.0008504262, 'wurde'),\n   (0.000825022, 'eben'),\n   (0.0008081777, 'vier'),\n   (0.00077081996, 'alten')],\n  -0.12785072139983236),\n ([(0.0017691829, 'knig'),\n   (0.0017060502, 'etliche'),\n   (0.0016226398, 'schiff'),\n   (0.0016119676, 'zeit'),\n   (0.0015749497, 'stadt'),\n   (0.0012084511, 'groen'),\n   (0.0011912268, 'groe'),\n   (0.0011379528, 'land'),\n   (0.001005071, 'dieer'),\n   (0.0009847587, 'knnen'),\n   (0.00095298974, 'jahr'),\n   (0.0009172767, 'weit'),\n   (0.0008646997, 'wurde'),\n   (0.00086103496, 'vier'),\n   (0.0008496344, 'herrn'),\n   (0.0008442969, 'diee'),\n   (0.0008379262, 'bald'),\n   (0.000810994, 'meer'),\n   (0.0008069455, 'davon'),\n   (0.0007850542, 'nacht')],\n  -0.14433612190759584),\n ([(0.0021536248, 'knig'),\n   (0.0019422803, 'land'),\n   (0.0018164399, 'etliche'),\n   (0.0017314428, 'stadt'),\n   (0.0014722097, 'zeit'),\n   (0.0013976543, 'groe'),\n   (0.0012490049, 'schiff'),\n   (0.0011302406, 'jahr'),\n   (0.0010434808, 'groen'),\n   (0.0010244724, 'gott'),\n   (0.0009599131, 'diee'),\n   (0.0009117954, 'nachdem'),\n   (0.0009078768, 'meer'),\n   (0.00089662144, 'knnen'),\n   (0.0008480886, 'gemacht'),\n   (0.00082917983, 'weit'),\n   (0.0008286461, 'herrn'),\n   (0.00079771515, 'herr'),\n   (0.0007864385, 'dieer'),\n   (0.00077592424, 'berg')],\n  -0.1460556041055845),\n ([(0.0019788982, 'knig'),\n   (0.0016940392, 'land'),\n   (0.0015593317, 'stadt'),\n   (0.0013274081, 'etliche'),\n   (0.001293655, 'zeit'),\n   (0.0012520149, 'groen'),\n   (0.0011624201, 'schiff'),\n   (0.001108721, 'gott'),\n   (0.0010994411, 'meer'),\n   (0.0010754952, 'diee'),\n   (0.0010292518, 'dieer'),\n   (0.00096368574, 'jahr'),\n   (0.00095596636, 'knnen'),\n   (0.0009195228, 'eben'),\n   (0.00088312186, 'groe'),\n   (0.00082247466, 'vier'),\n   (0.0008155386, 'trcken'),\n   (0.0008027669, 'kirchen'),\n   (0.0007492668, 'berg'),\n   (0.00074041315, 'groer')],\n  -0.15286011487065512)]"
     },
     "execution_count": 8,
     "metadata": {},
     "output_type": "execute_result"
    }
   ],
   "source": [
    "lda.top_topics(corpus)"
   ]
  },
  {
   "cell_type": "code",
   "execution_count": null,
   "metadata": {},
   "outputs": [],
   "source": []
  }
 ]
}