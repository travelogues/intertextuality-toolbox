{
 "nbformat": 4,
 "nbformat_minor": 2,
 "metadata": {
  "language_info": {
   "name": "python",
   "codemirror_mode": {
    "name": "ipython",
    "version": 3
   },
   "version": "3.6.5-final"
  },
  "orig_nbformat": 2,
  "file_extension": ".py",
  "mimetype": "text/x-python",
  "name": "python",
  "npconvert_exporter": "python",
  "pygments_lexer": "ipython3",
  "version": 3,
  "kernelspec": {
   "name": "python3",
   "display_name": "Python 3"
  }
 },
 "cells": [
  {
   "cell_type": "code",
   "execution_count": 1,
   "metadata": {},
   "outputs": [
    {
     "data": {
      "text/plain": "'Loaded 66 texts'"
     },
     "execution_count": 1,
     "metadata": {},
     "output_type": "execute_result"
    }
   ],
   "source": [
    "import glob\n",
    "import re\n",
    "\n",
    "INPUT_FOLDER = '../../../travelogues-corpus/16th_century/books'\n",
    "\n",
    "def read_file(f):\n",
    "  with open(f, 'r') as file:\n",
    "    str = file.read()\n",
    "    ascii_only = re.sub('[^A-Za-z0-9 ]+', '', str)\n",
    "    return re.sub('\\\\s+', ' ', ascii_only)\n",
    "\n",
    "filenames = [f for f in glob.glob(INPUT_FOLDER + '**/*.txt')]\n",
    "texts = [ read_file(f) for f in filenames ]\n",
    "\n",
    "f'Loaded {len(texts)} texts'"
   ]
  },
  {
   "cell_type": "code",
   "execution_count": 2,
   "metadata": {},
   "outputs": [],
   "source": [
    "extra_stopwords = []\n",
    "\n",
    "with open('stopwords.txt') as f:\n",
    "  extra_stopwords = f.readlines()\n",
    "  extra_stopwords = [ x.strip() for x in extra_stopwords ]"
   ]
  },
  {
   "cell_type": "code",
   "execution_count": 3,
   "metadata": {},
   "outputs": [
    {
     "name": "stdout",
     "output_type": "stream",
     "text": "[nltk_data] Downloading package stopwords to /home/simonr/nltk_data...\n[nltk_data]   Package stopwords is already up-to-date!\n"
    }
   ],
   "source": [
    "import nltk\n",
    "\n",
    "nltk.download('stopwords')\n",
    "\n",
    "from nltk.corpus import stopwords\n",
    "\n",
    "stop_words = stopwords.words('german')\n",
    "stop_words.extend(extra_stopwords)\n",
    "stop_words.sort()"
   ]
  },
  {
   "cell_type": "code",
   "execution_count": 4,
   "metadata": {},
   "outputs": [],
   "source": [
    "from nltk.stem import PorterStemmer\n",
    "from nltk.tokenize import word_tokenize\n",
    "from wordcloud import WordCloud\n",
    "import itertools\n",
    "import matplotlib.pyplot as plt\n",
    "import string\n",
    "\n",
    "# We'll do stemming to avoid duplicate variants\n",
    "porter = PorterStemmer()\n",
    "\n",
    "def stem_message(text):\n",
    "  words = word_tokenize(text)\n",
    "\n",
    "  stemmed_words = []\n",
    "  for word in words:\n",
    "    stemmed_words.append(porter.stem(word))\n",
    "    \n",
    "  # Remove stopwords here\n",
    "  clean_tokens = [w for w in stemmed_words if not w in stop_words and len(w) > 3] \n",
    "  return ' '.join(clean_tokens)\n",
    "\n",
    "cleaned_texts = []\n",
    "for text in texts:\n",
    "  # Remove punctutation\n",
    "  text = text.translate(str.maketrans('', '', string.punctuation))\n",
    "  cleaned_texts.append(stem_message(text))"
   ]
  },
  {
   "cell_type": "code",
   "execution_count": 5,
   "metadata": {},
   "outputs": [
    {
     "name": "stderr",
     "output_type": "stream",
     "text": "/home/simonr/Software/anaconda3/lib/python3.6/site-packages/sklearn/decomposition/online_lda.py:536: DeprecationWarning: The default value for 'learning_method' will be changed from 'online' to 'batch' in the release 0.20. This warning was introduced in 0.18.\n  DeprecationWarning)\n"
    },
    {
     "data": {
      "text/plain": "LatentDirichletAllocation(batch_size=128, doc_topic_prior=None,\n             evaluate_every=-1, learning_decay=0.7, learning_method=None,\n             learning_offset=10.0, max_doc_update_iter=100, max_iter=10,\n             mean_change_tol=0.001, n_components=4, n_jobs=1,\n             n_topics=None, perp_tol=0.1, random_state=0,\n             topic_word_prior=None, total_samples=1000000.0, verbose=0)"
     },
     "execution_count": 5,
     "metadata": {},
     "output_type": "execute_result"
    }
   ],
   "source": [
    "from sklearn.feature_extraction.text import CountVectorizer\n",
    "from sklearn.decomposition import LatentDirichletAllocation\n",
    "\n",
    "vectorizer = CountVectorizer(max_df=0.9, min_df=25, token_pattern='\\w+|\\$[\\d\\.]+|\\S+')\n",
    "tf = vectorizer.fit_transform(cleaned_texts).toarray()\n",
    "\n",
    "tf_feature_names = vectorizer.get_feature_names()\n",
    "\n",
    "number_of_topics = 4\n",
    "model = LatentDirichletAllocation(n_components=number_of_topics, random_state=0)\n",
    "model.fit(tf)"
   ]
  },
  {
   "cell_type": "code",
   "execution_count": 6,
   "metadata": {},
   "outputs": [
    {
     "data": {
      "text/html": "<div>\n<style scoped>\n    .dataframe tbody tr th:only-of-type {\n        vertical-align: middle;\n    }\n\n    .dataframe tbody tr th {\n        vertical-align: top;\n    }\n\n    .dataframe thead th {\n        text-align: right;\n    }\n</style>\n<table border=\"1\" class=\"dataframe\">\n  <thead>\n    <tr style=\"text-align: right;\">\n      <th></th>\n      <th>Topic 0 words</th>\n      <th>Topic 0 weights</th>\n      <th>Topic 1 words</th>\n      <th>Topic 1 weights</th>\n      <th>Topic 2 words</th>\n      <th>Topic 2 weights</th>\n      <th>Topic 3 words</th>\n      <th>Topic 3 weights</th>\n    </tr>\n  </thead>\n  <tbody>\n    <tr>\n      <th>0</th>\n      <td>schiff</td>\n      <td>1628.7</td>\n      <td>berg</td>\n      <td>1392.4</td>\n      <td>trcken</td>\n      <td>1848.3</td>\n      <td>krieg</td>\n      <td>597.6</td>\n    </tr>\n    <tr>\n      <th>1</th>\n      <td>meer</td>\n      <td>673.4</td>\n      <td>meer</td>\n      <td>1164.2</td>\n      <td>feind</td>\n      <td>833.8</td>\n      <td>wilden</td>\n      <td>592.7</td>\n    </tr>\n    <tr>\n      <th>2</th>\n      <td>insel</td>\n      <td>646.3</td>\n      <td>heiligen</td>\n      <td>972.6</td>\n      <td>christen</td>\n      <td>752.9</td>\n      <td>priester</td>\n      <td>575.3</td>\n    </tr>\n    <tr>\n      <th>3</th>\n      <td>schiffen</td>\n      <td>420.8</td>\n      <td>herr</td>\n      <td>954.3</td>\n      <td>krieg</td>\n      <td>679.6</td>\n      <td>namen</td>\n      <td>563.0</td>\n    </tr>\n    <tr>\n      <th>4</th>\n      <td>spanier</td>\n      <td>420.1</td>\n      <td>christen</td>\n      <td>865.1</td>\n      <td>namen</td>\n      <td>654.4</td>\n      <td>knigreich</td>\n      <td>549.0</td>\n    </tr>\n    <tr>\n      <th>5</th>\n      <td>volck</td>\n      <td>408.7</td>\n      <td>weit</td>\n      <td>824.9</td>\n      <td>trckischen</td>\n      <td>597.8</td>\n      <td>kirchen</td>\n      <td>543.7</td>\n    </tr>\n    <tr>\n      <th>6</th>\n      <td>indien</td>\n      <td>392.8</td>\n      <td>herrn</td>\n      <td>805.3</td>\n      <td>leben</td>\n      <td>546.7</td>\n      <td>johann</td>\n      <td>530.0</td>\n    </tr>\n    <tr>\n      <th>7</th>\n      <td>waffer</td>\n      <td>371.7</td>\n      <td>stadt</td>\n      <td>752.9</td>\n      <td>alten</td>\n      <td>488.7</td>\n      <td>meer</td>\n      <td>514.4</td>\n    </tr>\n    <tr>\n      <th>8</th>\n      <td>wind</td>\n      <td>346.8</td>\n      <td>schiff</td>\n      <td>734.2</td>\n      <td>herrn</td>\n      <td>485.6</td>\n      <td>feind</td>\n      <td>489.6</td>\n    </tr>\n    <tr>\n      <th>9</th>\n      <td>feind</td>\n      <td>346.6</td>\n      <td>heilig</td>\n      <td>645.8</td>\n      <td>reich</td>\n      <td>460.2</td>\n      <td>herr</td>\n      <td>459.6</td>\n    </tr>\n    <tr>\n      <th>10</th>\n      <td>widerumb</td>\n      <td>317.0</td>\n      <td>venedig</td>\n      <td>637.4</td>\n      <td>volck</td>\n      <td>459.4</td>\n      <td>theil</td>\n      <td>426.5</td>\n    </tr>\n    <tr>\n      <th>11</th>\n      <td>klein</td>\n      <td>311.0</td>\n      <td>kirchen</td>\n      <td>636.7</td>\n      <td>sohn</td>\n      <td>457.3</td>\n      <td>weit</td>\n      <td>394.8</td>\n    </tr>\n    <tr>\n      <th>12</th>\n      <td>weit</td>\n      <td>290.5</td>\n      <td>nacht</td>\n      <td>558.7</td>\n      <td>keyser</td>\n      <td>434.4</td>\n      <td>herrn</td>\n      <td>355.9</td>\n    </tr>\n    <tr>\n      <th>13</th>\n      <td>namen</td>\n      <td>289.9</td>\n      <td>tempel</td>\n      <td>549.0</td>\n      <td>theil</td>\n      <td>415.8</td>\n      <td>zeit</td>\n      <td>347.2</td>\n    </tr>\n    <tr>\n      <th>14</th>\n      <td>mann</td>\n      <td>287.0</td>\n      <td>herren</td>\n      <td>547.2</td>\n      <td>glauben</td>\n      <td>407.3</td>\n      <td>berg</td>\n      <td>347.0</td>\n    </tr>\n    <tr>\n      <th>15</th>\n      <td>landt</td>\n      <td>262.1</td>\n      <td>waffer</td>\n      <td>541.7</td>\n      <td>trckisch</td>\n      <td>398.8</td>\n      <td>reich</td>\n      <td>331.6</td>\n    </tr>\n    <tr>\n      <th>16</th>\n      <td>nacht</td>\n      <td>261.5</td>\n      <td>trcken</td>\n      <td>535.9</td>\n      <td>waffer</td>\n      <td>387.4</td>\n      <td>mgen</td>\n      <td>327.0</td>\n    </tr>\n    <tr>\n      <th>17</th>\n      <td>etlichen</td>\n      <td>252.3</td>\n      <td>namen</td>\n      <td>476.0</td>\n      <td>knigreich</td>\n      <td>380.4</td>\n      <td>leben</td>\n      <td>318.2</td>\n    </tr>\n    <tr>\n      <th>18</th>\n      <td>leben</td>\n      <td>251.6</td>\n      <td>insel</td>\n      <td>474.1</td>\n      <td>geben</td>\n      <td>374.4</td>\n      <td>glauben</td>\n      <td>318.0</td>\n    </tr>\n    <tr>\n      <th>19</th>\n      <td>eind</td>\n      <td>247.6</td>\n      <td>alten</td>\n      <td>462.3</td>\n      <td>feindt</td>\n      <td>372.5</td>\n      <td>waffer</td>\n      <td>297.6</td>\n    </tr>\n  </tbody>\n</table>\n</div>",
      "text/plain": "   Topic 0 words Topic 0 weights Topic 1 words Topic 1 weights Topic 2 words Topic 2 weights Topic 3 words Topic 3 weights\n0         schiff          1628.7          berg          1392.4        trcken          1848.3         krieg           597.6\n1           meer           673.4          meer          1164.2         feind           833.8        wilden           592.7\n2          insel           646.3      heiligen           972.6      christen           752.9      priester           575.3\n3       schiffen           420.8          herr           954.3         krieg           679.6         namen           563.0\n4        spanier           420.1      christen           865.1         namen           654.4     knigreich           549.0\n5          volck           408.7          weit           824.9    trckischen           597.8       kirchen           543.7\n6         indien           392.8         herrn           805.3         leben           546.7        johann           530.0\n7         waffer           371.7         stadt           752.9         alten           488.7          meer           514.4\n8           wind           346.8        schiff           734.2         herrn           485.6         feind           489.6\n9          feind           346.6        heilig           645.8         reich           460.2          herr           459.6\n10      widerumb           317.0       venedig           637.4         volck           459.4         theil           426.5\n11         klein           311.0       kirchen           636.7          sohn           457.3          weit           394.8\n12          weit           290.5         nacht           558.7        keyser           434.4         herrn           355.9\n13         namen           289.9        tempel           549.0         theil           415.8          zeit           347.2\n14          mann           287.0        herren           547.2       glauben           407.3          berg           347.0\n15         landt           262.1        waffer           541.7      trckisch           398.8         reich           331.6\n16         nacht           261.5        trcken           535.9        waffer           387.4          mgen           327.0\n17      etlichen           252.3         namen           476.0     knigreich           380.4         leben           318.2\n18         leben           251.6         insel           474.1         geben           374.4       glauben           318.0\n19          eind           247.6         alten           462.3        feindt           372.5        waffer           297.6"
     },
     "execution_count": 6,
     "metadata": {},
     "output_type": "execute_result"
    }
   ],
   "source": [
    "import pandas as pd\n",
    "\n",
    "def display_topics(model, feature_names, no_top_words):\n",
    "    topic_dict = {}\n",
    "    for topic_idx, topic in enumerate(model.components_):\n",
    "        topic_dict[\"Topic %d words\" % (topic_idx)]= ['{}'.format(feature_names[i])\n",
    "                        for i in topic.argsort()[:-no_top_words - 1:-1]]\n",
    "        topic_dict[\"Topic %d weights\" % (topic_idx)]= ['{:.1f}'.format(topic[i])\n",
    "                        for i in topic.argsort()[:-no_top_words - 1:-1]]\n",
    "    return pd.DataFrame(topic_dict)\n",
    "\n",
    "no_top_words = 20\n",
    "pd.set_option('display.max_columns', 500)\n",
    "pd.set_option('display.width', 1000)\n",
    "display_topics(model, tf_feature_names, no_top_words)"
   ]
  },
  {
   "cell_type": "code",
   "execution_count": null,
   "metadata": {},
   "outputs": [],
   "source": []
  }
 ]
}