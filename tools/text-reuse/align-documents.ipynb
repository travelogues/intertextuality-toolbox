{
 "nbformat": 4,
 "nbformat_minor": 2,
 "metadata": {
  "language_info": {
   "name": "python",
   "codemirror_mode": {
    "name": "ipython",
    "version": 3
   },
   "version": "3.6.5-final"
  },
  "orig_nbformat": 2,
  "file_extension": ".py",
  "mimetype": "text/x-python",
  "name": "python",
  "npconvert_exporter": "python",
  "pygments_lexer": "ipython3",
  "version": 3,
  "kernelspec": {
   "name": "python3",
   "display_name": "Python 3"
  }
 },
 "cells": [
  {
   "cell_type": "markdown",
   "metadata": {},
   "source": [
    "# Document Alignment\n",
    "\n",
    "A helper to generate text passage alignments between a pair of documents, using our own Python port of\n",
    "[the JavaScript implementation by Mees Gelein](https://github.com/MGelein/text-comparison). The JavaScript \n",
    "implementation is based on this work:\n",
    "\n",
    "> Paul Vierthaler and Mees Gelein, \"A BLAST-based, Language-agnostic \n",
    "> Text Reuse Algorithm with a MARKUS Implementation and Sequence \n",
    "> Alignment Optimized for Large Chinese Corpora,\" \n",
    "> Journal of Cultural Analytics. March 18, 2019. \n",
    "> DOI: 10.31235/osf.io/7xpqe"
   ]
  },
  {
   "cell_type": "code",
   "execution_count": 3,
   "metadata": {},
   "outputs": [
    {
     "name": "stdout",
     "output_type": "stream",
     "text": "Creating dict 0Creating dict 1Expanding 519 shared n-grams\n"
    },
    {
     "data": {
      "text/plain": "'Aligned 0 passages'"
     },
     "execution_count": 3,
     "metadata": {},
     "output_type": "execute_result"
    }
   ],
   "source": [
    "import re\n",
    "from util.text_alignment import align_text\n",
    "\n",
    "def clean_text(str):\n",
    "  ascii_only = re.sub('[^A-Za-z0-9\\\\n ]+', '', str)\n",
    "  return re.sub('  +', ' ', ascii_only)\n",
    "\n",
    "def read_file(f):\n",
    "  with open(f, 'r') as file:\n",
    "    return clean_text(file.read())\n",
    "\n",
    "BARCODE_A = 'Z224214403'\n",
    "BARCODE_B = 'Z256471804'\n",
    "\n",
    "INPUT_FILE_A = f'../../../travelogues-corpus/16th_century/books/{BARCODE_A}.txt'\n",
    "INPUT_FILE_B = f'../../../travelogues-corpus/16th_century/books/{BARCODE_B}.txt'\n",
    "\n",
    "passages = align_text(read_file(INPUT_FILE_A), read_file(INPUT_FILE_B), 8)\n",
    "f'Aligned {len(passages)} passages'"
   ]
  },
  {
   "cell_type": "markdown",
   "metadata": {},
   "source": [
    "The Gelein implementation produces lots of overlapping alignments. We'll get rid of those in this \n",
    "step, by\n",
    "\n",
    "- removing total overlaps (i.e. passages __contained__ inside other passages)\n",
    "- merging partial overlaps\n",
    "\n",
    "We're using an interval tree structure to make this fast."
   ]
  },
  {
   "cell_type": "code",
   "execution_count": 2,
   "metadata": {},
   "outputs": [],
   "source": [
    "def merge_passages(passages):\n",
    "\n",
    "  def merge_two(a, b):\n",
    "    # Phrase that starts first\n",
    "    first = a if a['start'] <= b['start'] else b\n",
    "    second = b if a['start'] <= b['start'] else a\n",
    "\n",
    "    # second phrase is completely inside first ?\n",
    "    if (second['end'] <= first['end']):\n",
    "      return first\n",
    "    else:\n",
    "      inner_offset = first['end'] - second['start']\n",
    "\n",
    "      start = first['start']\n",
    "      end = second['end']\n",
    "      text = first['text'] + second['text'][inner_offset:]\n",
    "\n",
    "      return { 'start': start, 'end': end, 'text': text }\n",
    "\n",
    "  merged = passages[0]\n",
    "  for i in range(1, len(passages)):\n",
    "    a = merge_two(merged['a'], passages[i]['a'])\n",
    "    b = merge_two(merged['b'], passages[i]['b'])\n",
    "\n",
    "    merged = { 'a': a, 'b': b }\n",
    "  \n",
    "  return merged"
   ]
  },
  {
   "cell_type": "code",
   "execution_count": 3,
   "metadata": {},
   "outputs": [
    {
     "data": {
      "text/plain": "'15 aligned passages left after pruning'"
     },
     "execution_count": 3,
     "metadata": {},
     "output_type": "execute_result"
    }
   ],
   "source": [
    "from intervaltree import Interval, IntervalTree\n",
    "\n",
    "t = IntervalTree()\n",
    "\n",
    "for pair in passages:\n",
    "  start = pair['a']['start']\n",
    "  end = pair['a']['end']\n",
    "\n",
    "  existing_intervals = t[start : end]\n",
    "\n",
    "  # If intervals already exist at this range, merge & replace\n",
    "  if (len(existing_intervals) > 0):\n",
    "    existing_passages = [ i.data for i in existing_intervals ]\n",
    "    existing_passages.append(pair)\n",
    "    \n",
    "    # Merge\n",
    "    merged = merge_passages(existing_passages)\n",
    "    \n",
    "    # Replace\n",
    "    for i in existing_intervals:\n",
    "      t.remove(i)\n",
    "\n",
    "    t[start : end] = merged\n",
    "\n",
    "  else:\n",
    "    # No overlaps - just add\n",
    "    t[start : end] = pair\n",
    "\n",
    "items = t.items()\n",
    "items = sorted(items, key=lambda x: x[0])\n",
    "pruned = [ i.data for i in items ]\n",
    "f'{len(pruned)} aligned passages left after pruning'"
   ]
  },
  {
   "cell_type": "code",
   "execution_count": 4,
   "metadata": {},
   "outputs": [],
   "source": [
    "import json\n",
    "\n",
    "# Write results to file\n",
    "with open(f'../../results/alignment_{BARCODE_A}_{BARCODE_B}.json', 'w') as outfile:\n",
    "  json.dump(list(pruned), outfile, indent=2)"
   ]
  },
  {
   "cell_type": "code",
   "execution_count": 5,
   "metadata": {},
   "outputs": [],
   "source": [
    "# Optional: export the texts in the same form as they were used to generate the \n",
    "# alignment (i.e. after cleaning), so that we can render a reading view\n",
    "with open(f'../../results/{BARCODE_A}_cleaned.txt', 'w') as out_a:\n",
    "  out_a.write(read_file(INPUT_FILE_A))\n",
    "\n",
    "with open(f'../../results/{BARCODE_B}_cleaned.txt', 'w') as out_b:\n",
    "  out_b.write(read_file(INPUT_FILE_B))\n"
   ]
  },
  {
   "cell_type": "code",
   "execution_count": null,
   "metadata": {},
   "outputs": [],
   "source": []
  }
 ]
}