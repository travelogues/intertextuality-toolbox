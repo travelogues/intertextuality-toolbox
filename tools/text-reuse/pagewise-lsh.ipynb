{
 "nbformat": 4,
 "nbformat_minor": 2,
 "metadata": {
  "language_info": {
   "name": "python",
   "codemirror_mode": {
    "name": "ipython",
    "version": 3
   },
   "version": "3.6.5-final"
  },
  "orig_nbformat": 2,
  "file_extension": ".py",
  "mimetype": "text/x-python",
  "name": "python",
  "npconvert_exporter": "python",
  "pygments_lexer": "ipython3",
  "version": 3,
  "kernelspec": {
   "name": "python3",
   "display_name": "Python 3"
  }
 },
 "cells": [
  {
   "cell_type": "code",
   "execution_count": 1,
   "metadata": {},
   "outputs": [
    {
     "data": {
      "text/plain": "'Loaded 66 documents'"
     },
     "execution_count": 1,
     "metadata": {},
     "output_type": "execute_result"
    }
   ],
   "source": [
    "import glob\n",
    "import re\n",
    "\n",
    "INPUT_FOLDER = '../../../travelogues-corpus/16th_century/books'\n",
    "\n",
    "def read_file(f):\n",
    "  with open(f, 'r') as file:\n",
    "    return file.read()\n",
    "\n",
    "filenames = [f for f in glob.glob(INPUT_FOLDER + '**/*.txt')]\n",
    "texts = [ read_file(f) for f in filenames ]\n",
    "\n",
    "f'Loaded {len(texts)} documents'"
   ]
  },
  {
   "cell_type": "code",
   "execution_count": 2,
   "metadata": {},
   "outputs": [],
   "source": [
    "import re\n",
    "\n",
    "blank_line_regex = r\"(?:\\r?\\n){2,}\"\n",
    "pages_per_text = list(map(lambda l: re.split(blank_line_regex, l.strip()), texts))\n",
    "\n",
    "cleaned_pages_per_text = []\n",
    "for pages in pages_per_text:\n",
    "  # ASCII characters only\n",
    "  cleaned = [ re.sub('[^A-Za-z0-9 ]+', '', page) for page in pages ]\n",
    "\n",
    "  # Replace multiple spaces by one\n",
    "  cleand = [ re.sub('\\\\s+', ' ', page) for page in cleaned ]\n",
    "\n",
    "  # Remove empty pages\n",
    "  cleaned = [ p.strip() for p in cleaned if len(p.strip()) > 0 ]\n",
    "\n",
    "  cleaned_pages_per_text.append(cleaned)"
   ]
  },
  {
   "cell_type": "code",
   "execution_count": 3,
   "metadata": {},
   "outputs": [
    {
     "data": {
      "text/plain": "'Built LSH index for 15906 pages'"
     },
     "execution_count": 3,
     "metadata": {},
     "output_type": "execute_result"
    }
   ],
   "source": [
    "from datasketch import MinHashLSH\n",
    "from util.text import Text\n",
    "import pickle\n",
    "\n",
    "# 'Text' minhash helper objects\n",
    "texts = []\n",
    "\n",
    "for text_idx, text in enumerate(cleaned_pages_per_text):\n",
    "  for page_idx, page in enumerate(text):\n",
    "    texts.append(Text(text_idx, page_idx, page))\n",
    "\n",
    "lsh = MinHashLSH(threshold=0.8, num_perm=128)\n",
    "\n",
    "for t in texts:\n",
    "  lsh.insert(t.id(), t.minhash())\n",
    "\n",
    "# Save for later (computation takes a lot of time...)\n",
    "pickle.dump(lsh, open('./lsh.bin', 'wb'))\n",
    "\n",
    "f'Built LSH index for {len(texts)} pages'"
   ]
  },
  {
   "cell_type": "code",
   "execution_count": 4,
   "metadata": {},
   "outputs": [
    {
     "data": {
      "text/html": "<div>\n<style scoped>\n    .dataframe tbody tr th:only-of-type {\n        vertical-align: middle;\n    }\n\n    .dataframe tbody tr th {\n        vertical-align: top;\n    }\n\n    .dataframe thead th {\n        text-align: right;\n    }\n</style>\n<table border=\"1\" class=\"dataframe\">\n  <thead>\n    <tr style=\"text-align: right;\">\n      <th></th>\n      <th>a</th>\n      <th>b</th>\n    </tr>\n  </thead>\n  <tbody>\n    <tr>\n      <th>0</th>\n      <td>0,7</td>\n      <td>7,36</td>\n    </tr>\n    <tr>\n      <th>1</th>\n      <td>0,7</td>\n      <td>53,23</td>\n    </tr>\n    <tr>\n      <th>2</th>\n      <td>0,7</td>\n      <td>53,631</td>\n    </tr>\n    <tr>\n      <th>3</th>\n      <td>0,7</td>\n      <td>52,74</td>\n    </tr>\n    <tr>\n      <th>4</th>\n      <td>0,7</td>\n      <td>53,194</td>\n    </tr>\n    <tr>\n      <th>5</th>\n      <td>0,7</td>\n      <td>7,68</td>\n    </tr>\n    <tr>\n      <th>6</th>\n      <td>0,7</td>\n      <td>10,291</td>\n    </tr>\n    <tr>\n      <th>7</th>\n      <td>0,7</td>\n      <td>0,381</td>\n    </tr>\n    <tr>\n      <th>8</th>\n      <td>0,7</td>\n      <td>6,261</td>\n    </tr>\n    <tr>\n      <th>9</th>\n      <td>0,7</td>\n      <td>20,628</td>\n    </tr>\n    <tr>\n      <th>10</th>\n      <td>0,7</td>\n      <td>53,392</td>\n    </tr>\n    <tr>\n      <th>11</th>\n      <td>0,7</td>\n      <td>48,35</td>\n    </tr>\n    <tr>\n      <th>12</th>\n      <td>0,7</td>\n      <td>43,0</td>\n    </tr>\n    <tr>\n      <th>13</th>\n      <td>0,7</td>\n      <td>53,1119</td>\n    </tr>\n    <tr>\n      <th>14</th>\n      <td>0,7</td>\n      <td>53,675</td>\n    </tr>\n    <tr>\n      <th>15</th>\n      <td>0,7</td>\n      <td>42,1</td>\n    </tr>\n    <tr>\n      <th>16</th>\n      <td>0,7</td>\n      <td>6,445</td>\n    </tr>\n    <tr>\n      <th>17</th>\n      <td>0,7</td>\n      <td>48,202</td>\n    </tr>\n    <tr>\n      <th>18</th>\n      <td>0,7</td>\n      <td>53,841</td>\n    </tr>\n    <tr>\n      <th>19</th>\n      <td>0,7</td>\n      <td>14,83</td>\n    </tr>\n    <tr>\n      <th>20</th>\n      <td>0,7</td>\n      <td>48,131</td>\n    </tr>\n    <tr>\n      <th>21</th>\n      <td>0,7</td>\n      <td>22,168</td>\n    </tr>\n    <tr>\n      <th>22</th>\n      <td>0,7</td>\n      <td>40,159</td>\n    </tr>\n    <tr>\n      <th>23</th>\n      <td>0,7</td>\n      <td>48,26</td>\n    </tr>\n    <tr>\n      <th>24</th>\n      <td>0,7</td>\n      <td>53,1028</td>\n    </tr>\n    <tr>\n      <th>25</th>\n      <td>0,7</td>\n      <td>53,242</td>\n    </tr>\n    <tr>\n      <th>26</th>\n      <td>0,7</td>\n      <td>65,153</td>\n    </tr>\n    <tr>\n      <th>27</th>\n      <td>0,7</td>\n      <td>48,197</td>\n    </tr>\n    <tr>\n      <th>28</th>\n      <td>0,7</td>\n      <td>53,120</td>\n    </tr>\n    <tr>\n      <th>29</th>\n      <td>0,7</td>\n      <td>6,265</td>\n    </tr>\n    <tr>\n      <th>...</th>\n      <td>...</td>\n      <td>...</td>\n    </tr>\n    <tr>\n      <th>203962</th>\n      <td>65,206</td>\n      <td>50,347</td>\n    </tr>\n    <tr>\n      <th>203963</th>\n      <td>65,206</td>\n      <td>7,150</td>\n    </tr>\n    <tr>\n      <th>203964</th>\n      <td>65,206</td>\n      <td>35,176</td>\n    </tr>\n    <tr>\n      <th>203965</th>\n      <td>65,206</td>\n      <td>42,237</td>\n    </tr>\n    <tr>\n      <th>203966</th>\n      <td>65,206</td>\n      <td>9,95</td>\n    </tr>\n    <tr>\n      <th>203967</th>\n      <td>65,206</td>\n      <td>13,174</td>\n    </tr>\n    <tr>\n      <th>203968</th>\n      <td>65,206</td>\n      <td>53,239</td>\n    </tr>\n    <tr>\n      <th>203969</th>\n      <td>65,206</td>\n      <td>28,0</td>\n    </tr>\n    <tr>\n      <th>203970</th>\n      <td>65,206</td>\n      <td>53,599</td>\n    </tr>\n    <tr>\n      <th>203971</th>\n      <td>65,206</td>\n      <td>18,175</td>\n    </tr>\n    <tr>\n      <th>203972</th>\n      <td>65,206</td>\n      <td>18,256</td>\n    </tr>\n    <tr>\n      <th>203973</th>\n      <td>65,206</td>\n      <td>11,32</td>\n    </tr>\n    <tr>\n      <th>203974</th>\n      <td>65,206</td>\n      <td>9,90</td>\n    </tr>\n    <tr>\n      <th>203975</th>\n      <td>65,206</td>\n      <td>53,243</td>\n    </tr>\n    <tr>\n      <th>203976</th>\n      <td>65,206</td>\n      <td>48,195</td>\n    </tr>\n    <tr>\n      <th>203977</th>\n      <td>65,206</td>\n      <td>53,688</td>\n    </tr>\n    <tr>\n      <th>203978</th>\n      <td>65,206</td>\n      <td>65,201</td>\n    </tr>\n    <tr>\n      <th>203979</th>\n      <td>65,206</td>\n      <td>50,261</td>\n    </tr>\n    <tr>\n      <th>203980</th>\n      <td>65,206</td>\n      <td>40,1</td>\n    </tr>\n    <tr>\n      <th>203981</th>\n      <td>65,206</td>\n      <td>13,163</td>\n    </tr>\n    <tr>\n      <th>203982</th>\n      <td>65,206</td>\n      <td>53,874</td>\n    </tr>\n    <tr>\n      <th>203983</th>\n      <td>65,206</td>\n      <td>20,345</td>\n    </tr>\n    <tr>\n      <th>203984</th>\n      <td>65,206</td>\n      <td>53,1029</td>\n    </tr>\n    <tr>\n      <th>203985</th>\n      <td>65,206</td>\n      <td>48,44</td>\n    </tr>\n    <tr>\n      <th>203986</th>\n      <td>65,211</td>\n      <td>3,15</td>\n    </tr>\n    <tr>\n      <th>203987</th>\n      <td>65,211</td>\n      <td>22,226</td>\n    </tr>\n    <tr>\n      <th>203988</th>\n      <td>65,211</td>\n      <td>60,181</td>\n    </tr>\n    <tr>\n      <th>203989</th>\n      <td>65,211</td>\n      <td>17,47</td>\n    </tr>\n    <tr>\n      <th>203990</th>\n      <td>65,211</td>\n      <td>57,16</td>\n    </tr>\n    <tr>\n      <th>203991</th>\n      <td>65,211</td>\n      <td>12,337</td>\n    </tr>\n  </tbody>\n</table>\n<p>203992 rows × 2 columns</p>\n</div>",
      "text/plain": "             a        b\n0          0,7     7,36\n1          0,7    53,23\n2          0,7   53,631\n3          0,7    52,74\n4          0,7   53,194\n5          0,7     7,68\n6          0,7   10,291\n7          0,7    0,381\n8          0,7    6,261\n9          0,7   20,628\n10         0,7   53,392\n11         0,7    48,35\n12         0,7     43,0\n13         0,7  53,1119\n14         0,7   53,675\n15         0,7     42,1\n16         0,7    6,445\n17         0,7   48,202\n18         0,7   53,841\n19         0,7    14,83\n20         0,7   48,131\n21         0,7   22,168\n22         0,7   40,159\n23         0,7    48,26\n24         0,7  53,1028\n25         0,7   53,242\n26         0,7   65,153\n27         0,7   48,197\n28         0,7   53,120\n29         0,7    6,265\n...        ...      ...\n203962  65,206   50,347\n203963  65,206    7,150\n203964  65,206   35,176\n203965  65,206   42,237\n203966  65,206     9,95\n203967  65,206   13,174\n203968  65,206   53,239\n203969  65,206     28,0\n203970  65,206   53,599\n203971  65,206   18,175\n203972  65,206   18,256\n203973  65,206    11,32\n203974  65,206     9,90\n203975  65,206   53,243\n203976  65,206   48,195\n203977  65,206   53,688\n203978  65,206   65,201\n203979  65,206   50,261\n203980  65,206     40,1\n203981  65,206   13,163\n203982  65,206   53,874\n203983  65,206   20,345\n203984  65,206  53,1029\n203985  65,206    48,44\n203986  65,211     3,15\n203987  65,211   22,226\n203988  65,211   60,181\n203989  65,211    17,47\n203990  65,211    57,16\n203991  65,211   12,337\n\n[203992 rows x 2 columns]"
     },
     "execution_count": 4,
     "metadata": {},
     "output_type": "execute_result"
    }
   ],
   "source": [
    "import pandas as pd \n",
    "\n",
    "neighbour_pairs = []\n",
    "\n",
    "for t in texts:\n",
    "  result = lsh.query(t.minhash())\n",
    "\n",
    "  # Result will always contain the message itself - remove\n",
    "  result = [r for r in result if r != t.id()]\n",
    "\n",
    "  for neighbour in result:\n",
    "    neighbour_pairs.append([ t.id(), neighbour ])\n",
    "\n",
    "df = pd.DataFrame(neighbour_pairs, columns=['a', 'b'])\n",
    "df"
   ]
  },
  {
   "cell_type": "code",
   "execution_count": 5,
   "metadata": {},
   "outputs": [],
   "source": [
    "df.to_csv('results_pagewise.csv', index=False)"
   ]
  },
  {
   "cell_type": "code",
   "execution_count": null,
   "metadata": {},
   "outputs": [],
   "source": []
  }
 ]
}