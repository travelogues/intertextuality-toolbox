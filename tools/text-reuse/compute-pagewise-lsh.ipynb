{
 "nbformat": 4,
 "nbformat_minor": 2,
 "metadata": {
  "language_info": {
   "name": "python",
   "codemirror_mode": {
    "name": "ipython",
    "version": 3
   },
   "version": "3.6.5-final"
  },
  "orig_nbformat": 2,
  "file_extension": ".py",
  "mimetype": "text/x-python",
  "name": "python",
  "npconvert_exporter": "python",
  "pygments_lexer": "ipython3",
  "version": 3,
  "kernelspec": {
   "name": "python3",
   "display_name": "Python 3"
  }
 },
 "cells": [
  {
   "cell_type": "markdown",
   "metadata": {},
   "source": [
    "# Compute Page-Wise N-GRAM Similarity\n",
    "\n",
    "This notebook computes n-gram similarity, using Locality-Sensitive Hashing fingerprints. __Important:__\n",
    "comparison is done based on __pages__, not texts as a whole!"
   ]
  },
  {
   "cell_type": "code",
   "execution_count": 1,
   "metadata": {},
   "outputs": [
    {
     "data": {
      "text/plain": "'Loaded 66 documents'"
     },
     "execution_count": 1,
     "metadata": {},
     "output_type": "execute_result"
    }
   ],
   "source": [
    "import glob\n",
    "import re\n",
    "\n",
    "INPUT_FOLDER = '../../../travelogues-corpus/16th_century/books'\n",
    "\n",
    "def read_file(f):\n",
    "  with open(f, 'r') as file:\n",
    "    return file.read()\n",
    "\n",
    "filenames = [f for f in glob.glob(INPUT_FOLDER + '**/*.txt')]\n",
    "texts = [ read_file(f) for f in filenames ]\n",
    "\n",
    "f'Loaded {len(texts)} documents'"
   ]
  },
  {
   "cell_type": "code",
   "execution_count": 2,
   "metadata": {},
   "outputs": [],
   "source": [
    "import re\n",
    "\n",
    "blank_line_regex = r\"(?:\\r?\\n){2,}\"\n",
    "pages_per_text = list(map(lambda l: re.split(blank_line_regex, l.strip()), texts))\n",
    "\n",
    "cleaned_pages_per_text = []\n",
    "for pages in pages_per_text:\n",
    "  # ASCII characters only\n",
    "  cleaned = [ re.sub('[^A-Za-z0-9 ]+', '', page) for page in pages ]\n",
    "\n",
    "  # Replace multiple spaces by one\n",
    "  cleand = [ re.sub('\\\\s+', ' ', page) for page in cleaned ]\n",
    "\n",
    "  # Remove empty pages\n",
    "  cleaned = [ p.strip() for p in cleaned if len(p.strip()) > 0 ]\n",
    "\n",
    "  cleaned_pages_per_text.append(cleaned)"
   ]
  },
  {
   "cell_type": "code",
   "execution_count": 4,
   "metadata": {},
   "outputs": [
    {
     "data": {
      "image/png": "[encoded data removed]",
      "text/plain": "<Figure size 432x288 with 1 Axes>"
     },
     "metadata": {},
     "output_type": "display_data"
    }
   ],
   "source": [
    "import matplotlib.pyplot as plt\n",
    "\n",
    "# Keep a record of pages per text\n",
    "page_lengths = [ len(pages) for pages in cleaned_pages_per_text ]\n",
    "\n",
    "plt.hist(page_lengths, bins=30, rwidth=0.85)\n",
    "plt.show()"
   ]
  },
  {
   "cell_type": "code",
   "execution_count": 5,
   "metadata": {},
   "outputs": [
    {
     "data": {
      "text/plain": "'Built LSH index for 15906 pages'"
     },
     "execution_count": 5,
     "metadata": {},
     "output_type": "execute_result"
    }
   ],
   "source": [
    "from datasketch import MinHashLSH\n",
    "from util.text import Text\n",
    "import pickle\n",
    "\n",
    "# 'Text' minhash helper objects\n",
    "texts = []\n",
    "\n",
    "for text_idx, text in enumerate(cleaned_pages_per_text):\n",
    "  for page_idx, page in enumerate(text):\n",
    "    texts.append(Text(text_idx, page_idx, page))\n",
    "\n",
    "lsh = MinHashLSH(threshold=0.8, num_perm=128)\n",
    "\n",
    "for t in texts:\n",
    "  lsh.insert(t.id(), t.minhash())\n",
    "\n",
    "# Save for later (computation takes a lot of time...)\n",
    "# pickle.dump(lsh, open('./lsh.bin', 'wb'))\n",
    "\n",
    "f'Built LSH index for {len(texts)} pages'"
   ]
  },
  {
   "cell_type": "code",
   "execution_count": 6,
   "metadata": {},
   "outputs": [],
   "source": [
    "neighbour_pairs = []\n",
    "\n",
    "for t in texts:\n",
    "  result = lsh.query(t.minhash())\n",
    "\n",
    "  # Result will always contain the message itself - remove\n",
    "  result = [r for r in result if r != t.id()]\n",
    "\n",
    "  for neighbour in result:\n",
    "    neighbour_pairs.append([ t.id(), neighbour ])"
   ]
  },
  {
   "cell_type": "markdown",
   "metadata": {},
   "source": [
    "Now aggregate the page-level results to a simple book-level \"score\", where the score is simply\n",
    "the number of identified pairs above the LSH threshold. "
   ]
  },
  {
   "cell_type": "code",
   "execution_count": 10,
   "metadata": {},
   "outputs": [
    {
     "data": {
      "text/html": "<div>\n<style scoped>\n    .dataframe tbody tr th:only-of-type {\n        vertical-align: middle;\n    }\n\n    .dataframe tbody tr th {\n        vertical-align: top;\n    }\n\n    .dataframe thead th {\n        text-align: right;\n    }\n</style>\n<table border=\"1\" class=\"dataframe\">\n  <thead>\n    <tr style=\"text-align: right;\">\n      <th></th>\n      <th>a</th>\n      <th>b</th>\n      <th>num_pairs</th>\n      <th>normalized</th>\n      <th>url_a</th>\n      <th>url_b</th>\n    </tr>\n  </thead>\n  <tbody>\n    <tr>\n      <th>0</th>\n      <td>Z18514390X</td>\n      <td>Z176246604</td>\n      <td>8680</td>\n      <td>5.733157</td>\n      <td>http://data.onb.ac.at/ABO/+Z18514390X</td>\n      <td>http://data.onb.ac.at/ABO/+Z176246604</td>\n    </tr>\n    <tr>\n      <th>1</th>\n      <td>Z185912505</td>\n      <td>Z176246604</td>\n      <td>7280</td>\n      <td>4.013230</td>\n      <td>http://data.onb.ac.at/ABO/+Z185912505</td>\n      <td>http://data.onb.ac.at/ABO/+Z176246604</td>\n    </tr>\n    <tr>\n      <th>2</th>\n      <td>Z184929303</td>\n      <td>Z176246604</td>\n      <td>5880</td>\n      <td>4.326711</td>\n      <td>http://data.onb.ac.at/ABO/+Z184929303</td>\n      <td>http://data.onb.ac.at/ABO/+Z176246604</td>\n    </tr>\n    <tr>\n      <th>3</th>\n      <td>Z253367704</td>\n      <td>Z176246604</td>\n      <td>5040</td>\n      <td>2.722853</td>\n      <td>http://data.onb.ac.at/ABO/+Z253367704</td>\n      <td>http://data.onb.ac.at/ABO/+Z176246604</td>\n    </tr>\n    <tr>\n      <th>4</th>\n      <td>Z180628606</td>\n      <td>Z176246604</td>\n      <td>4760</td>\n      <td>2.631288</td>\n      <td>http://data.onb.ac.at/ABO/+Z180628606</td>\n      <td>http://data.onb.ac.at/ABO/+Z176246604</td>\n    </tr>\n    <tr>\n      <th>5</th>\n      <td>Z176246604</td>\n      <td>Z185143704</td>\n      <td>4760</td>\n      <td>3.489736</td>\n      <td>http://data.onb.ac.at/ABO/+Z176246604</td>\n      <td>http://data.onb.ac.at/ABO/+Z185143704</td>\n    </tr>\n    <tr>\n      <th>6</th>\n      <td>Z163300909</td>\n      <td>Z176246604</td>\n      <td>3920</td>\n      <td>2.492053</td>\n      <td>http://data.onb.ac.at/ABO/+Z163300909</td>\n      <td>http://data.onb.ac.at/ABO/+Z176246604</td>\n    </tr>\n    <tr>\n      <th>7</th>\n      <td>Z160260500</td>\n      <td>Z176246604</td>\n      <td>3920</td>\n      <td>2.637954</td>\n      <td>http://data.onb.ac.at/ABO/+Z160260500</td>\n      <td>http://data.onb.ac.at/ABO/+Z176246604</td>\n    </tr>\n    <tr>\n      <th>8</th>\n      <td>Z168096506</td>\n      <td>Z176246604</td>\n      <td>3360</td>\n      <td>1.777778</td>\n      <td>http://data.onb.ac.at/ABO/+Z168096506</td>\n      <td>http://data.onb.ac.at/ABO/+Z176246604</td>\n    </tr>\n    <tr>\n      <th>9</th>\n      <td>Z176246604</td>\n      <td>Z185158008</td>\n      <td>3360</td>\n      <td>2.559025</td>\n      <td>http://data.onb.ac.at/ABO/+Z176246604</td>\n      <td>http://data.onb.ac.at/ABO/+Z185158008</td>\n    </tr>\n    <tr>\n      <th>10</th>\n      <td>Z185142104</td>\n      <td>Z176246604</td>\n      <td>3080</td>\n      <td>2.442506</td>\n      <td>http://data.onb.ac.at/ABO/+Z185142104</td>\n      <td>http://data.onb.ac.at/ABO/+Z176246604</td>\n    </tr>\n    <tr>\n      <th>11</th>\n      <td>Z156577207</td>\n      <td>Z176246604</td>\n      <td>2800</td>\n      <td>2.220460</td>\n      <td>http://data.onb.ac.at/ABO/+Z156577207</td>\n      <td>http://data.onb.ac.at/ABO/+Z176246604</td>\n    </tr>\n    <tr>\n      <th>12</th>\n      <td>Z15958790X</td>\n      <td>Z176246604</td>\n      <td>2240</td>\n      <td>1.630277</td>\n      <td>http://data.onb.ac.at/ABO/+Z15958790X</td>\n      <td>http://data.onb.ac.at/ABO/+Z176246604</td>\n    </tr>\n    <tr>\n      <th>13</th>\n      <td>Z158160208</td>\n      <td>Z176246604</td>\n      <td>2240</td>\n      <td>1.131313</td>\n      <td>http://data.onb.ac.at/ABO/+Z158160208</td>\n      <td>http://data.onb.ac.at/ABO/+Z176246604</td>\n    </tr>\n    <tr>\n      <th>14</th>\n      <td>Z182822001</td>\n      <td>Z176246604</td>\n      <td>1960</td>\n      <td>1.422351</td>\n      <td>http://data.onb.ac.at/ABO/+Z182822001</td>\n      <td>http://data.onb.ac.at/ABO/+Z176246604</td>\n    </tr>\n    <tr>\n      <th>15</th>\n      <td>Z25647300X</td>\n      <td>Z176246604</td>\n      <td>1960</td>\n      <td>1.443299</td>\n      <td>http://data.onb.ac.at/ABO/+Z25647300X</td>\n      <td>http://data.onb.ac.at/ABO/+Z176246604</td>\n    </tr>\n    <tr>\n      <th>16</th>\n      <td>Z185142001</td>\n      <td>Z176246604</td>\n      <td>1680</td>\n      <td>1.292308</td>\n      <td>http://data.onb.ac.at/ABO/+Z185142001</td>\n      <td>http://data.onb.ac.at/ABO/+Z176246604</td>\n    </tr>\n    <tr>\n      <th>17</th>\n      <td>Z185912505</td>\n      <td>Z18514390X</td>\n      <td>1612</td>\n      <td>1.571150</td>\n      <td>http://data.onb.ac.at/ABO/+Z185912505</td>\n      <td>http://data.onb.ac.at/ABO/+Z18514390X</td>\n    </tr>\n    <tr>\n      <th>18</th>\n      <td>Z165709803</td>\n      <td>Z176246604</td>\n      <td>1400</td>\n      <td>0.812536</td>\n      <td>http://data.onb.ac.at/ABO/+Z165709803</td>\n      <td>http://data.onb.ac.at/ABO/+Z176246604</td>\n    </tr>\n    <tr>\n      <th>19</th>\n      <td>Z156771000</td>\n      <td>Z176246604</td>\n      <td>1400</td>\n      <td>0.842866</td>\n      <td>http://data.onb.ac.at/ABO/+Z156771000</td>\n      <td>http://data.onb.ac.at/ABO/+Z176246604</td>\n    </tr>\n    <tr>\n      <th>20</th>\n      <td>Z185157107</td>\n      <td>Z176246604</td>\n      <td>1400</td>\n      <td>1.068702</td>\n      <td>http://data.onb.ac.at/ABO/+Z185157107</td>\n      <td>http://data.onb.ac.at/ABO/+Z176246604</td>\n    </tr>\n    <tr>\n      <th>21</th>\n      <td>Z185157909</td>\n      <td>Z176246604</td>\n      <td>1400</td>\n      <td>1.050263</td>\n      <td>http://data.onb.ac.at/ABO/+Z185157909</td>\n      <td>http://data.onb.ac.at/ABO/+Z176246604</td>\n    </tr>\n    <tr>\n      <th>22</th>\n      <td>Z168354106</td>\n      <td>Z176246604</td>\n      <td>1400</td>\n      <td>1.083591</td>\n      <td>http://data.onb.ac.at/ABO/+Z168354106</td>\n      <td>http://data.onb.ac.at/ABO/+Z176246604</td>\n    </tr>\n    <tr>\n      <th>23</th>\n      <td>Z184929303</td>\n      <td>Z18514390X</td>\n      <td>1302</td>\n      <td>2.280210</td>\n      <td>http://data.onb.ac.at/ABO/+Z184929303</td>\n      <td>http://data.onb.ac.at/ABO/+Z18514390X</td>\n    </tr>\n    <tr>\n      <th>24</th>\n      <td>Z253367704</td>\n      <td>Z18514390X</td>\n      <td>1116</td>\n      <td>1.049859</td>\n      <td>http://data.onb.ac.at/ABO/+Z253367704</td>\n      <td>http://data.onb.ac.at/ABO/+Z18514390X</td>\n    </tr>\n    <tr>\n      <th>25</th>\n      <td>Z185912505</td>\n      <td>Z184929303</td>\n      <td>1092</td>\n      <td>1.253731</td>\n      <td>http://data.onb.ac.at/ABO/+Z185912505</td>\n      <td>http://data.onb.ac.at/ABO/+Z184929303</td>\n    </tr>\n    <tr>\n      <th>26</th>\n      <td>Z180628606</td>\n      <td>Z18514390X</td>\n      <td>1054</td>\n      <td>1.032321</td>\n      <td>http://data.onb.ac.at/ABO/+Z180628606</td>\n      <td>http://data.onb.ac.at/ABO/+Z18514390X</td>\n    </tr>\n    <tr>\n      <th>27</th>\n      <td>Z18514390X</td>\n      <td>Z185143704</td>\n      <td>1054</td>\n      <td>1.829861</td>\n      <td>http://data.onb.ac.at/ABO/+Z18514390X</td>\n      <td>http://data.onb.ac.at/ABO/+Z185143704</td>\n    </tr>\n    <tr>\n      <th>28</th>\n      <td>Z185912505</td>\n      <td>Z253367704</td>\n      <td>936</td>\n      <td>0.686720</td>\n      <td>http://data.onb.ac.at/ABO/+Z185912505</td>\n      <td>http://data.onb.ac.at/ABO/+Z253367704</td>\n    </tr>\n    <tr>\n      <th>29</th>\n      <td>Z180628606</td>\n      <td>Z185912505</td>\n      <td>884</td>\n      <td>0.669190</td>\n      <td>http://data.onb.ac.at/ABO/+Z180628606</td>\n      <td>http://data.onb.ac.at/ABO/+Z185912505</td>\n    </tr>\n    <tr>\n      <th>...</th>\n      <td>...</td>\n      <td>...</td>\n      <td>...</td>\n      <td>...</td>\n      <td>...</td>\n      <td>...</td>\n    </tr>\n    <tr>\n      <th>1475</th>\n      <td>Z224270704</td>\n      <td>Z186388101</td>\n      <td>2</td>\n      <td>0.007576</td>\n      <td>http://data.onb.ac.at/ABO/+Z224270704</td>\n      <td>http://data.onb.ac.at/ABO/+Z186388101</td>\n    </tr>\n    <tr>\n      <th>1476</th>\n      <td>Z224270704</td>\n      <td>Z156265702</td>\n      <td>2</td>\n      <td>0.029851</td>\n      <td>http://data.onb.ac.at/ABO/+Z224270704</td>\n      <td>http://data.onb.ac.at/ABO/+Z156265702</td>\n    </tr>\n    <tr>\n      <th>1477</th>\n      <td>Z224270704</td>\n      <td>Z168353801</td>\n      <td>2</td>\n      <td>0.013514</td>\n      <td>http://data.onb.ac.at/ABO/+Z224270704</td>\n      <td>http://data.onb.ac.at/ABO/+Z168353801</td>\n    </tr>\n    <tr>\n      <th>1478</th>\n      <td>Z224270704</td>\n      <td>Z168091405</td>\n      <td>2</td>\n      <td>0.012121</td>\n      <td>http://data.onb.ac.at/ABO/+Z224270704</td>\n      <td>http://data.onb.ac.at/ABO/+Z168091405</td>\n    </tr>\n    <tr>\n      <th>1479</th>\n      <td>Z224270704</td>\n      <td>Z175148507</td>\n      <td>2</td>\n      <td>0.010929</td>\n      <td>http://data.onb.ac.at/ABO/+Z224270704</td>\n      <td>http://data.onb.ac.at/ABO/+Z175148507</td>\n    </tr>\n    <tr>\n      <th>1480</th>\n      <td>Z224270704</td>\n      <td>Z157711400</td>\n      <td>2</td>\n      <td>0.021739</td>\n      <td>http://data.onb.ac.at/ABO/+Z224270704</td>\n      <td>http://data.onb.ac.at/ABO/+Z157711400</td>\n    </tr>\n    <tr>\n      <th>1481</th>\n      <td>Z224270704</td>\n      <td>Z169010905</td>\n      <td>2</td>\n      <td>0.032787</td>\n      <td>http://data.onb.ac.at/ABO/+Z224270704</td>\n      <td>http://data.onb.ac.at/ABO/+Z169010905</td>\n    </tr>\n    <tr>\n      <th>1482</th>\n      <td>Z169010905</td>\n      <td>Z186388101</td>\n      <td>2</td>\n      <td>0.008299</td>\n      <td>http://data.onb.ac.at/ABO/+Z169010905</td>\n      <td>http://data.onb.ac.at/ABO/+Z186388101</td>\n    </tr>\n    <tr>\n      <th>1483</th>\n      <td>Z169010905</td>\n      <td>Z156265702</td>\n      <td>2</td>\n      <td>0.045455</td>\n      <td>http://data.onb.ac.at/ABO/+Z169010905</td>\n      <td>http://data.onb.ac.at/ABO/+Z156265702</td>\n    </tr>\n    <tr>\n      <th>1484</th>\n      <td>Z169010905</td>\n      <td>Z168353801</td>\n      <td>2</td>\n      <td>0.016000</td>\n      <td>http://data.onb.ac.at/ABO/+Z169010905</td>\n      <td>http://data.onb.ac.at/ABO/+Z168353801</td>\n    </tr>\n    <tr>\n      <th>1485</th>\n      <td>Z169010905</td>\n      <td>Z168091405</td>\n      <td>2</td>\n      <td>0.014085</td>\n      <td>http://data.onb.ac.at/ABO/+Z169010905</td>\n      <td>http://data.onb.ac.at/ABO/+Z168091405</td>\n    </tr>\n    <tr>\n      <th>1486</th>\n      <td>Z169010905</td>\n      <td>Z175148507</td>\n      <td>2</td>\n      <td>0.012500</td>\n      <td>http://data.onb.ac.at/ABO/+Z169010905</td>\n      <td>http://data.onb.ac.at/ABO/+Z175148507</td>\n    </tr>\n    <tr>\n      <th>1487</th>\n      <td>Z169010905</td>\n      <td>Z157711400</td>\n      <td>2</td>\n      <td>0.028986</td>\n      <td>http://data.onb.ac.at/ABO/+Z169010905</td>\n      <td>http://data.onb.ac.at/ABO/+Z157711400</td>\n    </tr>\n    <tr>\n      <th>1488</th>\n      <td>Z186388101</td>\n      <td>Z156265702</td>\n      <td>2</td>\n      <td>0.008097</td>\n      <td>http://data.onb.ac.at/ABO/+Z186388101</td>\n      <td>http://data.onb.ac.at/ABO/+Z156265702</td>\n    </tr>\n    <tr>\n      <th>1489</th>\n      <td>Z186388101</td>\n      <td>Z168353801</td>\n      <td>2</td>\n      <td>0.006098</td>\n      <td>http://data.onb.ac.at/ABO/+Z186388101</td>\n      <td>http://data.onb.ac.at/ABO/+Z168353801</td>\n    </tr>\n    <tr>\n      <th>1490</th>\n      <td>Z186388101</td>\n      <td>Z168091405</td>\n      <td>2</td>\n      <td>0.005797</td>\n      <td>http://data.onb.ac.at/ABO/+Z186388101</td>\n      <td>http://data.onb.ac.at/ABO/+Z168091405</td>\n    </tr>\n    <tr>\n      <th>1491</th>\n      <td>Z186388101</td>\n      <td>Z175148507</td>\n      <td>2</td>\n      <td>0.005510</td>\n      <td>http://data.onb.ac.at/ABO/+Z186388101</td>\n      <td>http://data.onb.ac.at/ABO/+Z175148507</td>\n    </tr>\n    <tr>\n      <th>1492</th>\n      <td>Z186388101</td>\n      <td>Z157711400</td>\n      <td>2</td>\n      <td>0.007353</td>\n      <td>http://data.onb.ac.at/ABO/+Z186388101</td>\n      <td>http://data.onb.ac.at/ABO/+Z157711400</td>\n    </tr>\n    <tr>\n      <th>1493</th>\n      <td>Z175148507</td>\n      <td>Z156265702</td>\n      <td>2</td>\n      <td>0.012048</td>\n      <td>http://data.onb.ac.at/ABO/+Z175148507</td>\n      <td>http://data.onb.ac.at/ABO/+Z156265702</td>\n    </tr>\n    <tr>\n      <th>1494</th>\n      <td>Z175148507</td>\n      <td>Z168353801</td>\n      <td>2</td>\n      <td>0.008097</td>\n      <td>http://data.onb.ac.at/ABO/+Z175148507</td>\n      <td>http://data.onb.ac.at/ABO/+Z168353801</td>\n    </tr>\n    <tr>\n      <th>1495</th>\n      <td>Z175148507</td>\n      <td>Z168091405</td>\n      <td>2</td>\n      <td>0.007576</td>\n      <td>http://data.onb.ac.at/ABO/+Z175148507</td>\n      <td>http://data.onb.ac.at/ABO/+Z168091405</td>\n    </tr>\n    <tr>\n      <th>1496</th>\n      <td>Z175148507</td>\n      <td>Z157711400</td>\n      <td>2</td>\n      <td>0.010471</td>\n      <td>http://data.onb.ac.at/ABO/+Z175148507</td>\n      <td>http://data.onb.ac.at/ABO/+Z157711400</td>\n    </tr>\n    <tr>\n      <th>1497</th>\n      <td>Z168353801</td>\n      <td>Z156265702</td>\n      <td>2</td>\n      <td>0.015267</td>\n      <td>http://data.onb.ac.at/ABO/+Z168353801</td>\n      <td>http://data.onb.ac.at/ABO/+Z156265702</td>\n    </tr>\n    <tr>\n      <th>1498</th>\n      <td>Z168353801</td>\n      <td>Z168091405</td>\n      <td>2</td>\n      <td>0.008734</td>\n      <td>http://data.onb.ac.at/ABO/+Z168353801</td>\n      <td>http://data.onb.ac.at/ABO/+Z168091405</td>\n    </tr>\n    <tr>\n      <th>1499</th>\n      <td>Z168353801</td>\n      <td>Z157711400</td>\n      <td>2</td>\n      <td>0.012821</td>\n      <td>http://data.onb.ac.at/ABO/+Z168353801</td>\n      <td>http://data.onb.ac.at/ABO/+Z157711400</td>\n    </tr>\n    <tr>\n      <th>1500</th>\n      <td>Z168091405</td>\n      <td>Z156265702</td>\n      <td>2</td>\n      <td>0.013514</td>\n      <td>http://data.onb.ac.at/ABO/+Z168091405</td>\n      <td>http://data.onb.ac.at/ABO/+Z156265702</td>\n    </tr>\n    <tr>\n      <th>1501</th>\n      <td>Z168091405</td>\n      <td>Z157711400</td>\n      <td>2</td>\n      <td>0.011561</td>\n      <td>http://data.onb.ac.at/ABO/+Z168091405</td>\n      <td>http://data.onb.ac.at/ABO/+Z157711400</td>\n    </tr>\n    <tr>\n      <th>1502</th>\n      <td>Z157711400</td>\n      <td>Z156265702</td>\n      <td>2</td>\n      <td>0.026667</td>\n      <td>http://data.onb.ac.at/ABO/+Z157711400</td>\n      <td>http://data.onb.ac.at/ABO/+Z156265702</td>\n    </tr>\n    <tr>\n      <th>1503</th>\n      <td>Z224214403</td>\n      <td>Z165780108</td>\n      <td>2</td>\n      <td>0.009950</td>\n      <td>http://data.onb.ac.at/ABO/+Z224214403</td>\n      <td>http://data.onb.ac.at/ABO/+Z165780108</td>\n    </tr>\n    <tr>\n      <th>1504</th>\n      <td>Z224214403</td>\n      <td>Z185143704</td>\n      <td>2</td>\n      <td>0.008696</td>\n      <td>http://data.onb.ac.at/ABO/+Z224214403</td>\n      <td>http://data.onb.ac.at/ABO/+Z185143704</td>\n    </tr>\n  </tbody>\n</table>\n<p>1505 rows × 6 columns</p>\n</div>",
      "text/plain": "               a           b  num_pairs  normalized  \\\n0     Z18514390X  Z176246604       8680    5.733157   \n1     Z185912505  Z176246604       7280    4.013230   \n2     Z184929303  Z176246604       5880    4.326711   \n3     Z253367704  Z176246604       5040    2.722853   \n4     Z180628606  Z176246604       4760    2.631288   \n5     Z176246604  Z185143704       4760    3.489736   \n6     Z163300909  Z176246604       3920    2.492053   \n7     Z160260500  Z176246604       3920    2.637954   \n8     Z168096506  Z176246604       3360    1.777778   \n9     Z176246604  Z185158008       3360    2.559025   \n10    Z185142104  Z176246604       3080    2.442506   \n11    Z156577207  Z176246604       2800    2.220460   \n12    Z15958790X  Z176246604       2240    1.630277   \n13    Z158160208  Z176246604       2240    1.131313   \n14    Z182822001  Z176246604       1960    1.422351   \n15    Z25647300X  Z176246604       1960    1.443299   \n16    Z185142001  Z176246604       1680    1.292308   \n17    Z185912505  Z18514390X       1612    1.571150   \n18    Z165709803  Z176246604       1400    0.812536   \n19    Z156771000  Z176246604       1400    0.842866   \n20    Z185157107  Z176246604       1400    1.068702   \n21    Z185157909  Z176246604       1400    1.050263   \n22    Z168354106  Z176246604       1400    1.083591   \n23    Z184929303  Z18514390X       1302    2.280210   \n24    Z253367704  Z18514390X       1116    1.049859   \n25    Z185912505  Z184929303       1092    1.253731   \n26    Z180628606  Z18514390X       1054    1.032321   \n27    Z18514390X  Z185143704       1054    1.829861   \n28    Z185912505  Z253367704        936    0.686720   \n29    Z180628606  Z185912505        884    0.669190   \n...          ...         ...        ...         ...   \n1475  Z224270704  Z186388101          2    0.007576   \n1476  Z224270704  Z156265702          2    0.029851   \n1477  Z224270704  Z168353801          2    0.013514   \n1478  Z224270704  Z168091405          2    0.012121   \n1479  Z224270704  Z175148507          2    0.010929   \n1480  Z224270704  Z157711400          2    0.021739   \n1481  Z224270704  Z169010905          2    0.032787   \n1482  Z169010905  Z186388101          2    0.008299   \n1483  Z169010905  Z156265702          2    0.045455   \n1484  Z169010905  Z168353801          2    0.016000   \n1485  Z169010905  Z168091405          2    0.014085   \n1486  Z169010905  Z175148507          2    0.012500   \n1487  Z169010905  Z157711400          2    0.028986   \n1488  Z186388101  Z156265702          2    0.008097   \n1489  Z186388101  Z168353801          2    0.006098   \n1490  Z186388101  Z168091405          2    0.005797   \n1491  Z186388101  Z175148507          2    0.005510   \n1492  Z186388101  Z157711400          2    0.007353   \n1493  Z175148507  Z156265702          2    0.012048   \n1494  Z175148507  Z168353801          2    0.008097   \n1495  Z175148507  Z168091405          2    0.007576   \n1496  Z175148507  Z157711400          2    0.010471   \n1497  Z168353801  Z156265702          2    0.015267   \n1498  Z168353801  Z168091405          2    0.008734   \n1499  Z168353801  Z157711400          2    0.012821   \n1500  Z168091405  Z156265702          2    0.013514   \n1501  Z168091405  Z157711400          2    0.011561   \n1502  Z157711400  Z156265702          2    0.026667   \n1503  Z224214403  Z165780108          2    0.009950   \n1504  Z224214403  Z185143704          2    0.008696   \n\n                                      url_a  \\\n0     http://data.onb.ac.at/ABO/+Z18514390X   \n1     http://data.onb.ac.at/ABO/+Z185912505   \n2     http://data.onb.ac.at/ABO/+Z184929303   \n3     http://data.onb.ac.at/ABO/+Z253367704   \n4     http://data.onb.ac.at/ABO/+Z180628606   \n5     http://data.onb.ac.at/ABO/+Z176246604   \n6     http://data.onb.ac.at/ABO/+Z163300909   \n7     http://data.onb.ac.at/ABO/+Z160260500   \n8     http://data.onb.ac.at/ABO/+Z168096506   \n9     http://data.onb.ac.at/ABO/+Z176246604   \n10    http://data.onb.ac.at/ABO/+Z185142104   \n11    http://data.onb.ac.at/ABO/+Z156577207   \n12    http://data.onb.ac.at/ABO/+Z15958790X   \n13    http://data.onb.ac.at/ABO/+Z158160208   \n14    http://data.onb.ac.at/ABO/+Z182822001   \n15    http://data.onb.ac.at/ABO/+Z25647300X   \n16    http://data.onb.ac.at/ABO/+Z185142001   \n17    http://data.onb.ac.at/ABO/+Z185912505   \n18    http://data.onb.ac.at/ABO/+Z165709803   \n19    http://data.onb.ac.at/ABO/+Z156771000   \n20    http://data.onb.ac.at/ABO/+Z185157107   \n21    http://data.onb.ac.at/ABO/+Z185157909   \n22    http://data.onb.ac.at/ABO/+Z168354106   \n23    http://data.onb.ac.at/ABO/+Z184929303   \n24    http://data.onb.ac.at/ABO/+Z253367704   \n25    http://data.onb.ac.at/ABO/+Z185912505   \n26    http://data.onb.ac.at/ABO/+Z180628606   \n27    http://data.onb.ac.at/ABO/+Z18514390X   \n28    http://data.onb.ac.at/ABO/+Z185912505   \n29    http://data.onb.ac.at/ABO/+Z180628606   \n...                                     ...   \n1475  http://data.onb.ac.at/ABO/+Z224270704   \n1476  http://data.onb.ac.at/ABO/+Z224270704   \n1477  http://data.onb.ac.at/ABO/+Z224270704   \n1478  http://data.onb.ac.at/ABO/+Z224270704   \n1479  http://data.onb.ac.at/ABO/+Z224270704   \n1480  http://data.onb.ac.at/ABO/+Z224270704   \n1481  http://data.onb.ac.at/ABO/+Z224270704   \n1482  http://data.onb.ac.at/ABO/+Z169010905   \n1483  http://data.onb.ac.at/ABO/+Z169010905   \n1484  http://data.onb.ac.at/ABO/+Z169010905   \n1485  http://data.onb.ac.at/ABO/+Z169010905   \n1486  http://data.onb.ac.at/ABO/+Z169010905   \n1487  http://data.onb.ac.at/ABO/+Z169010905   \n1488  http://data.onb.ac.at/ABO/+Z186388101   \n1489  http://data.onb.ac.at/ABO/+Z186388101   \n1490  http://data.onb.ac.at/ABO/+Z186388101   \n1491  http://data.onb.ac.at/ABO/+Z186388101   \n1492  http://data.onb.ac.at/ABO/+Z186388101   \n1493  http://data.onb.ac.at/ABO/+Z175148507   \n1494  http://data.onb.ac.at/ABO/+Z175148507   \n1495  http://data.onb.ac.at/ABO/+Z175148507   \n1496  http://data.onb.ac.at/ABO/+Z175148507   \n1497  http://data.onb.ac.at/ABO/+Z168353801   \n1498  http://data.onb.ac.at/ABO/+Z168353801   \n1499  http://data.onb.ac.at/ABO/+Z168353801   \n1500  http://data.onb.ac.at/ABO/+Z168091405   \n1501  http://data.onb.ac.at/ABO/+Z168091405   \n1502  http://data.onb.ac.at/ABO/+Z157711400   \n1503  http://data.onb.ac.at/ABO/+Z224214403   \n1504  http://data.onb.ac.at/ABO/+Z224214403   \n\n                                      url_b  \n0     http://data.onb.ac.at/ABO/+Z176246604  \n1     http://data.onb.ac.at/ABO/+Z176246604  \n2     http://data.onb.ac.at/ABO/+Z176246604  \n3     http://data.onb.ac.at/ABO/+Z176246604  \n4     http://data.onb.ac.at/ABO/+Z176246604  \n5     http://data.onb.ac.at/ABO/+Z185143704  \n6     http://data.onb.ac.at/ABO/+Z176246604  \n7     http://data.onb.ac.at/ABO/+Z176246604  \n8     http://data.onb.ac.at/ABO/+Z176246604  \n9     http://data.onb.ac.at/ABO/+Z185158008  \n10    http://data.onb.ac.at/ABO/+Z176246604  \n11    http://data.onb.ac.at/ABO/+Z176246604  \n12    http://data.onb.ac.at/ABO/+Z176246604  \n13    http://data.onb.ac.at/ABO/+Z176246604  \n14    http://data.onb.ac.at/ABO/+Z176246604  \n15    http://data.onb.ac.at/ABO/+Z176246604  \n16    http://data.onb.ac.at/ABO/+Z176246604  \n17    http://data.onb.ac.at/ABO/+Z18514390X  \n18    http://data.onb.ac.at/ABO/+Z176246604  \n19    http://data.onb.ac.at/ABO/+Z176246604  \n20    http://data.onb.ac.at/ABO/+Z176246604  \n21    http://data.onb.ac.at/ABO/+Z176246604  \n22    http://data.onb.ac.at/ABO/+Z176246604  \n23    http://data.onb.ac.at/ABO/+Z18514390X  \n24    http://data.onb.ac.at/ABO/+Z18514390X  \n25    http://data.onb.ac.at/ABO/+Z184929303  \n26    http://data.onb.ac.at/ABO/+Z18514390X  \n27    http://data.onb.ac.at/ABO/+Z185143704  \n28    http://data.onb.ac.at/ABO/+Z253367704  \n29    http://data.onb.ac.at/ABO/+Z185912505  \n...                                     ...  \n1475  http://data.onb.ac.at/ABO/+Z186388101  \n1476  http://data.onb.ac.at/ABO/+Z156265702  \n1477  http://data.onb.ac.at/ABO/+Z168353801  \n1478  http://data.onb.ac.at/ABO/+Z168091405  \n1479  http://data.onb.ac.at/ABO/+Z175148507  \n1480  http://data.onb.ac.at/ABO/+Z157711400  \n1481  http://data.onb.ac.at/ABO/+Z169010905  \n1482  http://data.onb.ac.at/ABO/+Z186388101  \n1483  http://data.onb.ac.at/ABO/+Z156265702  \n1484  http://data.onb.ac.at/ABO/+Z168353801  \n1485  http://data.onb.ac.at/ABO/+Z168091405  \n1486  http://data.onb.ac.at/ABO/+Z175148507  \n1487  http://data.onb.ac.at/ABO/+Z157711400  \n1488  http://data.onb.ac.at/ABO/+Z156265702  \n1489  http://data.onb.ac.at/ABO/+Z168353801  \n1490  http://data.onb.ac.at/ABO/+Z168091405  \n1491  http://data.onb.ac.at/ABO/+Z175148507  \n1492  http://data.onb.ac.at/ABO/+Z157711400  \n1493  http://data.onb.ac.at/ABO/+Z156265702  \n1494  http://data.onb.ac.at/ABO/+Z168353801  \n1495  http://data.onb.ac.at/ABO/+Z168091405  \n1496  http://data.onb.ac.at/ABO/+Z157711400  \n1497  http://data.onb.ac.at/ABO/+Z156265702  \n1498  http://data.onb.ac.at/ABO/+Z168091405  \n1499  http://data.onb.ac.at/ABO/+Z157711400  \n1500  http://data.onb.ac.at/ABO/+Z156265702  \n1501  http://data.onb.ac.at/ABO/+Z157711400  \n1502  http://data.onb.ac.at/ABO/+Z156265702  \n1503  http://data.onb.ac.at/ABO/+Z165780108  \n1504  http://data.onb.ac.at/ABO/+Z185143704  \n\n[1505 rows x 6 columns]"
     },
     "execution_count": 10,
     "metadata": {},
     "output_type": "execute_result"
    }
   ],
   "source": [
    "import pandas as pd \n",
    "\n",
    "def to_barcode(filename):\n",
    "  return filename[filename.rindex('/') + 1: -4]\n",
    "\n",
    "as_dict = {}\n",
    "\n",
    "for pair in neighbour_pairs:\n",
    "  from_book = int(pair[0].split(',')[0])\n",
    "  to_book = int(pair[1].split(',')[0])\n",
    "\n",
    "  if (from_book != to_book):\n",
    "    # Key is always from lower idx to higher idx\n",
    "    key = f'{from_book},{to_book}' if from_book < to_book else f'{to_book},{from_book}'\n",
    "\n",
    "    if key in as_dict:\n",
    "      as_dict[key] = as_dict[key] + 1\n",
    "    else:\n",
    "      as_dict[key] = 1\n",
    "\n",
    "as_list = []\n",
    "for key in as_dict.keys():\n",
    "  indexes = key.split(',')\n",
    "\n",
    "  idx_a = int(indexes[0])\n",
    "  idx_b = int(indexes[1])\n",
    "\n",
    "  file_a = to_barcode(filenames[idx_a])\n",
    "  file_b = to_barcode(filenames[idx_b])\n",
    "\n",
    "  url_a = f'http://data.onb.ac.at/ABO/+{file_a}'\n",
    "  url_b = f'http://data.onb.ac.at/ABO/+{file_b}'\n",
    "\n",
    "  score = as_dict[key]\n",
    "\n",
    "  normalized = score / (page_lengths[idx_a] + page_lengths[idx_b])\n",
    "\n",
    "  as_list.append([ file_a, file_b, score, normalized, url_a, url_b ])\n",
    "\n",
    "as_list = sorted(as_list, key = lambda x: -x[2])\n",
    "\n",
    "# This data frame now contains book indices and score\n",
    "df = pd.DataFrame(as_list, columns=['a', 'b', 'num_pairs', 'normalized', 'url_a', 'url_b'])\n",
    "df"
   ]
  },
  {
   "cell_type": "code",
   "execution_count": 11,
   "metadata": {},
   "outputs": [],
   "source": [
    "df.to_csv('../../results/similarity_lsh_pagewise.csv', index=False)"
   ]
  },
  {
   "cell_type": "code",
   "execution_count": null,
   "metadata": {},
   "outputs": [],
   "source": []
  }
 ]
}