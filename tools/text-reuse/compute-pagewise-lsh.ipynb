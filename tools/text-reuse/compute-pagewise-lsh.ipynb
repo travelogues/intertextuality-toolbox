{
 "nbformat": 4,
 "nbformat_minor": 2,
 "metadata": {
  "language_info": {
   "name": "python",
   "codemirror_mode": {
    "name": "ipython",
    "version": 3
   },
   "version": "3.6.5-final"
  },
  "orig_nbformat": 2,
  "file_extension": ".py",
  "mimetype": "text/x-python",
  "name": "python",
  "npconvert_exporter": "python",
  "pygments_lexer": "ipython3",
  "version": 3,
  "kernelspec": {
   "name": "python3",
   "display_name": "Python 3"
  }
 },
 "cells": [
  {
   "cell_type": "markdown",
   "metadata": {},
   "source": [
    "# Compute Page-Wise N-GRAM Similarity\n",
    "\n",
    "This notebook computes n-gram similarity, using Locality-Sensitive Hashing fingerprints. __Important:__\n",
    "comparison is done based on __pages__, not texts as a whole!"
   ]
  },
  {
   "cell_type": "code",
   "execution_count": 1,
   "metadata": {},
   "outputs": [
    {
     "data": {
      "text/plain": "'Loaded 949 documents'"
     },
     "execution_count": 1,
     "metadata": {},
     "output_type": "execute_result"
    }
   ],
   "source": [
    "import glob\n",
    "import re\n",
    "\n",
    "INPUT_FOLDER = '../../../travelogues-corpus/18th_century/books'\n",
    "\n",
    "def read_file(f):\n",
    "  with open(f, 'r') as file:\n",
    "    return file.read()\n",
    "\n",
    "filenames = [f for f in glob.glob(INPUT_FOLDER + '**/*.txt')]\n",
    "texts = [ read_file(f) for f in filenames ]\n",
    "\n",
    "f'Loaded {len(texts)} documents'"
   ]
  },
  {
   "cell_type": "code",
   "execution_count": 2,
   "metadata": {},
   "outputs": [],
   "source": [
    "import re\n",
    "\n",
    "blank_line_regex = r\"(?:\\r?\\n){2,}\"\n",
    "pages_per_text = list(map(lambda l: re.split(blank_line_regex, l.strip()), texts))\n",
    "\n",
    "cleaned_pages_per_text = []\n",
    "for pages in pages_per_text:\n",
    "  # ASCII characters only\n",
    "  cleaned = [ re.sub('[^A-Za-z0-9 ]+', '', page) for page in pages ]\n",
    "\n",
    "  # Replace multiple spaces by one\n",
    "  cleand = [ re.sub('\\\\s+', ' ', page) for page in cleaned ]\n",
    "\n",
    "  # Remove empty pages\n",
    "  cleaned = [ p.strip() for p in cleaned if len(p.strip()) > 0 ]\n",
    "\n",
    "  cleaned_pages_per_text.append(cleaned)"
   ]
  },
  {
   "cell_type": "code",
   "execution_count": 4,
   "metadata": {},
   "outputs": [
    {
     "data": {
      "image/png": "[encoded data removed]",
      "text/plain": "<Figure size 432x288 with 1 Axes>"
     },
     "metadata": {},
     "output_type": "display_data"
    }
   ],
   "source": [
    "import matplotlib.pyplot as plt\n",
    "\n",
    "# Keep a record of pages per text\n",
    "page_lengths = [ len(pages) for pages in cleaned_pages_per_text ]\n",
    "\n",
    "plt.hist(page_lengths, bins=30, rwidth=0.85)\n",
    "plt.show()"
   ]
  },
  {
   "cell_type": "code",
   "execution_count": 5,
   "metadata": {},
   "outputs": [
    {
     "data": {
      "text/plain": "'Built LSH index for 372136 pages'"
     },
     "execution_count": 5,
     "metadata": {},
     "output_type": "execute_result"
    }
   ],
   "source": [
    "from datasketch import MinHashLSH\n",
    "from util.text import Text\n",
    "import pickle\n",
    "\n",
    "# 'Text' minhash helper objects\n",
    "texts = []\n",
    "\n",
    "for text_idx, text in enumerate(cleaned_pages_per_text):\n",
    "  for page_idx, page in enumerate(text):\n",
    "    texts.append(Text(text_idx, page_idx, page))\n",
    "\n",
    "lsh = MinHashLSH(threshold=0.8, num_perm=128)\n",
    "\n",
    "for t in texts:\n",
    "  lsh.insert(t.id(), t.minhash())\n",
    "\n",
    "f'Built LSH index for {len(texts)} pages'"
   ]
  },
  {
   "cell_type": "code",
   "execution_count": 6,
   "metadata": {},
   "outputs": [],
   "source": [
    "# Save for later (computation takes a lot of time...)\n",
    "pickle.dump(lsh, open('./lsh-18c.bin', 'wb'))"
   ]
  },
  {
   "cell_type": "code",
   "execution_count": 7,
   "metadata": {},
   "outputs": [],
   "source": [
    "neighbour_pairs = []\n",
    "\n",
    "for t in texts:\n",
    "  result = lsh.query(t.minhash())\n",
    "\n",
    "  # Result will always contain the message itself - remove\n",
    "  result = [r for r in result if r != t.id()]\n",
    "\n",
    "  for neighbour in result:\n",
    "    neighbour_pairs.append([ t.id(), neighbour ])"
   ]
  },
  {
   "cell_type": "markdown",
   "metadata": {},
   "source": [
    "Now aggregate the page-level results to a simple book-level \"score\", where the score is simply\n",
    "the number of identified pairs above the LSH threshold. "
   ]
  },
  {
   "cell_type": "code",
   "execution_count": 8,
   "metadata": {},
   "outputs": [
    {
     "data": {
      "text/html": "<div>\n<style scoped>\n    .dataframe tbody tr th:only-of-type {\n        vertical-align: middle;\n    }\n\n    .dataframe tbody tr th {\n        vertical-align: top;\n    }\n\n    .dataframe thead th {\n        text-align: right;\n    }\n</style>\n<table border=\"1\" class=\"dataframe\">\n  <thead>\n    <tr style=\"text-align: right;\">\n      <th></th>\n      <th>a</th>\n      <th>b</th>\n      <th>num_pairs</th>\n      <th>normalized</th>\n      <th>url_a</th>\n      <th>url_b</th>\n    </tr>\n  </thead>\n  <tbody>\n    <tr>\n      <th>0</th>\n      <td>Z170966901</td>\n      <td>Z185987803</td>\n      <td>120130</td>\n      <td>28.087444</td>\n      <td>http://data.onb.ac.at/ABO/+Z170966901</td>\n      <td>http://data.onb.ac.at/ABO/+Z185987803</td>\n    </tr>\n    <tr>\n      <th>1</th>\n      <td>Z220632607</td>\n      <td>Z185987803</td>\n      <td>48052</td>\n      <td>31.592373</td>\n      <td>http://data.onb.ac.at/ABO/+Z220632607</td>\n      <td>http://data.onb.ac.at/ABO/+Z185987803</td>\n    </tr>\n    <tr>\n      <th>2</th>\n      <td>Z220632607</td>\n      <td>Z170966901</td>\n      <td>33620</td>\n      <td>8.589678</td>\n      <td>http://data.onb.ac.at/ABO/+Z220632607</td>\n      <td>http://data.onb.ac.at/ABO/+Z170966901</td>\n    </tr>\n    <tr>\n      <th>3</th>\n      <td>Z185987803</td>\n      <td>Z183303303</td>\n      <td>26956</td>\n      <td>17.469864</td>\n      <td>http://data.onb.ac.at/ABO/+Z185987803</td>\n      <td>http://data.onb.ac.at/ABO/+Z183303303</td>\n    </tr>\n    <tr>\n      <th>4</th>\n      <td>Z205034809</td>\n      <td>Z185987803</td>\n      <td>24612</td>\n      <td>13.742044</td>\n      <td>http://data.onb.ac.at/ABO/+Z205034809</td>\n      <td>http://data.onb.ac.at/ABO/+Z185987803</td>\n    </tr>\n    <tr>\n      <th>5</th>\n      <td>Z185987803</td>\n      <td>Z155915609</td>\n      <td>22268</td>\n      <td>11.813263</td>\n      <td>http://data.onb.ac.at/ABO/+Z185987803</td>\n      <td>http://data.onb.ac.at/ABO/+Z155915609</td>\n    </tr>\n    <tr>\n      <th>6</th>\n      <td>Z185987803</td>\n      <td>Z124124003</td>\n      <td>20510</td>\n      <td>8.832903</td>\n      <td>http://data.onb.ac.at/ABO/+Z185987803</td>\n      <td>http://data.onb.ac.at/ABO/+Z124124003</td>\n    </tr>\n    <tr>\n      <th>7</th>\n      <td>Z185987803</td>\n      <td>Z179802305</td>\n      <td>20510</td>\n      <td>16.149606</td>\n      <td>http://data.onb.ac.at/ABO/+Z185987803</td>\n      <td>http://data.onb.ac.at/ABO/+Z179802305</td>\n    </tr>\n    <tr>\n      <th>8</th>\n      <td>Z185987803</td>\n      <td>Z167242801</td>\n      <td>19924</td>\n      <td>15.468944</td>\n      <td>http://data.onb.ac.at/ABO/+Z185987803</td>\n      <td>http://data.onb.ac.at/ABO/+Z167242801</td>\n    </tr>\n    <tr>\n      <th>9</th>\n      <td>Z170966901</td>\n      <td>Z183303303</td>\n      <td>18860</td>\n      <td>4.791667</td>\n      <td>http://data.onb.ac.at/ABO/+Z170966901</td>\n      <td>http://data.onb.ac.at/ABO/+Z183303303</td>\n    </tr>\n    <tr>\n      <th>10</th>\n      <td>Z183863400</td>\n      <td>Z185987803</td>\n      <td>18752</td>\n      <td>14.684417</td>\n      <td>http://data.onb.ac.at/ABO/+Z183863400</td>\n      <td>http://data.onb.ac.at/ABO/+Z185987803</td>\n    </tr>\n    <tr>\n      <th>11</th>\n      <td>Z205034809</td>\n      <td>Z170966901</td>\n      <td>17220</td>\n      <td>4.115679</td>\n      <td>http://data.onb.ac.at/ABO/+Z205034809</td>\n      <td>http://data.onb.ac.at/ABO/+Z170966901</td>\n    </tr>\n    <tr>\n      <th>12</th>\n      <td>Z171240107</td>\n      <td>Z185987803</td>\n      <td>16994</td>\n      <td>10.762508</td>\n      <td>http://data.onb.ac.at/ABO/+Z171240107</td>\n      <td>http://data.onb.ac.at/ABO/+Z185987803</td>\n    </tr>\n    <tr>\n      <th>13</th>\n      <td>Z185987803</td>\n      <td>Z173325402</td>\n      <td>16408</td>\n      <td>11.898477</td>\n      <td>http://data.onb.ac.at/ABO/+Z185987803</td>\n      <td>http://data.onb.ac.at/ABO/+Z173325402</td>\n    </tr>\n    <tr>\n      <th>14</th>\n      <td>Z170966901</td>\n      <td>Z155915609</td>\n      <td>15580</td>\n      <td>3.641889</td>\n      <td>http://data.onb.ac.at/ABO/+Z170966901</td>\n      <td>http://data.onb.ac.at/ABO/+Z155915609</td>\n    </tr>\n    <tr>\n      <th>15</th>\n      <td>Z185987803</td>\n      <td>Z258871901</td>\n      <td>15236</td>\n      <td>10.083388</td>\n      <td>http://data.onb.ac.at/ABO/+Z185987803</td>\n      <td>http://data.onb.ac.at/ABO/+Z258871901</td>\n    </tr>\n    <tr>\n      <th>16</th>\n      <td>Z185987803</td>\n      <td>Z159587704</td>\n      <td>14650</td>\n      <td>7.077295</td>\n      <td>http://data.onb.ac.at/ABO/+Z185987803</td>\n      <td>http://data.onb.ac.at/ABO/+Z159587704</td>\n    </tr>\n    <tr>\n      <th>17</th>\n      <td>Z170966901</td>\n      <td>Z124124003</td>\n      <td>14350</td>\n      <td>3.043478</td>\n      <td>http://data.onb.ac.at/ABO/+Z170966901</td>\n      <td>http://data.onb.ac.at/ABO/+Z124124003</td>\n    </tr>\n    <tr>\n      <th>18</th>\n      <td>Z170966901</td>\n      <td>Z179802305</td>\n      <td>14350</td>\n      <td>3.917554</td>\n      <td>http://data.onb.ac.at/ABO/+Z170966901</td>\n      <td>http://data.onb.ac.at/ABO/+Z179802305</td>\n    </tr>\n    <tr>\n      <th>19</th>\n      <td>Z156323209</td>\n      <td>Z185987803</td>\n      <td>14064</td>\n      <td>8.009112</td>\n      <td>http://data.onb.ac.at/ABO/+Z156323209</td>\n      <td>http://data.onb.ac.at/ABO/+Z185987803</td>\n    </tr>\n    <tr>\n      <th>20</th>\n      <td>Z170966901</td>\n      <td>Z167242801</td>\n      <td>13940</td>\n      <td>3.787014</td>\n      <td>http://data.onb.ac.at/ABO/+Z170966901</td>\n      <td>http://data.onb.ac.at/ABO/+Z167242801</td>\n    </tr>\n    <tr>\n      <th>21</th>\n      <td>Z155500409</td>\n      <td>Z185987803</td>\n      <td>13478</td>\n      <td>11.422034</td>\n      <td>http://data.onb.ac.at/ABO/+Z155500409</td>\n      <td>http://data.onb.ac.at/ABO/+Z185987803</td>\n    </tr>\n    <tr>\n      <th>22</th>\n      <td>Z185987803</td>\n      <td>Z177002401</td>\n      <td>13478</td>\n      <td>9.606557</td>\n      <td>http://data.onb.ac.at/ABO/+Z185987803</td>\n      <td>http://data.onb.ac.at/ABO/+Z177002401</td>\n    </tr>\n    <tr>\n      <th>23</th>\n      <td>Z183863400</td>\n      <td>Z170966901</td>\n      <td>13120</td>\n      <td>3.574932</td>\n      <td>http://data.onb.ac.at/ABO/+Z183863400</td>\n      <td>http://data.onb.ac.at/ABO/+Z170966901</td>\n    </tr>\n    <tr>\n      <th>24</th>\n      <td>Z171240107</td>\n      <td>Z170966901</td>\n      <td>11890</td>\n      <td>2.993454</td>\n      <td>http://data.onb.ac.at/ABO/+Z171240107</td>\n      <td>http://data.onb.ac.at/ABO/+Z170966901</td>\n    </tr>\n    <tr>\n      <th>25</th>\n      <td>Z185987803</td>\n      <td>Z17842330X</td>\n      <td>11720</td>\n      <td>5.222816</td>\n      <td>http://data.onb.ac.at/ABO/+Z185987803</td>\n      <td>http://data.onb.ac.at/ABO/+Z17842330X</td>\n    </tr>\n    <tr>\n      <th>26</th>\n      <td>Z170966901</td>\n      <td>Z173325402</td>\n      <td>11480</td>\n      <td>3.043478</td>\n      <td>http://data.onb.ac.at/ABO/+Z170966901</td>\n      <td>http://data.onb.ac.at/ABO/+Z173325402</td>\n    </tr>\n    <tr>\n      <th>27</th>\n      <td>Z170966901</td>\n      <td>Z258871901</td>\n      <td>10660</td>\n      <td>2.730533</td>\n      <td>http://data.onb.ac.at/ABO/+Z170966901</td>\n      <td>http://data.onb.ac.at/ABO/+Z258871901</td>\n    </tr>\n    <tr>\n      <th>28</th>\n      <td>Z98087908</td>\n      <td>Z185987803</td>\n      <td>10548</td>\n      <td>6.338942</td>\n      <td>http://data.onb.ac.at/ABO/+Z98087908</td>\n      <td>http://data.onb.ac.at/ABO/+Z185987803</td>\n    </tr>\n    <tr>\n      <th>29</th>\n      <td>Z124105409</td>\n      <td>Z185987803</td>\n      <td>10548</td>\n      <td>7.491477</td>\n      <td>http://data.onb.ac.at/ABO/+Z124105409</td>\n      <td>http://data.onb.ac.at/ABO/+Z185987803</td>\n    </tr>\n    <tr>\n      <th>...</th>\n      <td>...</td>\n      <td>...</td>\n      <td>...</td>\n      <td>...</td>\n      <td>...</td>\n      <td>...</td>\n    </tr>\n    <tr>\n      <th>332291</th>\n      <td>Z156724800</td>\n      <td>Z259211404</td>\n      <td>2</td>\n      <td>0.004320</td>\n      <td>http://data.onb.ac.at/ABO/+Z156724800</td>\n      <td>http://data.onb.ac.at/ABO/+Z259211404</td>\n    </tr>\n    <tr>\n      <th>332292</th>\n      <td>Z161834706</td>\n      <td>Z203132002</td>\n      <td>2</td>\n      <td>0.003591</td>\n      <td>http://data.onb.ac.at/ABO/+Z161834706</td>\n      <td>http://data.onb.ac.at/ABO/+Z203132002</td>\n    </tr>\n    <tr>\n      <th>332293</th>\n      <td>Z161834706</td>\n      <td>Z181145007</td>\n      <td>2</td>\n      <td>0.003425</td>\n      <td>http://data.onb.ac.at/ABO/+Z161834706</td>\n      <td>http://data.onb.ac.at/ABO/+Z181145007</td>\n    </tr>\n    <tr>\n      <th>332294</th>\n      <td>Z161834706</td>\n      <td>Z207231801</td>\n      <td>2</td>\n      <td>0.002372</td>\n      <td>http://data.onb.ac.at/ABO/+Z161834706</td>\n      <td>http://data.onb.ac.at/ABO/+Z207231801</td>\n    </tr>\n    <tr>\n      <th>332295</th>\n      <td>Z161834706</td>\n      <td>Z206564302</td>\n      <td>2</td>\n      <td>0.002789</td>\n      <td>http://data.onb.ac.at/ABO/+Z161834706</td>\n      <td>http://data.onb.ac.at/ABO/+Z206564302</td>\n    </tr>\n    <tr>\n      <th>332296</th>\n      <td>Z161834706</td>\n      <td>Z158141706</td>\n      <td>2</td>\n      <td>0.003322</td>\n      <td>http://data.onb.ac.at/ABO/+Z161834706</td>\n      <td>http://data.onb.ac.at/ABO/+Z158141706</td>\n    </tr>\n    <tr>\n      <th>332297</th>\n      <td>Z161834706</td>\n      <td>Z98088305</td>\n      <td>2</td>\n      <td>0.001857</td>\n      <td>http://data.onb.ac.at/ABO/+Z161834706</td>\n      <td>http://data.onb.ac.at/ABO/+Z98088305</td>\n    </tr>\n    <tr>\n      <th>332298</th>\n      <td>Z161834706</td>\n      <td>Z221543606</td>\n      <td>2</td>\n      <td>0.003565</td>\n      <td>http://data.onb.ac.at/ABO/+Z161834706</td>\n      <td>http://data.onb.ac.at/ABO/+Z221543606</td>\n    </tr>\n    <tr>\n      <th>332299</th>\n      <td>Z221543606</td>\n      <td>Z203132002</td>\n      <td>2</td>\n      <td>0.007353</td>\n      <td>http://data.onb.ac.at/ABO/+Z221543606</td>\n      <td>http://data.onb.ac.at/ABO/+Z203132002</td>\n    </tr>\n    <tr>\n      <th>332300</th>\n      <td>Z221543606</td>\n      <td>Z181145007</td>\n      <td>2</td>\n      <td>0.006689</td>\n      <td>http://data.onb.ac.at/ABO/+Z221543606</td>\n      <td>http://data.onb.ac.at/ABO/+Z181145007</td>\n    </tr>\n    <tr>\n      <th>332301</th>\n      <td>Z221543606</td>\n      <td>Z207231801</td>\n      <td>2</td>\n      <td>0.003584</td>\n      <td>http://data.onb.ac.at/ABO/+Z221543606</td>\n      <td>http://data.onb.ac.at/ABO/+Z207231801</td>\n    </tr>\n    <tr>\n      <th>332302</th>\n      <td>Z221543606</td>\n      <td>Z206564302</td>\n      <td>2</td>\n      <td>0.004630</td>\n      <td>http://data.onb.ac.at/ABO/+Z221543606</td>\n      <td>http://data.onb.ac.at/ABO/+Z206564302</td>\n    </tr>\n    <tr>\n      <th>332303</th>\n      <td>Z221543606</td>\n      <td>Z158141706</td>\n      <td>2</td>\n      <td>0.006309</td>\n      <td>http://data.onb.ac.at/ABO/+Z221543606</td>\n      <td>http://data.onb.ac.at/ABO/+Z158141706</td>\n    </tr>\n    <tr>\n      <th>332304</th>\n      <td>Z221543606</td>\n      <td>Z98088305</td>\n      <td>2</td>\n      <td>0.002525</td>\n      <td>http://data.onb.ac.at/ABO/+Z221543606</td>\n      <td>http://data.onb.ac.at/ABO/+Z98088305</td>\n    </tr>\n    <tr>\n      <th>332305</th>\n      <td>Z203132002</td>\n      <td>Z181145007</td>\n      <td>2</td>\n      <td>0.006780</td>\n      <td>http://data.onb.ac.at/ABO/+Z203132002</td>\n      <td>http://data.onb.ac.at/ABO/+Z181145007</td>\n    </tr>\n    <tr>\n      <th>332306</th>\n      <td>Z203132002</td>\n      <td>Z207231801</td>\n      <td>2</td>\n      <td>0.003610</td>\n      <td>http://data.onb.ac.at/ABO/+Z203132002</td>\n      <td>http://data.onb.ac.at/ABO/+Z207231801</td>\n    </tr>\n    <tr>\n      <th>332307</th>\n      <td>Z203132002</td>\n      <td>Z206564302</td>\n      <td>2</td>\n      <td>0.004673</td>\n      <td>http://data.onb.ac.at/ABO/+Z203132002</td>\n      <td>http://data.onb.ac.at/ABO/+Z206564302</td>\n    </tr>\n    <tr>\n      <th>332308</th>\n      <td>Z203132002</td>\n      <td>Z158141706</td>\n      <td>2</td>\n      <td>0.006390</td>\n      <td>http://data.onb.ac.at/ABO/+Z203132002</td>\n      <td>http://data.onb.ac.at/ABO/+Z158141706</td>\n    </tr>\n    <tr>\n      <th>332309</th>\n      <td>Z203132002</td>\n      <td>Z98088305</td>\n      <td>2</td>\n      <td>0.002538</td>\n      <td>http://data.onb.ac.at/ABO/+Z203132002</td>\n      <td>http://data.onb.ac.at/ABO/+Z98088305</td>\n    </tr>\n    <tr>\n      <th>332310</th>\n      <td>Z181145007</td>\n      <td>Z207231801</td>\n      <td>2</td>\n      <td>0.003442</td>\n      <td>http://data.onb.ac.at/ABO/+Z181145007</td>\n      <td>http://data.onb.ac.at/ABO/+Z207231801</td>\n    </tr>\n    <tr>\n      <th>332311</th>\n      <td>Z181145007</td>\n      <td>Z206564302</td>\n      <td>2</td>\n      <td>0.004396</td>\n      <td>http://data.onb.ac.at/ABO/+Z181145007</td>\n      <td>http://data.onb.ac.at/ABO/+Z206564302</td>\n    </tr>\n    <tr>\n      <th>332312</th>\n      <td>Z181145007</td>\n      <td>Z158141706</td>\n      <td>2</td>\n      <td>0.005882</td>\n      <td>http://data.onb.ac.at/ABO/+Z181145007</td>\n      <td>http://data.onb.ac.at/ABO/+Z158141706</td>\n    </tr>\n    <tr>\n      <th>332313</th>\n      <td>Z181145007</td>\n      <td>Z98088305</td>\n      <td>2</td>\n      <td>0.002454</td>\n      <td>http://data.onb.ac.at/ABO/+Z181145007</td>\n      <td>http://data.onb.ac.at/ABO/+Z98088305</td>\n    </tr>\n    <tr>\n      <th>332314</th>\n      <td>Z17104110X</td>\n      <td>Z17700950X</td>\n      <td>2</td>\n      <td>0.003356</td>\n      <td>http://data.onb.ac.at/ABO/+Z17104110X</td>\n      <td>http://data.onb.ac.at/ABO/+Z17700950X</td>\n    </tr>\n    <tr>\n      <th>332315</th>\n      <td>Z206564302</td>\n      <td>Z207231801</td>\n      <td>2</td>\n      <td>0.002801</td>\n      <td>http://data.onb.ac.at/ABO/+Z206564302</td>\n      <td>http://data.onb.ac.at/ABO/+Z207231801</td>\n    </tr>\n    <tr>\n      <th>332316</th>\n      <td>Z206564302</td>\n      <td>Z158141706</td>\n      <td>2</td>\n      <td>0.004228</td>\n      <td>http://data.onb.ac.at/ABO/+Z206564302</td>\n      <td>http://data.onb.ac.at/ABO/+Z158141706</td>\n    </tr>\n    <tr>\n      <th>332317</th>\n      <td>Z206564302</td>\n      <td>Z98088305</td>\n      <td>2</td>\n      <td>0.002110</td>\n      <td>http://data.onb.ac.at/ABO/+Z206564302</td>\n      <td>http://data.onb.ac.at/ABO/+Z98088305</td>\n    </tr>\n    <tr>\n      <th>332318</th>\n      <td>Z98088305</td>\n      <td>Z207231801</td>\n      <td>2</td>\n      <td>0.001862</td>\n      <td>http://data.onb.ac.at/ABO/+Z98088305</td>\n      <td>http://data.onb.ac.at/ABO/+Z207231801</td>\n    </tr>\n    <tr>\n      <th>332319</th>\n      <td>Z98088305</td>\n      <td>Z158141706</td>\n      <td>2</td>\n      <td>0.002401</td>\n      <td>http://data.onb.ac.at/ABO/+Z98088305</td>\n      <td>http://data.onb.ac.at/ABO/+Z158141706</td>\n    </tr>\n    <tr>\n      <th>332320</th>\n      <td>Z158141706</td>\n      <td>Z207231801</td>\n      <td>2</td>\n      <td>0.003339</td>\n      <td>http://data.onb.ac.at/ABO/+Z158141706</td>\n      <td>http://data.onb.ac.at/ABO/+Z207231801</td>\n    </tr>\n  </tbody>\n</table>\n<p>332321 rows × 6 columns</p>\n</div>",
      "text/plain": "                 a           b  num_pairs  normalized  \\\n0       Z170966901  Z185987803     120130   28.087444   \n1       Z220632607  Z185987803      48052   31.592373   \n2       Z220632607  Z170966901      33620    8.589678   \n3       Z185987803  Z183303303      26956   17.469864   \n4       Z205034809  Z185987803      24612   13.742044   \n5       Z185987803  Z155915609      22268   11.813263   \n6       Z185987803  Z124124003      20510    8.832903   \n7       Z185987803  Z179802305      20510   16.149606   \n8       Z185987803  Z167242801      19924   15.468944   \n9       Z170966901  Z183303303      18860    4.791667   \n10      Z183863400  Z185987803      18752   14.684417   \n11      Z205034809  Z170966901      17220    4.115679   \n12      Z171240107  Z185987803      16994   10.762508   \n13      Z185987803  Z173325402      16408   11.898477   \n14      Z170966901  Z155915609      15580    3.641889   \n15      Z185987803  Z258871901      15236   10.083388   \n16      Z185987803  Z159587704      14650    7.077295   \n17      Z170966901  Z124124003      14350    3.043478   \n18      Z170966901  Z179802305      14350    3.917554   \n19      Z156323209  Z185987803      14064    8.009112   \n20      Z170966901  Z167242801      13940    3.787014   \n21      Z155500409  Z185987803      13478   11.422034   \n22      Z185987803  Z177002401      13478    9.606557   \n23      Z183863400  Z170966901      13120    3.574932   \n24      Z171240107  Z170966901      11890    2.993454   \n25      Z185987803  Z17842330X      11720    5.222816   \n26      Z170966901  Z173325402      11480    3.043478   \n27      Z170966901  Z258871901      10660    2.730533   \n28       Z98087908  Z185987803      10548    6.338942   \n29      Z124105409  Z185987803      10548    7.491477   \n...            ...         ...        ...         ...   \n332291  Z156724800  Z259211404          2    0.004320   \n332292  Z161834706  Z203132002          2    0.003591   \n332293  Z161834706  Z181145007          2    0.003425   \n332294  Z161834706  Z207231801          2    0.002372   \n332295  Z161834706  Z206564302          2    0.002789   \n332296  Z161834706  Z158141706          2    0.003322   \n332297  Z161834706   Z98088305          2    0.001857   \n332298  Z161834706  Z221543606          2    0.003565   \n332299  Z221543606  Z203132002          2    0.007353   \n332300  Z221543606  Z181145007          2    0.006689   \n332301  Z221543606  Z207231801          2    0.003584   \n332302  Z221543606  Z206564302          2    0.004630   \n332303  Z221543606  Z158141706          2    0.006309   \n332304  Z221543606   Z98088305          2    0.002525   \n332305  Z203132002  Z181145007          2    0.006780   \n332306  Z203132002  Z207231801          2    0.003610   \n332307  Z203132002  Z206564302          2    0.004673   \n332308  Z203132002  Z158141706          2    0.006390   \n332309  Z203132002   Z98088305          2    0.002538   \n332310  Z181145007  Z207231801          2    0.003442   \n332311  Z181145007  Z206564302          2    0.004396   \n332312  Z181145007  Z158141706          2    0.005882   \n332313  Z181145007   Z98088305          2    0.002454   \n332314  Z17104110X  Z17700950X          2    0.003356   \n332315  Z206564302  Z207231801          2    0.002801   \n332316  Z206564302  Z158141706          2    0.004228   \n332317  Z206564302   Z98088305          2    0.002110   \n332318   Z98088305  Z207231801          2    0.001862   \n332319   Z98088305  Z158141706          2    0.002401   \n332320  Z158141706  Z207231801          2    0.003339   \n\n                                        url_a  \\\n0       http://data.onb.ac.at/ABO/+Z170966901   \n1       http://data.onb.ac.at/ABO/+Z220632607   \n2       http://data.onb.ac.at/ABO/+Z220632607   \n3       http://data.onb.ac.at/ABO/+Z185987803   \n4       http://data.onb.ac.at/ABO/+Z205034809   \n5       http://data.onb.ac.at/ABO/+Z185987803   \n6       http://data.onb.ac.at/ABO/+Z185987803   \n7       http://data.onb.ac.at/ABO/+Z185987803   \n8       http://data.onb.ac.at/ABO/+Z185987803   \n9       http://data.onb.ac.at/ABO/+Z170966901   \n10      http://data.onb.ac.at/ABO/+Z183863400   \n11      http://data.onb.ac.at/ABO/+Z205034809   \n12      http://data.onb.ac.at/ABO/+Z171240107   \n13      http://data.onb.ac.at/ABO/+Z185987803   \n14      http://data.onb.ac.at/ABO/+Z170966901   \n15      http://data.onb.ac.at/ABO/+Z185987803   \n16      http://data.onb.ac.at/ABO/+Z185987803   \n17      http://data.onb.ac.at/ABO/+Z170966901   \n18      http://data.onb.ac.at/ABO/+Z170966901   \n19      http://data.onb.ac.at/ABO/+Z156323209   \n20      http://data.onb.ac.at/ABO/+Z170966901   \n21      http://data.onb.ac.at/ABO/+Z155500409   \n22      http://data.onb.ac.at/ABO/+Z185987803   \n23      http://data.onb.ac.at/ABO/+Z183863400   \n24      http://data.onb.ac.at/ABO/+Z171240107   \n25      http://data.onb.ac.at/ABO/+Z185987803   \n26      http://data.onb.ac.at/ABO/+Z170966901   \n27      http://data.onb.ac.at/ABO/+Z170966901   \n28       http://data.onb.ac.at/ABO/+Z98087908   \n29      http://data.onb.ac.at/ABO/+Z124105409   \n...                                       ...   \n332291  http://data.onb.ac.at/ABO/+Z156724800   \n332292  http://data.onb.ac.at/ABO/+Z161834706   \n332293  http://data.onb.ac.at/ABO/+Z161834706   \n332294  http://data.onb.ac.at/ABO/+Z161834706   \n332295  http://data.onb.ac.at/ABO/+Z161834706   \n332296  http://data.onb.ac.at/ABO/+Z161834706   \n332297  http://data.onb.ac.at/ABO/+Z161834706   \n332298  http://data.onb.ac.at/ABO/+Z161834706   \n332299  http://data.onb.ac.at/ABO/+Z221543606   \n332300  http://data.onb.ac.at/ABO/+Z221543606   \n332301  http://data.onb.ac.at/ABO/+Z221543606   \n332302  http://data.onb.ac.at/ABO/+Z221543606   \n332303  http://data.onb.ac.at/ABO/+Z221543606   \n332304  http://data.onb.ac.at/ABO/+Z221543606   \n332305  http://data.onb.ac.at/ABO/+Z203132002   \n332306  http://data.onb.ac.at/ABO/+Z203132002   \n332307  http://data.onb.ac.at/ABO/+Z203132002   \n332308  http://data.onb.ac.at/ABO/+Z203132002   \n332309  http://data.onb.ac.at/ABO/+Z203132002   \n332310  http://data.onb.ac.at/ABO/+Z181145007   \n332311  http://data.onb.ac.at/ABO/+Z181145007   \n332312  http://data.onb.ac.at/ABO/+Z181145007   \n332313  http://data.onb.ac.at/ABO/+Z181145007   \n332314  http://data.onb.ac.at/ABO/+Z17104110X   \n332315  http://data.onb.ac.at/ABO/+Z206564302   \n332316  http://data.onb.ac.at/ABO/+Z206564302   \n332317  http://data.onb.ac.at/ABO/+Z206564302   \n332318   http://data.onb.ac.at/ABO/+Z98088305   \n332319   http://data.onb.ac.at/ABO/+Z98088305   \n332320  http://data.onb.ac.at/ABO/+Z158141706   \n\n                                        url_b  \n0       http://data.onb.ac.at/ABO/+Z185987803  \n1       http://data.onb.ac.at/ABO/+Z185987803  \n2       http://data.onb.ac.at/ABO/+Z170966901  \n3       http://data.onb.ac.at/ABO/+Z183303303  \n4       http://data.onb.ac.at/ABO/+Z185987803  \n5       http://data.onb.ac.at/ABO/+Z155915609  \n6       http://data.onb.ac.at/ABO/+Z124124003  \n7       http://data.onb.ac.at/ABO/+Z179802305  \n8       http://data.onb.ac.at/ABO/+Z167242801  \n9       http://data.onb.ac.at/ABO/+Z183303303  \n10      http://data.onb.ac.at/ABO/+Z185987803  \n11      http://data.onb.ac.at/ABO/+Z170966901  \n12      http://data.onb.ac.at/ABO/+Z185987803  \n13      http://data.onb.ac.at/ABO/+Z173325402  \n14      http://data.onb.ac.at/ABO/+Z155915609  \n15      http://data.onb.ac.at/ABO/+Z258871901  \n16      http://data.onb.ac.at/ABO/+Z159587704  \n17      http://data.onb.ac.at/ABO/+Z124124003  \n18      http://data.onb.ac.at/ABO/+Z179802305  \n19      http://data.onb.ac.at/ABO/+Z185987803  \n20      http://data.onb.ac.at/ABO/+Z167242801  \n21      http://data.onb.ac.at/ABO/+Z185987803  \n22      http://data.onb.ac.at/ABO/+Z177002401  \n23      http://data.onb.ac.at/ABO/+Z170966901  \n24      http://data.onb.ac.at/ABO/+Z170966901  \n25      http://data.onb.ac.at/ABO/+Z17842330X  \n26      http://data.onb.ac.at/ABO/+Z173325402  \n27      http://data.onb.ac.at/ABO/+Z258871901  \n28      http://data.onb.ac.at/ABO/+Z185987803  \n29      http://data.onb.ac.at/ABO/+Z185987803  \n...                                       ...  \n332291  http://data.onb.ac.at/ABO/+Z259211404  \n332292  http://data.onb.ac.at/ABO/+Z203132002  \n332293  http://data.onb.ac.at/ABO/+Z181145007  \n332294  http://data.onb.ac.at/ABO/+Z207231801  \n332295  http://data.onb.ac.at/ABO/+Z206564302  \n332296  http://data.onb.ac.at/ABO/+Z158141706  \n332297   http://data.onb.ac.at/ABO/+Z98088305  \n332298  http://data.onb.ac.at/ABO/+Z221543606  \n332299  http://data.onb.ac.at/ABO/+Z203132002  \n332300  http://data.onb.ac.at/ABO/+Z181145007  \n332301  http://data.onb.ac.at/ABO/+Z207231801  \n332302  http://data.onb.ac.at/ABO/+Z206564302  \n332303  http://data.onb.ac.at/ABO/+Z158141706  \n332304   http://data.onb.ac.at/ABO/+Z98088305  \n332305  http://data.onb.ac.at/ABO/+Z181145007  \n332306  http://data.onb.ac.at/ABO/+Z207231801  \n332307  http://data.onb.ac.at/ABO/+Z206564302  \n332308  http://data.onb.ac.at/ABO/+Z158141706  \n332309   http://data.onb.ac.at/ABO/+Z98088305  \n332310  http://data.onb.ac.at/ABO/+Z207231801  \n332311  http://data.onb.ac.at/ABO/+Z206564302  \n332312  http://data.onb.ac.at/ABO/+Z158141706  \n332313   http://data.onb.ac.at/ABO/+Z98088305  \n332314  http://data.onb.ac.at/ABO/+Z17700950X  \n332315  http://data.onb.ac.at/ABO/+Z207231801  \n332316  http://data.onb.ac.at/ABO/+Z158141706  \n332317   http://data.onb.ac.at/ABO/+Z98088305  \n332318  http://data.onb.ac.at/ABO/+Z207231801  \n332319  http://data.onb.ac.at/ABO/+Z158141706  \n332320  http://data.onb.ac.at/ABO/+Z207231801  \n\n[332321 rows x 6 columns]"
     },
     "execution_count": 8,
     "metadata": {},
     "output_type": "execute_result"
    }
   ],
   "source": [
    "import pandas as pd \n",
    "\n",
    "def to_barcode(filename):\n",
    "  return filename[filename.rindex('/') + 1: -4]\n",
    "\n",
    "as_dict = {}\n",
    "\n",
    "for pair in neighbour_pairs:\n",
    "  from_book = int(pair[0].split(',')[0])\n",
    "  to_book = int(pair[1].split(',')[0])\n",
    "\n",
    "  if (from_book != to_book):\n",
    "    # Key is always from lower idx to higher idx\n",
    "    key = f'{from_book},{to_book}' if from_book < to_book else f'{to_book},{from_book}'\n",
    "\n",
    "    if key in as_dict:\n",
    "      as_dict[key] = as_dict[key] + 1\n",
    "    else:\n",
    "      as_dict[key] = 1\n",
    "\n",
    "as_list = []\n",
    "for key in as_dict.keys():\n",
    "  indexes = key.split(',')\n",
    "\n",
    "  idx_a = int(indexes[0])\n",
    "  idx_b = int(indexes[1])\n",
    "\n",
    "  file_a = to_barcode(filenames[idx_a])\n",
    "  file_b = to_barcode(filenames[idx_b])\n",
    "\n",
    "  url_a = f'http://data.onb.ac.at/ABO/+{file_a}'\n",
    "  url_b = f'http://data.onb.ac.at/ABO/+{file_b}'\n",
    "\n",
    "  score = as_dict[key]\n",
    "\n",
    "  normalized = score / (page_lengths[idx_a] + page_lengths[idx_b])\n",
    "\n",
    "  as_list.append([ file_a, file_b, score, normalized, url_a, url_b ])\n",
    "\n",
    "as_list = sorted(as_list, key = lambda x: -x[2])\n",
    "\n",
    "# This data frame now contains book indices and score\n",
    "df = pd.DataFrame(as_list, columns=['a', 'b', 'num_pairs', 'normalized', 'url_a', 'url_b'])\n",
    "df"
   ]
  },
  {
   "cell_type": "code",
   "execution_count": 9,
   "metadata": {},
   "outputs": [],
   "source": [
    "df.to_csv('../../results/similarity_lsh_pagewise18.csv', index=False)"
   ]
  },
  {
   "cell_type": "code",
   "execution_count": null,
   "metadata": {},
   "outputs": [],
   "source": []
  }
 ]
}