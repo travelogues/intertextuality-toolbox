{
 "nbformat": 4,
 "nbformat_minor": 2,
 "metadata": {
  "language_info": {
   "name": "python",
   "codemirror_mode": {
    "name": "ipython",
    "version": 3
   },
   "version": "3.6.5-final"
  },
  "orig_nbformat": 2,
  "file_extension": ".py",
  "mimetype": "text/x-python",
  "name": "python",
  "npconvert_exporter": "python",
  "pygments_lexer": "ipython3",
  "version": 3,
  "kernelspec": {
   "name": "python3",
   "display_name": "Python 3"
  }
 },
 "cells": [
  {
   "cell_type": "markdown",
   "metadata": {},
   "source": [
    "# Compute Page-Wise N-GRAM Similarity\n",
    "\n",
    "This notebook computes n-gram similarity, using Locality-Sensitive Hashing fingerprints. __Important:__\n",
    "comparison is done based on __pages__, not texts as a whole!"
   ]
  },
  {
   "cell_type": "code",
   "execution_count": 1,
   "metadata": {},
   "outputs": [
    {
     "data": {
      "text/plain": "'Loaded 204 documents'"
     },
     "execution_count": 1,
     "metadata": {},
     "output_type": "execute_result"
    }
   ],
   "source": [
    "import glob\n",
    "import re\n",
    "\n",
    "INPUT_FOLDER = '../../../travelogues-corpus/17th_century/books'\n",
    "\n",
    "def read_file(f):\n",
    "  with open(f, 'r') as file:\n",
    "    return file.read()\n",
    "\n",
    "filenames = [f for f in glob.glob(INPUT_FOLDER + '**/*.txt')]\n",
    "texts = [ read_file(f) for f in filenames ]\n",
    "\n",
    "f'Loaded {len(texts)} documents'"
   ]
  },
  {
   "cell_type": "code",
   "execution_count": 2,
   "metadata": {},
   "outputs": [],
   "source": [
    "import re\n",
    "\n",
    "blank_line_regex = r\"(?:\\r?\\n){2,}\"\n",
    "pages_per_text = list(map(lambda l: re.split(blank_line_regex, l.strip()), texts))\n",
    "\n",
    "cleaned_pages_per_text = []\n",
    "for pages in pages_per_text:\n",
    "  # ASCII characters only\n",
    "  cleaned = [ re.sub('[^A-Za-z0-9 ]+', '', page) for page in pages ]\n",
    "\n",
    "  # Replace multiple spaces by one\n",
    "  cleand = [ re.sub('\\\\s+', ' ', page) for page in cleaned ]\n",
    "\n",
    "  # Remove empty pages\n",
    "  cleaned = [ p.strip() for p in cleaned if len(p.strip()) > 0 ]\n",
    "\n",
    "  cleaned_pages_per_text.append(cleaned)"
   ]
  },
  {
   "cell_type": "code",
   "execution_count": 4,
   "metadata": {},
   "outputs": [
    {
     "data": {
      "image/png": "[encoded data removed]",
      "text/plain": "<Figure size 432x288 with 1 Axes>"
     },
     "metadata": {},
     "output_type": "display_data"
    }
   ],
   "source": [
    "import matplotlib.pyplot as plt\n",
    "\n",
    "# Keep a record of pages per text\n",
    "page_lengths = [ len(pages) for pages in cleaned_pages_per_text ]\n",
    "\n",
    "plt.hist(page_lengths, bins=30, rwidth=0.85)\n",
    "plt.show()"
   ]
  },
  {
   "cell_type": "code",
   "execution_count": 5,
   "metadata": {},
   "outputs": [
    {
     "data": {
      "text/plain": "'Built LSH index for 55390 pages'"
     },
     "execution_count": 5,
     "metadata": {},
     "output_type": "execute_result"
    }
   ],
   "source": [
    "from datasketch import MinHashLSH\n",
    "from util.text import Text\n",
    "import pickle\n",
    "\n",
    "# 'Text' minhash helper objects\n",
    "texts = []\n",
    "\n",
    "for text_idx, text in enumerate(cleaned_pages_per_text):\n",
    "  for page_idx, page in enumerate(text):\n",
    "    texts.append(Text(text_idx, page_idx, page))\n",
    "\n",
    "lsh = MinHashLSH(threshold=0.8, num_perm=128)\n",
    "\n",
    "for t in texts:\n",
    "  lsh.insert(t.id(), t.minhash())\n",
    "\n",
    "# Save for later (computation takes a lot of time...)\n",
    "# pickle.dump(lsh, open('./lsh.bin', 'wb'))\n",
    "\n",
    "f'Built LSH index for {len(texts)} pages'"
   ]
  },
  {
   "cell_type": "code",
   "execution_count": 7,
   "metadata": {},
   "outputs": [],
   "source": [
    "neighbour_pairs = []\n",
    "\n",
    "for t in texts:\n",
    "  result = lsh.query(t.minhash())\n",
    "\n",
    "  # Result will always contain the message itself - remove\n",
    "  result = [r for r in result if r != t.id()]\n",
    "\n",
    "  for neighbour in result:\n",
    "    neighbour_pairs.append([ t.id(), neighbour ])"
   ]
  },
  {
   "cell_type": "markdown",
   "metadata": {},
   "source": [
    "Now aggregate the page-level results to a simple book-level \"score\", where the score is simply\n",
    "the number of identified pairs above the LSH threshold. "
   ]
  },
  {
   "cell_type": "code",
   "execution_count": 8,
   "metadata": {},
   "outputs": [
    {
     "data": {
      "text/html": "<div>\n<style scoped>\n    .dataframe tbody tr th:only-of-type {\n        vertical-align: middle;\n    }\n\n    .dataframe tbody tr th {\n        vertical-align: top;\n    }\n\n    .dataframe thead th {\n        text-align: right;\n    }\n</style>\n<table border=\"1\" class=\"dataframe\">\n  <thead>\n    <tr style=\"text-align: right;\">\n      <th></th>\n      <th>a</th>\n      <th>b</th>\n      <th>num_pairs</th>\n      <th>normalized</th>\n      <th>url_a</th>\n      <th>url_b</th>\n    </tr>\n  </thead>\n  <tbody>\n    <tr>\n      <th>0</th>\n      <td>Z180059703</td>\n      <td>Z162737708</td>\n      <td>19140</td>\n      <td>6.232498</td>\n      <td>http://data.onb.ac.at/ABO/+Z180059703</td>\n      <td>http://data.onb.ac.at/ABO/+Z162737708</td>\n    </tr>\n    <tr>\n      <th>1</th>\n      <td>Z180059703</td>\n      <td>Z164724109</td>\n      <td>17160</td>\n      <td>6.666667</td>\n      <td>http://data.onb.ac.at/ABO/+Z180059703</td>\n      <td>http://data.onb.ac.at/ABO/+Z164724109</td>\n    </tr>\n    <tr>\n      <th>2</th>\n      <td>Z180059703</td>\n      <td>Z156319401</td>\n      <td>16830</td>\n      <td>6.954545</td>\n      <td>http://data.onb.ac.at/ABO/+Z180059703</td>\n      <td>http://data.onb.ac.at/ABO/+Z156319401</td>\n    </tr>\n    <tr>\n      <th>3</th>\n      <td>Z180059703</td>\n      <td>Z15248840X</td>\n      <td>12210</td>\n      <td>5.441176</td>\n      <td>http://data.onb.ac.at/ABO/+Z180059703</td>\n      <td>http://data.onb.ac.at/ABO/+Z15248840X</td>\n    </tr>\n    <tr>\n      <th>4</th>\n      <td>Z180059703</td>\n      <td>Z158022808</td>\n      <td>11550</td>\n      <td>5.000000</td>\n      <td>http://data.onb.ac.at/ABO/+Z180059703</td>\n      <td>http://data.onb.ac.at/ABO/+Z158022808</td>\n    </tr>\n    <tr>\n      <th>5</th>\n      <td>Z180059703</td>\n      <td>Z15959440X</td>\n      <td>8580</td>\n      <td>3.998136</td>\n      <td>http://data.onb.ac.at/ABO/+Z180059703</td>\n      <td>http://data.onb.ac.at/ABO/+Z15959440X</td>\n    </tr>\n    <tr>\n      <th>6</th>\n      <td>Z180059703</td>\n      <td>Z164171807</td>\n      <td>7920</td>\n      <td>3.418213</td>\n      <td>http://data.onb.ac.at/ABO/+Z180059703</td>\n      <td>http://data.onb.ac.at/ABO/+Z164171807</td>\n    </tr>\n    <tr>\n      <th>7</th>\n      <td>Z162737708</td>\n      <td>Z164724109</td>\n      <td>6032</td>\n      <td>2.996523</td>\n      <td>http://data.onb.ac.at/ABO/+Z162737708</td>\n      <td>http://data.onb.ac.at/ABO/+Z164724109</td>\n    </tr>\n    <tr>\n      <th>8</th>\n      <td>Z159948701</td>\n      <td>Z180059703</td>\n      <td>5940</td>\n      <td>2.750000</td>\n      <td>http://data.onb.ac.at/ABO/+Z159948701</td>\n      <td>http://data.onb.ac.at/ABO/+Z180059703</td>\n    </tr>\n    <tr>\n      <th>9</th>\n      <td>Z180059703</td>\n      <td>Z158515308</td>\n      <td>5940</td>\n      <td>2.404858</td>\n      <td>http://data.onb.ac.at/ABO/+Z180059703</td>\n      <td>http://data.onb.ac.at/ABO/+Z158515308</td>\n    </tr>\n    <tr>\n      <th>10</th>\n      <td>Z180059703</td>\n      <td>Z202951005</td>\n      <td>5940</td>\n      <td>2.446458</td>\n      <td>http://data.onb.ac.at/ABO/+Z180059703</td>\n      <td>http://data.onb.ac.at/ABO/+Z202951005</td>\n    </tr>\n    <tr>\n      <th>11</th>\n      <td>Z162737708</td>\n      <td>Z156319401</td>\n      <td>5916</td>\n      <td>3.182356</td>\n      <td>http://data.onb.ac.at/ABO/+Z162737708</td>\n      <td>http://data.onb.ac.at/ABO/+Z156319401</td>\n    </tr>\n    <tr>\n      <th>12</th>\n      <td>Z180059703</td>\n      <td>Z257382001</td>\n      <td>5610</td>\n      <td>2.439130</td>\n      <td>http://data.onb.ac.at/ABO/+Z180059703</td>\n      <td>http://data.onb.ac.at/ABO/+Z257382001</td>\n    </tr>\n    <tr>\n      <th>13</th>\n      <td>Z180059703</td>\n      <td>Z162737605</td>\n      <td>5610</td>\n      <td>2.366090</td>\n      <td>http://data.onb.ac.at/ABO/+Z180059703</td>\n      <td>http://data.onb.ac.at/ABO/+Z162737605</td>\n    </tr>\n    <tr>\n      <th>14</th>\n      <td>Z180059703</td>\n      <td>Z162737502</td>\n      <td>5610</td>\n      <td>2.322981</td>\n      <td>http://data.onb.ac.at/ABO/+Z180059703</td>\n      <td>http://data.onb.ac.at/ABO/+Z162737502</td>\n    </tr>\n    <tr>\n      <th>15</th>\n      <td>Z156319401</td>\n      <td>Z164724109</td>\n      <td>5304</td>\n      <td>3.894273</td>\n      <td>http://data.onb.ac.at/ABO/+Z156319401</td>\n      <td>http://data.onb.ac.at/ABO/+Z164724109</td>\n    </tr>\n    <tr>\n      <th>16</th>\n      <td>Z180059703</td>\n      <td>Z156398106</td>\n      <td>5280</td>\n      <td>2.258340</td>\n      <td>http://data.onb.ac.at/ABO/+Z180059703</td>\n      <td>http://data.onb.ac.at/ABO/+Z156398106</td>\n    </tr>\n    <tr>\n      <th>17</th>\n      <td>Z180059703</td>\n      <td>Z163301100</td>\n      <td>4950</td>\n      <td>2.603893</td>\n      <td>http://data.onb.ac.at/ABO/+Z180059703</td>\n      <td>http://data.onb.ac.at/ABO/+Z163301100</td>\n    </tr>\n    <tr>\n      <th>18</th>\n      <td>Z180059703</td>\n      <td>Z202942703</td>\n      <td>4950</td>\n      <td>1.776103</td>\n      <td>http://data.onb.ac.at/ABO/+Z180059703</td>\n      <td>http://data.onb.ac.at/ABO/+Z202942703</td>\n    </tr>\n    <tr>\n      <th>19</th>\n      <td>Z180059703</td>\n      <td>Z159579203</td>\n      <td>4950</td>\n      <td>2.444444</td>\n      <td>http://data.onb.ac.at/ABO/+Z180059703</td>\n      <td>http://data.onb.ac.at/ABO/+Z159579203</td>\n    </tr>\n    <tr>\n      <th>20</th>\n      <td>Z180059703</td>\n      <td>Z178376102</td>\n      <td>4620</td>\n      <td>1.853189</td>\n      <td>http://data.onb.ac.at/ABO/+Z180059703</td>\n      <td>http://data.onb.ac.at/ABO/+Z178376102</td>\n    </tr>\n    <tr>\n      <th>21</th>\n      <td>Z162737708</td>\n      <td>Z15248840X</td>\n      <td>4292</td>\n      <td>2.550208</td>\n      <td>http://data.onb.ac.at/ABO/+Z162737708</td>\n      <td>http://data.onb.ac.at/ABO/+Z15248840X</td>\n    </tr>\n    <tr>\n      <th>22</th>\n      <td>Z180059703</td>\n      <td>Z185144502</td>\n      <td>4290</td>\n      <td>2.073465</td>\n      <td>http://data.onb.ac.at/ABO/+Z180059703</td>\n      <td>http://data.onb.ac.at/ABO/+Z185144502</td>\n    </tr>\n    <tr>\n      <th>23</th>\n      <td>Z180059703</td>\n      <td>Z185157302</td>\n      <td>4290</td>\n      <td>1.886544</td>\n      <td>http://data.onb.ac.at/ABO/+Z180059703</td>\n      <td>http://data.onb.ac.at/ABO/+Z185157302</td>\n    </tr>\n    <tr>\n      <th>24</th>\n      <td>Z180059703</td>\n      <td>Z164617007</td>\n      <td>4290</td>\n      <td>1.838834</td>\n      <td>http://data.onb.ac.at/ABO/+Z180059703</td>\n      <td>http://data.onb.ac.at/ABO/+Z164617007</td>\n    </tr>\n    <tr>\n      <th>25</th>\n      <td>Z162737708</td>\n      <td>Z158022808</td>\n      <td>4060</td>\n      <td>2.321326</td>\n      <td>http://data.onb.ac.at/ABO/+Z162737708</td>\n      <td>http://data.onb.ac.at/ABO/+Z158022808</td>\n    </tr>\n    <tr>\n      <th>26</th>\n      <td>Z180059703</td>\n      <td>Z165271500</td>\n      <td>3960</td>\n      <td>1.749890</td>\n      <td>http://data.onb.ac.at/ABO/+Z180059703</td>\n      <td>http://data.onb.ac.at/ABO/+Z165271500</td>\n    </tr>\n    <tr>\n      <th>27</th>\n      <td>Z164724109</td>\n      <td>Z15248840X</td>\n      <td>3848</td>\n      <td>3.244519</td>\n      <td>http://data.onb.ac.at/ABO/+Z164724109</td>\n      <td>http://data.onb.ac.at/ABO/+Z15248840X</td>\n    </tr>\n    <tr>\n      <th>28</th>\n      <td>Z156319401</td>\n      <td>Z15248840X</td>\n      <td>3774</td>\n      <td>3.656977</td>\n      <td>http://data.onb.ac.at/ABO/+Z156319401</td>\n      <td>http://data.onb.ac.at/ABO/+Z15248840X</td>\n    </tr>\n    <tr>\n      <th>29</th>\n      <td>Z158022808</td>\n      <td>Z164724109</td>\n      <td>3640</td>\n      <td>2.907348</td>\n      <td>http://data.onb.ac.at/ABO/+Z158022808</td>\n      <td>http://data.onb.ac.at/ABO/+Z164724109</td>\n    </tr>\n    <tr>\n      <th>...</th>\n      <td>...</td>\n      <td>...</td>\n      <td>...</td>\n      <td>...</td>\n      <td>...</td>\n      <td>...</td>\n    </tr>\n    <tr>\n      <th>14051</th>\n      <td>Z155909506</td>\n      <td>Z62785705</td>\n      <td>2</td>\n      <td>0.015385</td>\n      <td>http://data.onb.ac.at/ABO/+Z155909506</td>\n      <td>http://data.onb.ac.at/ABO/+Z62785705</td>\n    </tr>\n    <tr>\n      <th>14052</th>\n      <td>Z155909506</td>\n      <td>Z221151005</td>\n      <td>2</td>\n      <td>0.006390</td>\n      <td>http://data.onb.ac.at/ABO/+Z155909506</td>\n      <td>http://data.onb.ac.at/ABO/+Z221151005</td>\n    </tr>\n    <tr>\n      <th>14053</th>\n      <td>Z180631708</td>\n      <td>Z166665108</td>\n      <td>2</td>\n      <td>0.007407</td>\n      <td>http://data.onb.ac.at/ABO/+Z180631708</td>\n      <td>http://data.onb.ac.at/ABO/+Z166665108</td>\n    </tr>\n    <tr>\n      <th>14054</th>\n      <td>Z180631708</td>\n      <td>Z180648204</td>\n      <td>2</td>\n      <td>0.004926</td>\n      <td>http://data.onb.ac.at/ABO/+Z180631708</td>\n      <td>http://data.onb.ac.at/ABO/+Z180648204</td>\n    </tr>\n    <tr>\n      <th>14055</th>\n      <td>Z180631708</td>\n      <td>Z159215904</td>\n      <td>2</td>\n      <td>0.003960</td>\n      <td>http://data.onb.ac.at/ABO/+Z180631708</td>\n      <td>http://data.onb.ac.at/ABO/+Z159215904</td>\n    </tr>\n    <tr>\n      <th>14056</th>\n      <td>Z180631708</td>\n      <td>Z166652606</td>\n      <td>2</td>\n      <td>0.005168</td>\n      <td>http://data.onb.ac.at/ABO/+Z180631708</td>\n      <td>http://data.onb.ac.at/ABO/+Z166652606</td>\n    </tr>\n    <tr>\n      <th>14057</th>\n      <td>Z166652606</td>\n      <td>Z180648204</td>\n      <td>2</td>\n      <td>0.003241</td>\n      <td>http://data.onb.ac.at/ABO/+Z166652606</td>\n      <td>http://data.onb.ac.at/ABO/+Z180648204</td>\n    </tr>\n    <tr>\n      <th>14058</th>\n      <td>Z221151005</td>\n      <td>Z16835250X</td>\n      <td>2</td>\n      <td>0.007605</td>\n      <td>http://data.onb.ac.at/ABO/+Z221151005</td>\n      <td>http://data.onb.ac.at/ABO/+Z16835250X</td>\n    </tr>\n    <tr>\n      <th>14059</th>\n      <td>Z221151005</td>\n      <td>Z168352407</td>\n      <td>2</td>\n      <td>0.007220</td>\n      <td>http://data.onb.ac.at/ABO/+Z221151005</td>\n      <td>http://data.onb.ac.at/ABO/+Z168352407</td>\n    </tr>\n    <tr>\n      <th>14060</th>\n      <td>Z221151005</td>\n      <td>Z170738205</td>\n      <td>2</td>\n      <td>0.005013</td>\n      <td>http://data.onb.ac.at/ABO/+Z221151005</td>\n      <td>http://data.onb.ac.at/ABO/+Z170738205</td>\n    </tr>\n    <tr>\n      <th>14061</th>\n      <td>Z221151005</td>\n      <td>Z163300508</td>\n      <td>2</td>\n      <td>0.003704</td>\n      <td>http://data.onb.ac.at/ABO/+Z221151005</td>\n      <td>http://data.onb.ac.at/ABO/+Z163300508</td>\n    </tr>\n    <tr>\n      <th>14062</th>\n      <td>Z221151005</td>\n      <td>Z166665108</td>\n      <td>2</td>\n      <td>0.005333</td>\n      <td>http://data.onb.ac.at/ABO/+Z221151005</td>\n      <td>http://data.onb.ac.at/ABO/+Z166665108</td>\n    </tr>\n    <tr>\n      <th>14063</th>\n      <td>Z221151005</td>\n      <td>Z62785705</td>\n      <td>2</td>\n      <td>0.009852</td>\n      <td>http://data.onb.ac.at/ABO/+Z221151005</td>\n      <td>http://data.onb.ac.at/ABO/+Z62785705</td>\n    </tr>\n    <tr>\n      <th>14064</th>\n      <td>Z159215904</td>\n      <td>Z180648204</td>\n      <td>2</td>\n      <td>0.002721</td>\n      <td>http://data.onb.ac.at/ABO/+Z159215904</td>\n      <td>http://data.onb.ac.at/ABO/+Z180648204</td>\n    </tr>\n    <tr>\n      <th>14065</th>\n      <td>Z16835250X</td>\n      <td>Z168352407</td>\n      <td>2</td>\n      <td>0.012987</td>\n      <td>http://data.onb.ac.at/ABO/+Z16835250X</td>\n      <td>http://data.onb.ac.at/ABO/+Z168352407</td>\n    </tr>\n    <tr>\n      <th>14066</th>\n      <td>Z16835250X</td>\n      <td>Z170738205</td>\n      <td>2</td>\n      <td>0.007246</td>\n      <td>http://data.onb.ac.at/ABO/+Z16835250X</td>\n      <td>http://data.onb.ac.at/ABO/+Z170738205</td>\n    </tr>\n    <tr>\n      <th>14067</th>\n      <td>Z16835250X</td>\n      <td>Z163300508</td>\n      <td>2</td>\n      <td>0.004796</td>\n      <td>http://data.onb.ac.at/ABO/+Z16835250X</td>\n      <td>http://data.onb.ac.at/ABO/+Z163300508</td>\n    </tr>\n    <tr>\n      <th>14068</th>\n      <td>Z16835250X</td>\n      <td>Z166665108</td>\n      <td>2</td>\n      <td>0.007937</td>\n      <td>http://data.onb.ac.at/ABO/+Z16835250X</td>\n      <td>http://data.onb.ac.at/ABO/+Z166665108</td>\n    </tr>\n    <tr>\n      <th>14069</th>\n      <td>Z16835250X</td>\n      <td>Z62785705</td>\n      <td>2</td>\n      <td>0.025000</td>\n      <td>http://data.onb.ac.at/ABO/+Z16835250X</td>\n      <td>http://data.onb.ac.at/ABO/+Z62785705</td>\n    </tr>\n    <tr>\n      <th>14070</th>\n      <td>Z168352407</td>\n      <td>Z170738205</td>\n      <td>2</td>\n      <td>0.006897</td>\n      <td>http://data.onb.ac.at/ABO/+Z168352407</td>\n      <td>http://data.onb.ac.at/ABO/+Z170738205</td>\n    </tr>\n    <tr>\n      <th>14071</th>\n      <td>Z168352407</td>\n      <td>Z163300508</td>\n      <td>2</td>\n      <td>0.004640</td>\n      <td>http://data.onb.ac.at/ABO/+Z168352407</td>\n      <td>http://data.onb.ac.at/ABO/+Z163300508</td>\n    </tr>\n    <tr>\n      <th>14072</th>\n      <td>Z168352407</td>\n      <td>Z166665108</td>\n      <td>2</td>\n      <td>0.007519</td>\n      <td>http://data.onb.ac.at/ABO/+Z168352407</td>\n      <td>http://data.onb.ac.at/ABO/+Z166665108</td>\n    </tr>\n    <tr>\n      <th>14073</th>\n      <td>Z168352407</td>\n      <td>Z62785705</td>\n      <td>2</td>\n      <td>0.021277</td>\n      <td>http://data.onb.ac.at/ABO/+Z168352407</td>\n      <td>http://data.onb.ac.at/ABO/+Z62785705</td>\n    </tr>\n    <tr>\n      <th>14074</th>\n      <td>Z62785705</td>\n      <td>Z170738205</td>\n      <td>2</td>\n      <td>0.009259</td>\n      <td>http://data.onb.ac.at/ABO/+Z62785705</td>\n      <td>http://data.onb.ac.at/ABO/+Z170738205</td>\n    </tr>\n    <tr>\n      <th>14075</th>\n      <td>Z62785705</td>\n      <td>Z163300508</td>\n      <td>2</td>\n      <td>0.005602</td>\n      <td>http://data.onb.ac.at/ABO/+Z62785705</td>\n      <td>http://data.onb.ac.at/ABO/+Z163300508</td>\n    </tr>\n    <tr>\n      <th>14076</th>\n      <td>Z62785705</td>\n      <td>Z166665108</td>\n      <td>2</td>\n      <td>0.010417</td>\n      <td>http://data.onb.ac.at/ABO/+Z62785705</td>\n      <td>http://data.onb.ac.at/ABO/+Z166665108</td>\n    </tr>\n    <tr>\n      <th>14077</th>\n      <td>Z166665108</td>\n      <td>Z170738205</td>\n      <td>2</td>\n      <td>0.005155</td>\n      <td>http://data.onb.ac.at/ABO/+Z166665108</td>\n      <td>http://data.onb.ac.at/ABO/+Z170738205</td>\n    </tr>\n    <tr>\n      <th>14078</th>\n      <td>Z166665108</td>\n      <td>Z163300508</td>\n      <td>2</td>\n      <td>0.003781</td>\n      <td>http://data.onb.ac.at/ABO/+Z166665108</td>\n      <td>http://data.onb.ac.at/ABO/+Z163300508</td>\n    </tr>\n    <tr>\n      <th>14079</th>\n      <td>Z166665108</td>\n      <td>Z180648204</td>\n      <td>2</td>\n      <td>0.004000</td>\n      <td>http://data.onb.ac.at/ABO/+Z166665108</td>\n      <td>http://data.onb.ac.at/ABO/+Z180648204</td>\n    </tr>\n    <tr>\n      <th>14080</th>\n      <td>Z170738205</td>\n      <td>Z163300508</td>\n      <td>2</td>\n      <td>0.003617</td>\n      <td>http://data.onb.ac.at/ABO/+Z170738205</td>\n      <td>http://data.onb.ac.at/ABO/+Z163300508</td>\n    </tr>\n  </tbody>\n</table>\n<p>14081 rows × 6 columns</p>\n</div>",
      "text/plain": "                a           b  num_pairs  normalized  \\\n0      Z180059703  Z162737708      19140    6.232498   \n1      Z180059703  Z164724109      17160    6.666667   \n2      Z180059703  Z156319401      16830    6.954545   \n3      Z180059703  Z15248840X      12210    5.441176   \n4      Z180059703  Z158022808      11550    5.000000   \n5      Z180059703  Z15959440X       8580    3.998136   \n6      Z180059703  Z164171807       7920    3.418213   \n7      Z162737708  Z164724109       6032    2.996523   \n8      Z159948701  Z180059703       5940    2.750000   \n9      Z180059703  Z158515308       5940    2.404858   \n10     Z180059703  Z202951005       5940    2.446458   \n11     Z162737708  Z156319401       5916    3.182356   \n12     Z180059703  Z257382001       5610    2.439130   \n13     Z180059703  Z162737605       5610    2.366090   \n14     Z180059703  Z162737502       5610    2.322981   \n15     Z156319401  Z164724109       5304    3.894273   \n16     Z180059703  Z156398106       5280    2.258340   \n17     Z180059703  Z163301100       4950    2.603893   \n18     Z180059703  Z202942703       4950    1.776103   \n19     Z180059703  Z159579203       4950    2.444444   \n20     Z180059703  Z178376102       4620    1.853189   \n21     Z162737708  Z15248840X       4292    2.550208   \n22     Z180059703  Z185144502       4290    2.073465   \n23     Z180059703  Z185157302       4290    1.886544   \n24     Z180059703  Z164617007       4290    1.838834   \n25     Z162737708  Z158022808       4060    2.321326   \n26     Z180059703  Z165271500       3960    1.749890   \n27     Z164724109  Z15248840X       3848    3.244519   \n28     Z156319401  Z15248840X       3774    3.656977   \n29     Z158022808  Z164724109       3640    2.907348   \n...           ...         ...        ...         ...   \n14051  Z155909506   Z62785705          2    0.015385   \n14052  Z155909506  Z221151005          2    0.006390   \n14053  Z180631708  Z166665108          2    0.007407   \n14054  Z180631708  Z180648204          2    0.004926   \n14055  Z180631708  Z159215904          2    0.003960   \n14056  Z180631708  Z166652606          2    0.005168   \n14057  Z166652606  Z180648204          2    0.003241   \n14058  Z221151005  Z16835250X          2    0.007605   \n14059  Z221151005  Z168352407          2    0.007220   \n14060  Z221151005  Z170738205          2    0.005013   \n14061  Z221151005  Z163300508          2    0.003704   \n14062  Z221151005  Z166665108          2    0.005333   \n14063  Z221151005   Z62785705          2    0.009852   \n14064  Z159215904  Z180648204          2    0.002721   \n14065  Z16835250X  Z168352407          2    0.012987   \n14066  Z16835250X  Z170738205          2    0.007246   \n14067  Z16835250X  Z163300508          2    0.004796   \n14068  Z16835250X  Z166665108          2    0.007937   \n14069  Z16835250X   Z62785705          2    0.025000   \n14070  Z168352407  Z170738205          2    0.006897   \n14071  Z168352407  Z163300508          2    0.004640   \n14072  Z168352407  Z166665108          2    0.007519   \n14073  Z168352407   Z62785705          2    0.021277   \n14074   Z62785705  Z170738205          2    0.009259   \n14075   Z62785705  Z163300508          2    0.005602   \n14076   Z62785705  Z166665108          2    0.010417   \n14077  Z166665108  Z170738205          2    0.005155   \n14078  Z166665108  Z163300508          2    0.003781   \n14079  Z166665108  Z180648204          2    0.004000   \n14080  Z170738205  Z163300508          2    0.003617   \n\n                                       url_a  \\\n0      http://data.onb.ac.at/ABO/+Z180059703   \n1      http://data.onb.ac.at/ABO/+Z180059703   \n2      http://data.onb.ac.at/ABO/+Z180059703   \n3      http://data.onb.ac.at/ABO/+Z180059703   \n4      http://data.onb.ac.at/ABO/+Z180059703   \n5      http://data.onb.ac.at/ABO/+Z180059703   \n6      http://data.onb.ac.at/ABO/+Z180059703   \n7      http://data.onb.ac.at/ABO/+Z162737708   \n8      http://data.onb.ac.at/ABO/+Z159948701   \n9      http://data.onb.ac.at/ABO/+Z180059703   \n10     http://data.onb.ac.at/ABO/+Z180059703   \n11     http://data.onb.ac.at/ABO/+Z162737708   \n12     http://data.onb.ac.at/ABO/+Z180059703   \n13     http://data.onb.ac.at/ABO/+Z180059703   \n14     http://data.onb.ac.at/ABO/+Z180059703   \n15     http://data.onb.ac.at/ABO/+Z156319401   \n16     http://data.onb.ac.at/ABO/+Z180059703   \n17     http://data.onb.ac.at/ABO/+Z180059703   \n18     http://data.onb.ac.at/ABO/+Z180059703   \n19     http://data.onb.ac.at/ABO/+Z180059703   \n20     http://data.onb.ac.at/ABO/+Z180059703   \n21     http://data.onb.ac.at/ABO/+Z162737708   \n22     http://data.onb.ac.at/ABO/+Z180059703   \n23     http://data.onb.ac.at/ABO/+Z180059703   \n24     http://data.onb.ac.at/ABO/+Z180059703   \n25     http://data.onb.ac.at/ABO/+Z162737708   \n26     http://data.onb.ac.at/ABO/+Z180059703   \n27     http://data.onb.ac.at/ABO/+Z164724109   \n28     http://data.onb.ac.at/ABO/+Z156319401   \n29     http://data.onb.ac.at/ABO/+Z158022808   \n...                                      ...   \n14051  http://data.onb.ac.at/ABO/+Z155909506   \n14052  http://data.onb.ac.at/ABO/+Z155909506   \n14053  http://data.onb.ac.at/ABO/+Z180631708   \n14054  http://data.onb.ac.at/ABO/+Z180631708   \n14055  http://data.onb.ac.at/ABO/+Z180631708   \n14056  http://data.onb.ac.at/ABO/+Z180631708   \n14057  http://data.onb.ac.at/ABO/+Z166652606   \n14058  http://data.onb.ac.at/ABO/+Z221151005   \n14059  http://data.onb.ac.at/ABO/+Z221151005   \n14060  http://data.onb.ac.at/ABO/+Z221151005   \n14061  http://data.onb.ac.at/ABO/+Z221151005   \n14062  http://data.onb.ac.at/ABO/+Z221151005   \n14063  http://data.onb.ac.at/ABO/+Z221151005   \n14064  http://data.onb.ac.at/ABO/+Z159215904   \n14065  http://data.onb.ac.at/ABO/+Z16835250X   \n14066  http://data.onb.ac.at/ABO/+Z16835250X   \n14067  http://data.onb.ac.at/ABO/+Z16835250X   \n14068  http://data.onb.ac.at/ABO/+Z16835250X   \n14069  http://data.onb.ac.at/ABO/+Z16835250X   \n14070  http://data.onb.ac.at/ABO/+Z168352407   \n14071  http://data.onb.ac.at/ABO/+Z168352407   \n14072  http://data.onb.ac.at/ABO/+Z168352407   \n14073  http://data.onb.ac.at/ABO/+Z168352407   \n14074   http://data.onb.ac.at/ABO/+Z62785705   \n14075   http://data.onb.ac.at/ABO/+Z62785705   \n14076   http://data.onb.ac.at/ABO/+Z62785705   \n14077  http://data.onb.ac.at/ABO/+Z166665108   \n14078  http://data.onb.ac.at/ABO/+Z166665108   \n14079  http://data.onb.ac.at/ABO/+Z166665108   \n14080  http://data.onb.ac.at/ABO/+Z170738205   \n\n                                       url_b  \n0      http://data.onb.ac.at/ABO/+Z162737708  \n1      http://data.onb.ac.at/ABO/+Z164724109  \n2      http://data.onb.ac.at/ABO/+Z156319401  \n3      http://data.onb.ac.at/ABO/+Z15248840X  \n4      http://data.onb.ac.at/ABO/+Z158022808  \n5      http://data.onb.ac.at/ABO/+Z15959440X  \n6      http://data.onb.ac.at/ABO/+Z164171807  \n7      http://data.onb.ac.at/ABO/+Z164724109  \n8      http://data.onb.ac.at/ABO/+Z180059703  \n9      http://data.onb.ac.at/ABO/+Z158515308  \n10     http://data.onb.ac.at/ABO/+Z202951005  \n11     http://data.onb.ac.at/ABO/+Z156319401  \n12     http://data.onb.ac.at/ABO/+Z257382001  \n13     http://data.onb.ac.at/ABO/+Z162737605  \n14     http://data.onb.ac.at/ABO/+Z162737502  \n15     http://data.onb.ac.at/ABO/+Z164724109  \n16     http://data.onb.ac.at/ABO/+Z156398106  \n17     http://data.onb.ac.at/ABO/+Z163301100  \n18     http://data.onb.ac.at/ABO/+Z202942703  \n19     http://data.onb.ac.at/ABO/+Z159579203  \n20     http://data.onb.ac.at/ABO/+Z178376102  \n21     http://data.onb.ac.at/ABO/+Z15248840X  \n22     http://data.onb.ac.at/ABO/+Z185144502  \n23     http://data.onb.ac.at/ABO/+Z185157302  \n24     http://data.onb.ac.at/ABO/+Z164617007  \n25     http://data.onb.ac.at/ABO/+Z158022808  \n26     http://data.onb.ac.at/ABO/+Z165271500  \n27     http://data.onb.ac.at/ABO/+Z15248840X  \n28     http://data.onb.ac.at/ABO/+Z15248840X  \n29     http://data.onb.ac.at/ABO/+Z164724109  \n...                                      ...  \n14051   http://data.onb.ac.at/ABO/+Z62785705  \n14052  http://data.onb.ac.at/ABO/+Z221151005  \n14053  http://data.onb.ac.at/ABO/+Z166665108  \n14054  http://data.onb.ac.at/ABO/+Z180648204  \n14055  http://data.onb.ac.at/ABO/+Z159215904  \n14056  http://data.onb.ac.at/ABO/+Z166652606  \n14057  http://data.onb.ac.at/ABO/+Z180648204  \n14058  http://data.onb.ac.at/ABO/+Z16835250X  \n14059  http://data.onb.ac.at/ABO/+Z168352407  \n14060  http://data.onb.ac.at/ABO/+Z170738205  \n14061  http://data.onb.ac.at/ABO/+Z163300508  \n14062  http://data.onb.ac.at/ABO/+Z166665108  \n14063   http://data.onb.ac.at/ABO/+Z62785705  \n14064  http://data.onb.ac.at/ABO/+Z180648204  \n14065  http://data.onb.ac.at/ABO/+Z168352407  \n14066  http://data.onb.ac.at/ABO/+Z170738205  \n14067  http://data.onb.ac.at/ABO/+Z163300508  \n14068  http://data.onb.ac.at/ABO/+Z166665108  \n14069   http://data.onb.ac.at/ABO/+Z62785705  \n14070  http://data.onb.ac.at/ABO/+Z170738205  \n14071  http://data.onb.ac.at/ABO/+Z163300508  \n14072  http://data.onb.ac.at/ABO/+Z166665108  \n14073   http://data.onb.ac.at/ABO/+Z62785705  \n14074  http://data.onb.ac.at/ABO/+Z170738205  \n14075  http://data.onb.ac.at/ABO/+Z163300508  \n14076  http://data.onb.ac.at/ABO/+Z166665108  \n14077  http://data.onb.ac.at/ABO/+Z170738205  \n14078  http://data.onb.ac.at/ABO/+Z163300508  \n14079  http://data.onb.ac.at/ABO/+Z180648204  \n14080  http://data.onb.ac.at/ABO/+Z163300508  \n\n[14081 rows x 6 columns]"
     },
     "execution_count": 8,
     "metadata": {},
     "output_type": "execute_result"
    }
   ],
   "source": [
    "import pandas as pd \n",
    "\n",
    "def to_barcode(filename):\n",
    "  return filename[filename.rindex('/') + 1: -4]\n",
    "\n",
    "as_dict = {}\n",
    "\n",
    "for pair in neighbour_pairs:\n",
    "  from_book = int(pair[0].split(',')[0])\n",
    "  to_book = int(pair[1].split(',')[0])\n",
    "\n",
    "  if (from_book != to_book):\n",
    "    # Key is always from lower idx to higher idx\n",
    "    key = f'{from_book},{to_book}' if from_book < to_book else f'{to_book},{from_book}'\n",
    "\n",
    "    if key in as_dict:\n",
    "      as_dict[key] = as_dict[key] + 1\n",
    "    else:\n",
    "      as_dict[key] = 1\n",
    "\n",
    "as_list = []\n",
    "for key in as_dict.keys():\n",
    "  indexes = key.split(',')\n",
    "\n",
    "  idx_a = int(indexes[0])\n",
    "  idx_b = int(indexes[1])\n",
    "\n",
    "  file_a = to_barcode(filenames[idx_a])\n",
    "  file_b = to_barcode(filenames[idx_b])\n",
    "\n",
    "  url_a = f'http://data.onb.ac.at/ABO/+{file_a}'\n",
    "  url_b = f'http://data.onb.ac.at/ABO/+{file_b}'\n",
    "\n",
    "  score = as_dict[key]\n",
    "\n",
    "  normalized = score / (page_lengths[idx_a] + page_lengths[idx_b])\n",
    "\n",
    "  as_list.append([ file_a, file_b, score, normalized, url_a, url_b ])\n",
    "\n",
    "as_list = sorted(as_list, key = lambda x: -x[2])\n",
    "\n",
    "# This data frame now contains book indices and score\n",
    "df = pd.DataFrame(as_list, columns=['a', 'b', 'num_pairs', 'normalized', 'url_a', 'url_b'])\n",
    "df"
   ]
  },
  {
   "cell_type": "code",
   "execution_count": 11,
   "metadata": {},
   "outputs": [],
   "source": [
    "df.to_csv('../../results/similarity_lsh_pagewise.csv', index=False)"
   ]
  },
  {
   "cell_type": "code",
   "execution_count": null,
   "metadata": {},
   "outputs": [],
   "source": []
  }
 ]
}