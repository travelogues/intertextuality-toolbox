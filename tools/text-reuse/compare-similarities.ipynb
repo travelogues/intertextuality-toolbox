{
 "nbformat": 4,
 "nbformat_minor": 2,
 "metadata": {
  "language_info": {
   "name": "python",
   "codemirror_mode": {
    "name": "ipython",
    "version": 3
   },
   "version": "3.6.5-final"
  },
  "orig_nbformat": 2,
  "file_extension": ".py",
  "mimetype": "text/x-python",
  "name": "python",
  "npconvert_exporter": "python",
  "pygments_lexer": "ipython3",
  "version": 3,
  "kernelspec": {
   "name": "python3",
   "display_name": "Python 3"
  }
 },
 "cells": [
  {
   "cell_type": "code",
   "execution_count": 1,
   "metadata": {},
   "outputs": [
    {
     "data": {
      "text/plain": "'Got 1505 pairs for page-level, 2145 paris for book-level'"
     },
     "execution_count": 1,
     "metadata": {},
     "output_type": "execute_result"
    }
   ],
   "source": [
    "import pandas as pd\n",
    "\n",
    "INPUT_FILE_1 = '../../results/16C/similarities_lsh_pagewise_16C.csv'\n",
    "df_page_level = pd.read_csv(INPUT_FILE_1, delim_whitespace=False, sep=',')\n",
    "\n",
    "INPUT_FILE_2 = '../../results/16C/similarities_ngram_16C.csv'\n",
    "df_book_level = pd.read_csv(INPUT_FILE_2, delim_whitespace=False, sep=',')\n",
    "\n",
    "f'Got {df_page_level.shape[0]} pairs for page-level, {df_book_level.shape[0]} paris for book-level'"
   ]
  },
  {
   "cell_type": "code",
   "execution_count": 2,
   "metadata": {},
   "outputs": [],
   "source": [
    "page_level = df_page_level.values.tolist()\n",
    "page_level.sort(key=lambda x: -x[3])\n",
    "\n",
    "book_level = df_book_level.values.tolist()\n",
    "book_level.sort(key=lambda x: -x[2])"
   ]
  },
  {
   "cell_type": "markdown",
   "metadata": {},
   "source": [
    "## Comparison\n",
    "\n",
    "We'd expect the highest-scoring n-gram matches on the book level to be consistent with the highest scoring \n",
    "pairs resulting from the page-level matching.\n",
    "\n",
    "Sample top 100."
   ]
  },
  {
   "cell_type": "code",
   "execution_count": 3,
   "metadata": {},
   "outputs": [
    {
     "data": {
      "text/plain": "'Found 89 of the top 300 book-level matches in the top 300 page-level matches'"
     },
     "execution_count": 3,
     "metadata": {},
     "output_type": "execute_result"
    }
   ],
   "source": [
    "def to_barcode(filename):\n",
    "  return filename[filename.rindex('/') + 1: -4]\n",
    "\n",
    "top_100_page = [ [ t[0], t[1], t[3] ] for t in page_level[: 300] ]\n",
    "top_100_book = [ [ to_barcode(t[0]), to_barcode(t[1]), t[2] ] for t in book_level[: 300] ]\n",
    "\n",
    "def equals(a, b):\n",
    "  return (a[0] == b[0] and a[1] == b[1]) or (a[1] == b[0] and a[0] == b[1])\n",
    "\n",
    "# Argh - I hate Python for being so quirky with this. I'm sure there's an easier way to intersect but, well..\n",
    "intersection = []\n",
    "for top_book in top_100_book:\n",
    "  match = next((True for t in top_100_page if equals(t, top_book)), False)\n",
    "  if match:\n",
    "    intersection.append(top_book)\n",
    "\n",
    "f'Found {len(intersection)} of the top 300 book-level matches in the top 300 page-level matches'"
   ]
  },
  {
   "cell_type": "code",
   "execution_count": 4,
   "metadata": {},
   "outputs": [
    {
     "data": {
      "text/html": "<div>\n<style scoped>\n    .dataframe tbody tr th:only-of-type {\n        vertical-align: middle;\n    }\n\n    .dataframe tbody tr th {\n        vertical-align: top;\n    }\n\n    .dataframe thead th {\n        text-align: right;\n    }\n</style>\n<table border=\"1\" class=\"dataframe\">\n  <thead>\n    <tr style=\"text-align: right;\">\n      <th></th>\n      <th>url_a</th>\n      <th>url_b</th>\n      <th>score</th>\n    </tr>\n  </thead>\n  <tbody>\n    <tr>\n      <th>0</th>\n      <td>http://data.onb.ac.at/ABO/+Z180628606</td>\n      <td>http://data.onb.ac.at/ABO/+Z253367704</td>\n      <td>0.141273</td>\n    </tr>\n    <tr>\n      <th>1</th>\n      <td>http://data.onb.ac.at/ABO/+Z158160208</td>\n      <td>http://data.onb.ac.at/ABO/+Z176246604</td>\n      <td>0.121940</td>\n    </tr>\n    <tr>\n      <th>2</th>\n      <td>http://data.onb.ac.at/ABO/+Z185157909</td>\n      <td>http://data.onb.ac.at/ABO/+Z185158008</td>\n      <td>0.117661</td>\n    </tr>\n    <tr>\n      <th>3</th>\n      <td>http://data.onb.ac.at/ABO/+Z182822001</td>\n      <td>http://data.onb.ac.at/ABO/+Z18514390X</td>\n      <td>0.108850</td>\n    </tr>\n    <tr>\n      <th>4</th>\n      <td>http://data.onb.ac.at/ABO/+Z180628606</td>\n      <td>http://data.onb.ac.at/ABO/+Z158160208</td>\n      <td>0.105781</td>\n    </tr>\n    <tr>\n      <th>5</th>\n      <td>http://data.onb.ac.at/ABO/+Z18514390X</td>\n      <td>http://data.onb.ac.at/ABO/+Z185143704</td>\n      <td>0.099772</td>\n    </tr>\n    <tr>\n      <th>6</th>\n      <td>http://data.onb.ac.at/ABO/+Z185142207</td>\n      <td>http://data.onb.ac.at/ABO/+Z18514390X</td>\n      <td>0.099744</td>\n    </tr>\n    <tr>\n      <th>7</th>\n      <td>http://data.onb.ac.at/ABO/+Z178362103</td>\n      <td>http://data.onb.ac.at/ABO/+Z18514390X</td>\n      <td>0.097520</td>\n    </tr>\n    <tr>\n      <th>8</th>\n      <td>http://data.onb.ac.at/ABO/+Z185157107</td>\n      <td>http://data.onb.ac.at/ABO/+Z18514390X</td>\n      <td>0.096435</td>\n    </tr>\n    <tr>\n      <th>9</th>\n      <td>http://data.onb.ac.at/ABO/+Z180628606</td>\n      <td>http://data.onb.ac.at/ABO/+Z185912505</td>\n      <td>0.095872</td>\n    </tr>\n    <tr>\n      <th>10</th>\n      <td>http://data.onb.ac.at/ABO/+Z185912505</td>\n      <td>http://data.onb.ac.at/ABO/+Z158160208</td>\n      <td>0.095278</td>\n    </tr>\n    <tr>\n      <th>11</th>\n      <td>http://data.onb.ac.at/ABO/+Z158160208</td>\n      <td>http://data.onb.ac.at/ABO/+Z18514390X</td>\n      <td>0.094868</td>\n    </tr>\n    <tr>\n      <th>12</th>\n      <td>http://data.onb.ac.at/ABO/+Z185158008</td>\n      <td>http://data.onb.ac.at/ABO/+Z185143704</td>\n      <td>0.093439</td>\n    </tr>\n    <tr>\n      <th>13</th>\n      <td>http://data.onb.ac.at/ABO/+Z165709803</td>\n      <td>http://data.onb.ac.at/ABO/+Z185912505</td>\n      <td>0.092999</td>\n    </tr>\n    <tr>\n      <th>14</th>\n      <td>http://data.onb.ac.at/ABO/+Z185142001</td>\n      <td>http://data.onb.ac.at/ABO/+Z185158008</td>\n      <td>0.092886</td>\n    </tr>\n    <tr>\n      <th>15</th>\n      <td>http://data.onb.ac.at/ABO/+Z185157107</td>\n      <td>http://data.onb.ac.at/ABO/+Z185158008</td>\n      <td>0.092444</td>\n    </tr>\n    <tr>\n      <th>16</th>\n      <td>http://data.onb.ac.at/ABO/+Z185142001</td>\n      <td>http://data.onb.ac.at/ABO/+Z185157909</td>\n      <td>0.091906</td>\n    </tr>\n    <tr>\n      <th>17</th>\n      <td>http://data.onb.ac.at/ABO/+Z185157909</td>\n      <td>http://data.onb.ac.at/ABO/+Z185143704</td>\n      <td>0.090709</td>\n    </tr>\n    <tr>\n      <th>18</th>\n      <td>http://data.onb.ac.at/ABO/+Z163300909</td>\n      <td>http://data.onb.ac.at/ABO/+Z185142001</td>\n      <td>0.090668</td>\n    </tr>\n    <tr>\n      <th>19</th>\n      <td>http://data.onb.ac.at/ABO/+Z185157107</td>\n      <td>http://data.onb.ac.at/ABO/+Z185143704</td>\n      <td>0.089240</td>\n    </tr>\n    <tr>\n      <th>20</th>\n      <td>http://data.onb.ac.at/ABO/+Z178362103</td>\n      <td>http://data.onb.ac.at/ABO/+Z185143704</td>\n      <td>0.088920</td>\n    </tr>\n    <tr>\n      <th>21</th>\n      <td>http://data.onb.ac.at/ABO/+Z185142001</td>\n      <td>http://data.onb.ac.at/ABO/+Z185157107</td>\n      <td>0.086500</td>\n    </tr>\n    <tr>\n      <th>22</th>\n      <td>http://data.onb.ac.at/ABO/+Z253367704</td>\n      <td>http://data.onb.ac.at/ABO/+Z158160208</td>\n      <td>0.086228</td>\n    </tr>\n    <tr>\n      <th>23</th>\n      <td>http://data.onb.ac.at/ABO/+Z168096506</td>\n      <td>http://data.onb.ac.at/ABO/+Z185143704</td>\n      <td>0.086227</td>\n    </tr>\n    <tr>\n      <th>24</th>\n      <td>http://data.onb.ac.at/ABO/+Z180628606</td>\n      <td>http://data.onb.ac.at/ABO/+Z168096506</td>\n      <td>0.086172</td>\n    </tr>\n    <tr>\n      <th>25</th>\n      <td>http://data.onb.ac.at/ABO/+Z180628606</td>\n      <td>http://data.onb.ac.at/ABO/+Z18514390X</td>\n      <td>0.085741</td>\n    </tr>\n    <tr>\n      <th>26</th>\n      <td>http://data.onb.ac.at/ABO/+Z165709803</td>\n      <td>http://data.onb.ac.at/ABO/+Z18514390X</td>\n      <td>0.084514</td>\n    </tr>\n    <tr>\n      <th>27</th>\n      <td>http://data.onb.ac.at/ABO/+Z178362103</td>\n      <td>http://data.onb.ac.at/ABO/+Z185158008</td>\n      <td>0.084510</td>\n    </tr>\n    <tr>\n      <th>28</th>\n      <td>http://data.onb.ac.at/ABO/+Z168096506</td>\n      <td>http://data.onb.ac.at/ABO/+Z185158008</td>\n      <td>0.084499</td>\n    </tr>\n    <tr>\n      <th>29</th>\n      <td>http://data.onb.ac.at/ABO/+Z168096506</td>\n      <td>http://data.onb.ac.at/ABO/+Z18514390X</td>\n      <td>0.084249</td>\n    </tr>\n    <tr>\n      <th>...</th>\n      <td>...</td>\n      <td>...</td>\n      <td>...</td>\n    </tr>\n    <tr>\n      <th>59</th>\n      <td>http://data.onb.ac.at/ABO/+Z180628606</td>\n      <td>http://data.onb.ac.at/ABO/+Z160260500</td>\n      <td>0.071257</td>\n    </tr>\n    <tr>\n      <th>60</th>\n      <td>http://data.onb.ac.at/ABO/+Z185142001</td>\n      <td>http://data.onb.ac.at/ABO/+Z15958790X</td>\n      <td>0.071155</td>\n    </tr>\n    <tr>\n      <th>61</th>\n      <td>http://data.onb.ac.at/ABO/+Z167120604</td>\n      <td>http://data.onb.ac.at/ABO/+Z185158008</td>\n      <td>0.070966</td>\n    </tr>\n    <tr>\n      <th>62</th>\n      <td>http://data.onb.ac.at/ABO/+Z15958790X</td>\n      <td>http://data.onb.ac.at/ABO/+Z185157909</td>\n      <td>0.070873</td>\n    </tr>\n    <tr>\n      <th>63</th>\n      <td>http://data.onb.ac.at/ABO/+Z185142001</td>\n      <td>http://data.onb.ac.at/ABO/+Z185142104</td>\n      <td>0.070561</td>\n    </tr>\n    <tr>\n      <th>64</th>\n      <td>http://data.onb.ac.at/ABO/+Z185912505</td>\n      <td>http://data.onb.ac.at/ABO/+Z253367704</td>\n      <td>0.070331</td>\n    </tr>\n    <tr>\n      <th>65</th>\n      <td>http://data.onb.ac.at/ABO/+Z15958790X</td>\n      <td>http://data.onb.ac.at/ABO/+Z182822001</td>\n      <td>0.070085</td>\n    </tr>\n    <tr>\n      <th>66</th>\n      <td>http://data.onb.ac.at/ABO/+Z185912505</td>\n      <td>http://data.onb.ac.at/ABO/+Z185143704</td>\n      <td>0.070042</td>\n    </tr>\n    <tr>\n      <th>67</th>\n      <td>http://data.onb.ac.at/ABO/+Z185912505</td>\n      <td>http://data.onb.ac.at/ABO/+Z185157909</td>\n      <td>0.069962</td>\n    </tr>\n    <tr>\n      <th>68</th>\n      <td>http://data.onb.ac.at/ABO/+Z164172903</td>\n      <td>http://data.onb.ac.at/ABO/+Z185143704</td>\n      <td>0.069926</td>\n    </tr>\n    <tr>\n      <th>69</th>\n      <td>http://data.onb.ac.at/ABO/+Z158160208</td>\n      <td>http://data.onb.ac.at/ABO/+Z185158008</td>\n      <td>0.069904</td>\n    </tr>\n    <tr>\n      <th>70</th>\n      <td>http://data.onb.ac.at/ABO/+Z15958790X</td>\n      <td>http://data.onb.ac.at/ABO/+Z160260500</td>\n      <td>0.069844</td>\n    </tr>\n    <tr>\n      <th>71</th>\n      <td>http://data.onb.ac.at/ABO/+Z180628606</td>\n      <td>http://data.onb.ac.at/ABO/+Z185157107</td>\n      <td>0.069077</td>\n    </tr>\n    <tr>\n      <th>72</th>\n      <td>http://data.onb.ac.at/ABO/+Z163300909</td>\n      <td>http://data.onb.ac.at/ABO/+Z25647300X</td>\n      <td>0.069026</td>\n    </tr>\n    <tr>\n      <th>73</th>\n      <td>http://data.onb.ac.at/ABO/+Z160260500</td>\n      <td>http://data.onb.ac.at/ABO/+Z185157107</td>\n      <td>0.068847</td>\n    </tr>\n    <tr>\n      <th>74</th>\n      <td>http://data.onb.ac.at/ABO/+Z15958790X</td>\n      <td>http://data.onb.ac.at/ABO/+Z18514390X</td>\n      <td>0.068647</td>\n    </tr>\n    <tr>\n      <th>75</th>\n      <td>http://data.onb.ac.at/ABO/+Z182822001</td>\n      <td>http://data.onb.ac.at/ABO/+Z185158008</td>\n      <td>0.068581</td>\n    </tr>\n    <tr>\n      <th>76</th>\n      <td>http://data.onb.ac.at/ABO/+Z182822001</td>\n      <td>http://data.onb.ac.at/ABO/+Z185143704</td>\n      <td>0.067882</td>\n    </tr>\n    <tr>\n      <th>77</th>\n      <td>http://data.onb.ac.at/ABO/+Z156577207</td>\n      <td>http://data.onb.ac.at/ABO/+Z15657730X</td>\n      <td>0.067812</td>\n    </tr>\n    <tr>\n      <th>78</th>\n      <td>http://data.onb.ac.at/ABO/+Z182822001</td>\n      <td>http://data.onb.ac.at/ABO/+Z185157909</td>\n      <td>0.067211</td>\n    </tr>\n    <tr>\n      <th>79</th>\n      <td>http://data.onb.ac.at/ABO/+Z164172903</td>\n      <td>http://data.onb.ac.at/ABO/+Z185158008</td>\n      <td>0.066749</td>\n    </tr>\n    <tr>\n      <th>80</th>\n      <td>http://data.onb.ac.at/ABO/+Z185912505</td>\n      <td>http://data.onb.ac.at/ABO/+Z185158008</td>\n      <td>0.066495</td>\n    </tr>\n    <tr>\n      <th>81</th>\n      <td>http://data.onb.ac.at/ABO/+Z185142001</td>\n      <td>http://data.onb.ac.at/ABO/+Z182822001</td>\n      <td>0.066248</td>\n    </tr>\n    <tr>\n      <th>82</th>\n      <td>http://data.onb.ac.at/ABO/+Z160260500</td>\n      <td>http://data.onb.ac.at/ABO/+Z158160208</td>\n      <td>0.066078</td>\n    </tr>\n    <tr>\n      <th>83</th>\n      <td>http://data.onb.ac.at/ABO/+Z25647300X</td>\n      <td>http://data.onb.ac.at/ABO/+Z185143704</td>\n      <td>0.065823</td>\n    </tr>\n    <tr>\n      <th>84</th>\n      <td>http://data.onb.ac.at/ABO/+Z163300909</td>\n      <td>http://data.onb.ac.at/ABO/+Z180628606</td>\n      <td>0.065262</td>\n    </tr>\n    <tr>\n      <th>85</th>\n      <td>http://data.onb.ac.at/ABO/+Z163300909</td>\n      <td>http://data.onb.ac.at/ABO/+Z185143704</td>\n      <td>0.065249</td>\n    </tr>\n    <tr>\n      <th>86</th>\n      <td>http://data.onb.ac.at/ABO/+Z168091302</td>\n      <td>http://data.onb.ac.at/ABO/+Z18514390X</td>\n      <td>0.065153</td>\n    </tr>\n    <tr>\n      <th>87</th>\n      <td>http://data.onb.ac.at/ABO/+Z167120604</td>\n      <td>http://data.onb.ac.at/ABO/+Z185143704</td>\n      <td>0.065102</td>\n    </tr>\n    <tr>\n      <th>88</th>\n      <td>http://data.onb.ac.at/ABO/+Z18514390X</td>\n      <td>http://data.onb.ac.at/ABO/+Z184140306</td>\n      <td>0.065024</td>\n    </tr>\n  </tbody>\n</table>\n<p>89 rows × 3 columns</p>\n</div>",
      "text/plain": "                                    url_a  \\\n0   http://data.onb.ac.at/ABO/+Z180628606   \n1   http://data.onb.ac.at/ABO/+Z158160208   \n2   http://data.onb.ac.at/ABO/+Z185157909   \n3   http://data.onb.ac.at/ABO/+Z182822001   \n4   http://data.onb.ac.at/ABO/+Z180628606   \n5   http://data.onb.ac.at/ABO/+Z18514390X   \n6   http://data.onb.ac.at/ABO/+Z185142207   \n7   http://data.onb.ac.at/ABO/+Z178362103   \n8   http://data.onb.ac.at/ABO/+Z185157107   \n9   http://data.onb.ac.at/ABO/+Z180628606   \n10  http://data.onb.ac.at/ABO/+Z185912505   \n11  http://data.onb.ac.at/ABO/+Z158160208   \n12  http://data.onb.ac.at/ABO/+Z185158008   \n13  http://data.onb.ac.at/ABO/+Z165709803   \n14  http://data.onb.ac.at/ABO/+Z185142001   \n15  http://data.onb.ac.at/ABO/+Z185157107   \n16  http://data.onb.ac.at/ABO/+Z185142001   \n17  http://data.onb.ac.at/ABO/+Z185157909   \n18  http://data.onb.ac.at/ABO/+Z163300909   \n19  http://data.onb.ac.at/ABO/+Z185157107   \n20  http://data.onb.ac.at/ABO/+Z178362103   \n21  http://data.onb.ac.at/ABO/+Z185142001   \n22  http://data.onb.ac.at/ABO/+Z253367704   \n23  http://data.onb.ac.at/ABO/+Z168096506   \n24  http://data.onb.ac.at/ABO/+Z180628606   \n25  http://data.onb.ac.at/ABO/+Z180628606   \n26  http://data.onb.ac.at/ABO/+Z165709803   \n27  http://data.onb.ac.at/ABO/+Z178362103   \n28  http://data.onb.ac.at/ABO/+Z168096506   \n29  http://data.onb.ac.at/ABO/+Z168096506   \n..                                    ...   \n59  http://data.onb.ac.at/ABO/+Z180628606   \n60  http://data.onb.ac.at/ABO/+Z185142001   \n61  http://data.onb.ac.at/ABO/+Z167120604   \n62  http://data.onb.ac.at/ABO/+Z15958790X   \n63  http://data.onb.ac.at/ABO/+Z185142001   \n64  http://data.onb.ac.at/ABO/+Z185912505   \n65  http://data.onb.ac.at/ABO/+Z15958790X   \n66  http://data.onb.ac.at/ABO/+Z185912505   \n67  http://data.onb.ac.at/ABO/+Z185912505   \n68  http://data.onb.ac.at/ABO/+Z164172903   \n69  http://data.onb.ac.at/ABO/+Z158160208   \n70  http://data.onb.ac.at/ABO/+Z15958790X   \n71  http://data.onb.ac.at/ABO/+Z180628606   \n72  http://data.onb.ac.at/ABO/+Z163300909   \n73  http://data.onb.ac.at/ABO/+Z160260500   \n74  http://data.onb.ac.at/ABO/+Z15958790X   \n75  http://data.onb.ac.at/ABO/+Z182822001   \n76  http://data.onb.ac.at/ABO/+Z182822001   \n77  http://data.onb.ac.at/ABO/+Z156577207   \n78  http://data.onb.ac.at/ABO/+Z182822001   \n79  http://data.onb.ac.at/ABO/+Z164172903   \n80  http://data.onb.ac.at/ABO/+Z185912505   \n81  http://data.onb.ac.at/ABO/+Z185142001   \n82  http://data.onb.ac.at/ABO/+Z160260500   \n83  http://data.onb.ac.at/ABO/+Z25647300X   \n84  http://data.onb.ac.at/ABO/+Z163300909   \n85  http://data.onb.ac.at/ABO/+Z163300909   \n86  http://data.onb.ac.at/ABO/+Z168091302   \n87  http://data.onb.ac.at/ABO/+Z167120604   \n88  http://data.onb.ac.at/ABO/+Z18514390X   \n\n                                    url_b     score  \n0   http://data.onb.ac.at/ABO/+Z253367704  0.141273  \n1   http://data.onb.ac.at/ABO/+Z176246604  0.121940  \n2   http://data.onb.ac.at/ABO/+Z185158008  0.117661  \n3   http://data.onb.ac.at/ABO/+Z18514390X  0.108850  \n4   http://data.onb.ac.at/ABO/+Z158160208  0.105781  \n5   http://data.onb.ac.at/ABO/+Z185143704  0.099772  \n6   http://data.onb.ac.at/ABO/+Z18514390X  0.099744  \n7   http://data.onb.ac.at/ABO/+Z18514390X  0.097520  \n8   http://data.onb.ac.at/ABO/+Z18514390X  0.096435  \n9   http://data.onb.ac.at/ABO/+Z185912505  0.095872  \n10  http://data.onb.ac.at/ABO/+Z158160208  0.095278  \n11  http://data.onb.ac.at/ABO/+Z18514390X  0.094868  \n12  http://data.onb.ac.at/ABO/+Z185143704  0.093439  \n13  http://data.onb.ac.at/ABO/+Z185912505  0.092999  \n14  http://data.onb.ac.at/ABO/+Z185158008  0.092886  \n15  http://data.onb.ac.at/ABO/+Z185158008  0.092444  \n16  http://data.onb.ac.at/ABO/+Z185157909  0.091906  \n17  http://data.onb.ac.at/ABO/+Z185143704  0.090709  \n18  http://data.onb.ac.at/ABO/+Z185142001  0.090668  \n19  http://data.onb.ac.at/ABO/+Z185143704  0.089240  \n20  http://data.onb.ac.at/ABO/+Z185143704  0.088920  \n21  http://data.onb.ac.at/ABO/+Z185157107  0.086500  \n22  http://data.onb.ac.at/ABO/+Z158160208  0.086228  \n23  http://data.onb.ac.at/ABO/+Z185143704  0.086227  \n24  http://data.onb.ac.at/ABO/+Z168096506  0.086172  \n25  http://data.onb.ac.at/ABO/+Z18514390X  0.085741  \n26  http://data.onb.ac.at/ABO/+Z18514390X  0.084514  \n27  http://data.onb.ac.at/ABO/+Z185158008  0.084510  \n28  http://data.onb.ac.at/ABO/+Z185158008  0.084499  \n29  http://data.onb.ac.at/ABO/+Z18514390X  0.084249  \n..                                    ...       ...  \n59  http://data.onb.ac.at/ABO/+Z160260500  0.071257  \n60  http://data.onb.ac.at/ABO/+Z15958790X  0.071155  \n61  http://data.onb.ac.at/ABO/+Z185158008  0.070966  \n62  http://data.onb.ac.at/ABO/+Z185157909  0.070873  \n63  http://data.onb.ac.at/ABO/+Z185142104  0.070561  \n64  http://data.onb.ac.at/ABO/+Z253367704  0.070331  \n65  http://data.onb.ac.at/ABO/+Z182822001  0.070085  \n66  http://data.onb.ac.at/ABO/+Z185143704  0.070042  \n67  http://data.onb.ac.at/ABO/+Z185157909  0.069962  \n68  http://data.onb.ac.at/ABO/+Z185143704  0.069926  \n69  http://data.onb.ac.at/ABO/+Z185158008  0.069904  \n70  http://data.onb.ac.at/ABO/+Z160260500  0.069844  \n71  http://data.onb.ac.at/ABO/+Z185157107  0.069077  \n72  http://data.onb.ac.at/ABO/+Z25647300X  0.069026  \n73  http://data.onb.ac.at/ABO/+Z185157107  0.068847  \n74  http://data.onb.ac.at/ABO/+Z18514390X  0.068647  \n75  http://data.onb.ac.at/ABO/+Z185158008  0.068581  \n76  http://data.onb.ac.at/ABO/+Z185143704  0.067882  \n77  http://data.onb.ac.at/ABO/+Z15657730X  0.067812  \n78  http://data.onb.ac.at/ABO/+Z185157909  0.067211  \n79  http://data.onb.ac.at/ABO/+Z185158008  0.066749  \n80  http://data.onb.ac.at/ABO/+Z185158008  0.066495  \n81  http://data.onb.ac.at/ABO/+Z182822001  0.066248  \n82  http://data.onb.ac.at/ABO/+Z158160208  0.066078  \n83  http://data.onb.ac.at/ABO/+Z185143704  0.065823  \n84  http://data.onb.ac.at/ABO/+Z180628606  0.065262  \n85  http://data.onb.ac.at/ABO/+Z185143704  0.065249  \n86  http://data.onb.ac.at/ABO/+Z18514390X  0.065153  \n87  http://data.onb.ac.at/ABO/+Z185143704  0.065102  \n88  http://data.onb.ac.at/ABO/+Z184140306  0.065024  \n\n[89 rows x 3 columns]"
     },
     "execution_count": 4,
     "metadata": {},
     "output_type": "execute_result"
    }
   ],
   "source": [
    "def to_url(barcode):\n",
    "  return f'http://data.onb.ac.at/ABO/+{barcode}'\n",
    "\n",
    "with_url = [ [ to_url(t[0]), to_url(t[1]), t[2] ] for t in intersection ]\n",
    "df = pd.DataFrame(with_url, columns = [ 'url_a', 'url_b', 'score' ])\n",
    "df"
   ]
  },
  {
   "cell_type": "code",
   "execution_count": null,
   "metadata": {},
   "outputs": [],
   "source": []
  }
 ]
}